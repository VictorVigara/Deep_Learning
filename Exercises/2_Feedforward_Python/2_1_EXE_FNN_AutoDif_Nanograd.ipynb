{
  "cells": [
    {
      "cell_type": "markdown",
      "metadata": {
        "id": "HAva8TnYFtFu"
      },
      "source": [
        "# Contents and why we need this lab\n",
        "\n",
        "This lab is about implementing neural networks yourself before we start using other frameworks that hide some of the computation from you. It builds on the first lab, where you derived the equations for neural network forward and backward propagation and gradient descent parameter updates. \n",
        "\n",
        "All the frameworks for deep learning you will meet from now on use automatic differentiation (autodiff), so you do not have to code the backward step yourself. In this version of this lab, you will develop your own autodif implementation. We also have an optional [version](https://github.com/DeepLearningDTU/02456-deep-learning-with-PyTorch/blob/master/2_Feedforward_Python/2.2-FNN-NumPy.ipynb) of this lab where you have to code the backward pass explicitly in Numpy."
      ]
    },
    {
      "cell_type": "markdown",
      "metadata": {
        "id": "sCa7HzwpFtFy"
      },
      "source": [
        "# External sources of information\n",
        "\n",
        "1. Jupyter notebook. You can find more information about Jupyter notebooks [here](https://jupyter.org/). It will come as part of the [Anaconda](https://www.anaconda.com/) Python installation. \n",
        "2. [NumPy](https://numpy.org/). Part of Anaconda distribution.  If you already know how to program, most things about Python and NumPy can be found with Google searches.\n",
        "3. [Nanograd](https://github.com/rasmusbergpalm/nanograd) is a minimalistic version of autodiff developed by Rasmus Berg Palm that we use for our framework.\n"
      ]
    },
    {
      "cell_type": "markdown",
      "metadata": {
        "id": "1SjiIp-TFtF0"
      },
      "source": [
        "# This notebook will follow the next steps:\n",
        "\n",
        "1. Nanograd automatic differentiation framework\n",
        "2. Finite difference method\n",
        "3. Data generation\n",
        "4. Defining and initializing the network\n",
        "5. Forward pass\n",
        "6. Training loop \n",
        "7. Testing your model\n",
        "8. Further extensions"
      ]
    },
    {
      "cell_type": "markdown",
      "metadata": {
        "id": "OyXeAA-HuT7s"
      },
      "source": [
        "# Nanograd automatic differention framework"
      ]
    },
    {
      "cell_type": "markdown",
      "metadata": {
        "id": "k6UWKCLKubgA"
      },
      "source": [
        "The [Nanograd](https://github.com/rasmusbergpalm/nanograd) framework defines a class Var which both holds a value and gradient value that we can use to store the intermediate values when we apply the chain rule of differentiation."
      ]
    },
    {
      "cell_type": "code",
      "execution_count": 129,
      "metadata": {
        "id": "Jd4CoEBNzNWS"
      },
      "outputs": [],
      "source": [
        "# Copy and pasted from https://github.com/rasmusbergpalm/nanograd/blob/3a1bf9e9e724da813bfccf91a6f309abdade9f39/nanograd.py\n",
        "\n",
        "from math import exp, log\n",
        "\n",
        "class Var:\n",
        "    \"\"\"\n",
        "    A variable which holds a float and enables gradient computations.\n",
        "    \"\"\"\n",
        "\n",
        "    def __init__(self, val: float, grad_fn=lambda: []):\n",
        "        assert type(val) == float\n",
        "        self.v = val\n",
        "        self.grad_fn = grad_fn\n",
        "        self.grad = 0.0\n",
        "\n",
        "    def backprop(self, bp):\n",
        "        self.grad += bp\n",
        "        for input, grad in self.grad_fn():\n",
        "            input.backprop(grad * bp)\n",
        "\n",
        "    def backward(self):\n",
        "        self.backprop(1.0)\n",
        "\n",
        "    def __add__(self: 'Var', other: 'Var') -> 'Var':\n",
        "        return Var(self.v + other.v, lambda: [(self, 1.0), (other, 1.0)])\n",
        "\n",
        "    def __mul__(self: 'Var', other: 'Var') -> 'Var':\n",
        "        return Var(self.v * other.v, lambda: [(self, other.v), (other, self.v)])\n",
        "\n",
        "    def __pow__(self, power):\n",
        "        assert type(power) in {float, int}, \"power must be float or int\"\n",
        "        return Var(self.v ** power, lambda: [(self, power * self.v ** (power - 1))])\n",
        "\n",
        "    def __neg__(self: 'Var') -> 'Var':\n",
        "        return Var(-1.0) * self\n",
        "\n",
        "    def __sub__(self: 'Var', other: 'Var') -> 'Var':\n",
        "        return self + (-other)\n",
        "\n",
        "    def __truediv__(self: 'Var', other: 'Var') -> 'Var':\n",
        "        return self * other ** -1\n",
        "\n",
        "    def __repr__(self):\n",
        "        return \"Var(v=%.4f, grad=%.4f)\" % (self.v, self.grad)\n",
        "\n",
        "    def relu(self):\n",
        "        return Var(self.v if self.v > 0.0 else 0.0, lambda: [(self, 1.0 if self.v > 0.0 else 0.0)])\n",
        "  \n",
        "    # Added activation functions\n",
        "    def identity(self):\n",
        "        return Var(self.v,lambda: [(self, 1.0)] )\n",
        "\n",
        "    def tanh(self):\n",
        "        t = float(np.tanh(self.v))\n",
        "        return Var(t,lambda: [(self, 1.0-t**2)])\n",
        "\n",
        "    def sigmoid(self):\n",
        "        s = float(1/(1+np.exp(-self.v)))\n",
        "        return Var(s,lambda: [(self,s*(1-s))])\n",
        "\n",
        "\n",
        "    def exp(self):\n",
        "        return Var(exp(self.v), lambda: [(self, exp(self.v))])\n",
        "\n",
        "    def log(self):\n",
        "        return Var(log(self.v), lambda: [(self, self.v ** -1)])\n",
        "\n"
      ]
    },
    {
      "cell_type": "markdown",
      "metadata": {
        "id": "yDX67D6jzcte"
      },
      "source": [
        "A few examples illustrate how we can use this:"
      ]
    },
    {
      "cell_type": "code",
      "execution_count": 3,
      "metadata": {
        "colab": {
          "base_uri": "https://localhost:8080/"
        },
        "id": "xk6PeLc3zwPT",
        "outputId": "c91e346c-b3d1-46cd-c4fb-1ee2b9e90276"
      },
      "outputs": [
        {
          "output_type": "stream",
          "name": "stdout",
          "text": [
            "Var(v=3.0000, grad=0.0000)\n",
            "Var(v=5.0000, grad=0.0000)\n",
            "Var(v=15.0000, grad=0.0000)\n",
            "Var(v=3.0000, grad=5.0000)\n",
            "Var(v=5.0000, grad=3.0000)\n",
            "Var(v=15.0000, grad=1.0000)\n"
          ]
        }
      ],
      "source": [
        "a = Var(3.0)\n",
        "print(a)\n",
        "b = Var(5.0)\n",
        "print(b)\n",
        "f = a * b\n",
        "print(f)\n",
        "\n",
        "f.backward()\n",
        "\n",
        "for v in [a, b, f]:\n",
        "    print(v)"
      ]
    },
    {
      "cell_type": "code",
      "execution_count": 4,
      "metadata": {
        "colab": {
          "base_uri": "https://localhost:8080/"
        },
        "id": "JmKhYgsY0g_o",
        "outputId": "e73111d3-3e72-4427-a4d6-050d2db4d82b"
      },
      "outputs": [
        {
          "output_type": "stream",
          "name": "stdout",
          "text": [
            "Var(v=3.0000, grad=14.0000)\n",
            "Var(v=5.0000, grad=3.0000)\n",
            "Var(v=15.0000, grad=1.0000)\n",
            "Var(v=9.0000, grad=3.0000)\n",
            "Var(v=27.0000, grad=1.0000)\n",
            "Var(v=42.0000, grad=1.0000)\n"
          ]
        }
      ],
      "source": [
        "a = Var(3.0)\n",
        "b = Var(5.0)\n",
        "c = a * b\n",
        "d = Var(9.0)\n",
        "e = a * d\n",
        "f = c + e\n",
        "\n",
        "f.backward()\n",
        "\n",
        "for v in [a, b, c, d, e, f]:\n",
        "    print(v)"
      ]
    },
    {
      "cell_type": "markdown",
      "metadata": {
        "id": "Fe3B6uEH140p"
      },
      "source": [
        "## Exercise a) What is being calculated?\n",
        "\n",
        "Explain briefly the output of the code? What is the expression we differentiate and with respect to what variables?\n",
        "\n",
        "The expression that is differentiated is f (the one to which is applied the backword method). The derivative is made with respect to the variables that are defined with Var class and are inside the f function. "
      ]
    },
    {
      "cell_type": "markdown",
      "metadata": {
        "id": "q8_Q0t2I3Ruj"
      },
      "source": [
        "## Exercise b) How does the backward function work?\n",
        "\n",
        "You need to understand how the backward function calculates the gradients. We can use the two examples above to help with that.\n",
        "\n",
        "Go through the following four steps and answer the questions on the way:\n",
        "\n",
        "1. We represent the two expressions as graphs as shown below. Fill in the missing expressions for the different derivatives.\n",
        "\n",
        "2. In the remainder consider the first expression. Make a schematic of the data structure which is generated when we define the expression for f. \n",
        "\n",
        "3. Then execute the backward function by hand to convince yourself that it indeed calculates the gradients with respect to the variables. \n",
        "\n",
        "4. Write down the sequence of calls to backprop."
      ]
    },
    {
      "cell_type": "code",
      "execution_count": 5,
      "metadata": {
        "id": "idGr71jYXl26"
      },
      "outputs": [],
      "source": [
        "# import logging\n",
        "import graphviz\n",
        "\n",
        "#logging.basicConfig(format='[%(levelname)s@%(name)s] %(message)s', level=logging.DEBUG)\n",
        "\n",
        "#graphviz.__version__, graphviz.version()"
      ]
    },
    {
      "cell_type": "code",
      "execution_count": 6,
      "metadata": {
        "colab": {
          "base_uri": "https://localhost:8080/",
          "height": 151
        },
        "id": "KPe30Q2QXzeG",
        "outputId": "df79fdab-f727-42c4-bdf1-b310862bde1a"
      },
      "outputs": [
        {
          "output_type": "execute_result",
          "data": {
            "text/plain": [
              "<graphviz.dot.Digraph at 0x7fadf50ec2d0>"
            ],
            "image/svg+xml": "<?xml version=\"1.0\" encoding=\"UTF-8\" standalone=\"no\"?>\n<!DOCTYPE svg PUBLIC \"-//W3C//DTD SVG 1.1//EN\"\n \"http://www.w3.org/Graphics/SVG/1.1/DTD/svg11.dtd\">\n<!-- Generated by graphviz version 2.40.1 (20161225.0304)\n -->\n<!-- Title: first expression Pages: 1 -->\n<svg width=\"163pt\" height=\"98pt\"\n viewBox=\"0.00 0.00 163.00 98.00\" xmlns=\"http://www.w3.org/2000/svg\" xmlns:xlink=\"http://www.w3.org/1999/xlink\">\n<g id=\"graph0\" class=\"graph\" transform=\"scale(1 1) rotate(0) translate(4 94)\">\n<title>first expression</title>\n<polygon fill=\"#ffffff\" stroke=\"transparent\" points=\"-4,4 -4,-94 159,-94 159,4 -4,4\"/>\n<!-- a -->\n<g id=\"node1\" class=\"node\">\n<title>a</title>\n<ellipse fill=\"none\" stroke=\"#000000\" cx=\"18\" cy=\"-72\" rx=\"18\" ry=\"18\"/>\n<text text-anchor=\"middle\" x=\"18\" y=\"-68.3\" font-family=\"Times,serif\" font-size=\"14.00\" fill=\"#000000\">a</text>\n</g>\n<!-- f -->\n<g id=\"node2\" class=\"node\">\n<title>f</title>\n<ellipse fill=\"none\" stroke=\"#000000\" cx=\"137\" cy=\"-45\" rx=\"18\" ry=\"18\"/>\n<text text-anchor=\"middle\" x=\"137\" y=\"-41.3\" font-family=\"Times,serif\" font-size=\"14.00\" fill=\"#000000\">f</text>\n</g>\n<!-- a&#45;&gt;f -->\n<g id=\"edge1\" class=\"edge\">\n<title>a&#45;&gt;f</title>\n<path fill=\"none\" stroke=\"#000000\" d=\"M35.5589,-68.0161C55.0696,-63.5892 86.8223,-56.3849 109.6075,-51.2151\"/>\n<polygon fill=\"#000000\" stroke=\"#000000\" points=\"110.3914,-54.6263 119.3691,-49.0003 108.8425,-47.7998 110.3914,-54.6263\"/>\n<text text-anchor=\"middle\" x=\"77.5\" y=\"-66.8\" font-family=\"Times,serif\" font-size=\"14.00\" fill=\"#000000\">df/da=5</text>\n</g>\n<!-- b -->\n<g id=\"node3\" class=\"node\">\n<title>b</title>\n<ellipse fill=\"none\" stroke=\"#000000\" cx=\"18\" cy=\"-18\" rx=\"18\" ry=\"18\"/>\n<text text-anchor=\"middle\" x=\"18\" y=\"-14.3\" font-family=\"Times,serif\" font-size=\"14.00\" fill=\"#000000\">b</text>\n</g>\n<!-- b&#45;&gt;f -->\n<g id=\"edge2\" class=\"edge\">\n<title>b&#45;&gt;f</title>\n<path fill=\"none\" stroke=\"#000000\" d=\"M35.9295,-20.8903C52.8213,-23.7466 78.7823,-28.4807 101,-34 104.0107,-34.7479 107.1426,-35.5967 110.2474,-36.4832\"/>\n<polygon fill=\"#000000\" stroke=\"#000000\" points=\"109.3072,-39.8551 119.8907,-39.3663 111.3124,-33.1484 109.3072,-39.8551\"/>\n<text text-anchor=\"middle\" x=\"77.5\" y=\"-37.8\" font-family=\"Times,serif\" font-size=\"14.00\" fill=\"#000000\">df/db=3</text>\n</g>\n</g>\n</svg>\n"
          },
          "metadata": {},
          "execution_count": 6
        }
      ],
      "source": [
        "e1 = graphviz.Digraph('first expression', filename='fsm.gv')\n",
        "\n",
        "e1.attr(rankdir='LR', size='8,5')\n",
        "\n",
        "e1.attr('node', shape='circle')\n",
        "e1.edge('a', 'f', label='df/da=5')\n",
        "e1.edge('b', 'f', label='df/db=3')\n",
        "\n",
        "e1"
      ]
    },
    {
      "cell_type": "code",
      "execution_count": 7,
      "metadata": {
        "colab": {
          "base_uri": "https://localhost:8080/",
          "height": 231
        },
        "id": "0nittR-mZFeX",
        "outputId": "50b1b20e-cad1-4418-87ed-c259ea8f4e44"
      },
      "outputs": [
        {
          "output_type": "execute_result",
          "data": {
            "text/plain": [
              "<graphviz.dot.Digraph at 0x7fadf51108d0>"
            ],
            "image/svg+xml": "<?xml version=\"1.0\" encoding=\"UTF-8\" standalone=\"no\"?>\n<!DOCTYPE svg PUBLIC \"-//W3C//DTD SVG 1.1//EN\"\n \"http://www.w3.org/Graphics/SVG/1.1/DTD/svg11.dtd\">\n<!-- Generated by graphviz version 2.40.1 (20161225.0304)\n -->\n<!-- Title: second expression Pages: 1 -->\n<svg width=\"283pt\" height=\"158pt\"\n viewBox=\"0.00 0.00 283.00 158.00\" xmlns=\"http://www.w3.org/2000/svg\" xmlns:xlink=\"http://www.w3.org/1999/xlink\">\n<g id=\"graph0\" class=\"graph\" transform=\"scale(1 1) rotate(0) translate(4 154)\">\n<title>second expression</title>\n<polygon fill=\"#ffffff\" stroke=\"transparent\" points=\"-4,4 -4,-154 279,-154 279,4 -4,4\"/>\n<!-- a -->\n<g id=\"node1\" class=\"node\">\n<title>a</title>\n<ellipse fill=\"none\" stroke=\"#000000\" cx=\"18\" cy=\"-75\" rx=\"18\" ry=\"18\"/>\n<text text-anchor=\"middle\" x=\"18\" y=\"-71.3\" font-family=\"Times,serif\" font-size=\"14.00\" fill=\"#000000\">a</text>\n</g>\n<!-- c -->\n<g id=\"node2\" class=\"node\">\n<title>c</title>\n<ellipse fill=\"none\" stroke=\"#000000\" cx=\"139\" cy=\"-102\" rx=\"18\" ry=\"18\"/>\n<text text-anchor=\"middle\" x=\"139\" y=\"-98.3\" font-family=\"Times,serif\" font-size=\"14.00\" fill=\"#000000\">c</text>\n</g>\n<!-- a&#45;&gt;c -->\n<g id=\"edge1\" class=\"edge\">\n<title>a&#45;&gt;c</title>\n<path fill=\"none\" stroke=\"#000000\" d=\"M35.5944,-78.926C55.4884,-83.3652 88.1343,-90.6498 111.4223,-95.8463\"/>\n<polygon fill=\"#000000\" stroke=\"#000000\" points=\"110.8621,-99.3073 121.3843,-98.0692 112.3866,-92.4753 110.8621,-99.3073\"/>\n<text text-anchor=\"middle\" x=\"78.5\" y=\"-96.8\" font-family=\"Times,serif\" font-size=\"14.00\" fill=\"#000000\">dc/da=5</text>\n</g>\n<!-- e -->\n<g id=\"node4\" class=\"node\">\n<title>e</title>\n<ellipse fill=\"none\" stroke=\"#000000\" cx=\"139\" cy=\"-48\" rx=\"18\" ry=\"18\"/>\n<text text-anchor=\"middle\" x=\"139\" y=\"-44.3\" font-family=\"Times,serif\" font-size=\"14.00\" fill=\"#000000\">e</text>\n</g>\n<!-- a&#45;&gt;e -->\n<g id=\"edge3\" class=\"edge\">\n<title>a&#45;&gt;e</title>\n<path fill=\"none\" stroke=\"#000000\" d=\"M35.1054,-69.3508C41.0478,-67.5012 47.781,-65.5305 54,-64 72.7788,-59.3786 94.1758,-55.3576 110.804,-52.5026\"/>\n<polygon fill=\"#000000\" stroke=\"#000000\" points=\"111.6826,-55.9042 120.9669,-50.8002 110.5261,-49.0004 111.6826,-55.9042\"/>\n<text text-anchor=\"middle\" x=\"78.5\" y=\"-67.8\" font-family=\"Times,serif\" font-size=\"14.00\" fill=\"#000000\">de/da=9</text>\n</g>\n<!-- f -->\n<g id=\"node6\" class=\"node\">\n<title>f</title>\n<ellipse fill=\"none\" stroke=\"#000000\" cx=\"257\" cy=\"-75\" rx=\"18\" ry=\"18\"/>\n<text text-anchor=\"middle\" x=\"257\" y=\"-71.3\" font-family=\"Times,serif\" font-size=\"14.00\" fill=\"#000000\">f</text>\n</g>\n<!-- c&#45;&gt;f -->\n<g id=\"edge5\" class=\"edge\">\n<title>c&#45;&gt;f</title>\n<path fill=\"none\" stroke=\"#000000\" d=\"M156.6658,-97.9578C175.8698,-93.5637 206.8151,-86.483 229.2661,-81.3459\"/>\n<polygon fill=\"#000000\" stroke=\"#000000\" points=\"230.2461,-84.7122 239.2134,-79.0698 228.6847,-77.8885 230.2461,-84.7122\"/>\n<text text-anchor=\"middle\" x=\"198\" y=\"-96.8\" font-family=\"Times,serif\" font-size=\"14.00\" fill=\"#000000\">df/dc=1</text>\n</g>\n<!-- b -->\n<g id=\"node3\" class=\"node\">\n<title>b</title>\n<ellipse fill=\"none\" stroke=\"#000000\" cx=\"18\" cy=\"-132\" rx=\"18\" ry=\"18\"/>\n<text text-anchor=\"middle\" x=\"18\" y=\"-128.3\" font-family=\"Times,serif\" font-size=\"14.00\" fill=\"#000000\">b</text>\n</g>\n<!-- b&#45;&gt;c -->\n<g id=\"edge2\" class=\"edge\">\n<title>b&#45;&gt;c</title>\n<path fill=\"none\" stroke=\"#000000\" d=\"M35.5944,-127.6377C55.4884,-122.7054 88.1343,-114.6113 111.4223,-108.8374\"/>\n<polygon fill=\"#000000\" stroke=\"#000000\" points=\"112.5205,-112.1712 121.3843,-106.3675 110.8359,-105.3769 112.5205,-112.1712\"/>\n<text text-anchor=\"middle\" x=\"78.5\" y=\"-125.8\" font-family=\"Times,serif\" font-size=\"14.00\" fill=\"#000000\">dc/db=3</text>\n</g>\n<!-- e&#45;&gt;f -->\n<g id=\"edge6\" class=\"edge\">\n<title>e&#45;&gt;f</title>\n<path fill=\"none\" stroke=\"#000000\" d=\"M157.0339,-50.9637C173.7278,-53.8381 199.1872,-58.555 221,-64 224.0098,-64.7513 227.1413,-65.6022 230.2457,-66.4899\"/>\n<polygon fill=\"#000000\" stroke=\"#000000\" points=\"229.3051,-69.8618 239.8887,-69.3744 231.3112,-63.1554 229.3051,-69.8618\"/>\n<text text-anchor=\"middle\" x=\"198\" y=\"-67.8\" font-family=\"Times,serif\" font-size=\"14.00\" fill=\"#000000\">df/de=1</text>\n</g>\n<!-- d -->\n<g id=\"node5\" class=\"node\">\n<title>d</title>\n<ellipse fill=\"none\" stroke=\"#000000\" cx=\"18\" cy=\"-18\" rx=\"18\" ry=\"18\"/>\n<text text-anchor=\"middle\" x=\"18\" y=\"-14.3\" font-family=\"Times,serif\" font-size=\"14.00\" fill=\"#000000\">d</text>\n</g>\n<!-- d&#45;&gt;e -->\n<g id=\"edge4\" class=\"edge\">\n<title>d&#45;&gt;e</title>\n<path fill=\"none\" stroke=\"#000000\" d=\"M36.0929,-20.8132C53.4278,-23.6971 80.2412,-28.6531 103,-35 106.0384,-35.8473 109.1877,-36.8274 112.3024,-37.8619\"/>\n<polygon fill=\"#000000\" stroke=\"#000000\" points=\"111.3612,-41.2409 121.956,-41.2558 113.6829,-34.6371 111.3612,-41.2409\"/>\n<text text-anchor=\"middle\" x=\"78.5\" y=\"-38.8\" font-family=\"Times,serif\" font-size=\"14.00\" fill=\"#000000\">de/dd=3</text>\n</g>\n</g>\n</svg>\n"
          },
          "metadata": {},
          "execution_count": 7
        }
      ],
      "source": [
        "e2 = graphviz.Digraph('second expression', filename='fsm.gv')\n",
        "\n",
        "e2.attr(rankdir='LR', size='8,5')\n",
        "\n",
        "e2.attr('node', shape='circle')\n",
        "e2.edge('a', 'c', label='dc/da=5')\n",
        "e2.edge('b', 'c', label='dc/db=3')\n",
        "e2.edge('a', 'e', label='de/da=9')\n",
        "e2.edge('d', 'e', label='de/dd=3')\n",
        "e2.edge('c', 'f', label='df/dc=1')\n",
        "e2.edge('e', 'f', label='df/de=1')\n",
        "\n",
        "e2"
      ]
    },
    {
      "cell_type": "markdown",
      "metadata": {
        "id": "A5oi21W4gpeM"
      },
      "source": [
        "## Exercise c) What happens if we run backward again?\n",
        "\n",
        "Try to execute the code below. Explain what happens. \\\\\n",
        "As backword method has been executed before (and partial derivatives are stored), when we execute it again, the partial derivatives of each variable are calculated again and added to the previous values. "
      ]
    },
    {
      "cell_type": "code",
      "execution_count": 8,
      "metadata": {
        "colab": {
          "base_uri": "https://localhost:8080/"
        },
        "id": "DCtpJyr-gyX1",
        "outputId": "745b1e00-f958-4f67-aac6-b1bcad7aa8d1"
      },
      "outputs": [
        {
          "output_type": "stream",
          "name": "stdout",
          "text": [
            "Var(v=3.0000, grad=28.0000)\n",
            "Var(v=5.0000, grad=6.0000)\n",
            "Var(v=15.0000, grad=2.0000)\n",
            "Var(v=9.0000, grad=6.0000)\n",
            "Var(v=27.0000, grad=2.0000)\n",
            "Var(v=42.0000, grad=2.0000)\n"
          ]
        }
      ],
      "source": [
        "f.backward()\n",
        "\n",
        "for v in [a, b, c, d, e, f]:\n",
        "    print(v)"
      ]
    },
    {
      "cell_type": "markdown",
      "metadata": {
        "id": "e8bPVq2VhsP-"
      },
      "source": [
        "## Exercise d) Zero gradient\n",
        "\n",
        "We can zero the gradient by backpropagating a -1.0 as is shown in the example below. (If you have run backward multiple time then you also have to run the cell below an equal amount of times.) Explain what is going on. \\\\\n",
        "\n",
        "When backpropagating a -1.0, the gradient has the inverse effect, so if we had ran before a backpropagation with 1.0, when running another backpropagation with -1.0 the gradients values are setted to zero. "
      ]
    },
    {
      "cell_type": "code",
      "execution_count": 9,
      "metadata": {
        "colab": {
          "base_uri": "https://localhost:8080/"
        },
        "id": "OnyPDQx9lJe0",
        "outputId": "b10154ef-e3a2-469d-fe40-4c16bc261d70"
      },
      "outputs": [
        {
          "output_type": "stream",
          "name": "stdout",
          "text": [
            "Var(v=2.0000, grad=0.0000)\n",
            "Var(v=5.0000, grad=6.0000)\n",
            "Var(v=15.0000, grad=2.0000)\n",
            "Var(v=9.0000, grad=6.0000)\n",
            "Var(v=27.0000, grad=2.0000)\n",
            "Var(v=42.0000, grad=2.0000)\n",
            "Var(v=2.0000, grad=0.0000)\n",
            "Var(v=5.0000, grad=3.0000)\n",
            "Var(v=15.0000, grad=1.0000)\n",
            "Var(v=9.0000, grad=3.0000)\n",
            "Var(v=27.0000, grad=1.0000)\n",
            "Var(v=42.0000, grad=1.0000)\n"
          ]
        }
      ],
      "source": [
        "a = Var(2.0)\n",
        "\n",
        "for v in [a, b, c, d, e, f]:\n",
        "    print(v)\n",
        "\n",
        "f.backprop(-1.0)\n",
        "\n",
        "for v in [a, b, c, d, e, f]:\n",
        "    print(v)"
      ]
    },
    {
      "cell_type": "markdown",
      "metadata": {
        "id": "U4057_ljNvWB"
      },
      "source": [
        "## Exercise e) Test correctness of derivatives with the finite difference \n",
        "\n",
        "Write a small function that uses [the finite difference method](https://en.wikipedia.org/wiki/Finite_difference_method) to numerically test that backpropation implementation is working. In short we will use\n",
        "$$\n",
        "\\frac{\\partial f(a)}{\\partial a} \\approx \\frac{f(a+da)-f(a)}{da}\n",
        "$$\n",
        "for $da \\ll 1$.\n",
        "\n",
        "As an example, we could approximate the derivative of the function $f(a)=a^2$ in e.g. the value $a=4$ using the finite difference method. This amounts to inserting the relevant values and approximating the gradient $f'(4)$ with the fraction above. \n"
      ]
    },
    {
      "cell_type": "code",
      "execution_count": 10,
      "metadata": {
        "colab": {
          "base_uri": "https://localhost:8080/"
        },
        "id": "9TGil92lSXDN",
        "outputId": "e181fed7-8c31-4f7c-bf11-129c17b30efd"
      },
      "outputs": [
        {
          "output_type": "stream",
          "name": "stdout",
          "text": [
            "Var(v=4.0000, grad=8.0000)\n",
            "Var(v=5.0000, grad=0.0000)\n",
            "Var(v=16.0000, grad=1.0000)\n",
            "8.000000661922968\n"
          ]
        }
      ],
      "source": [
        "# f function - try to change the code to test other types of functions as well (such as different polynomials etc.)\n",
        "def f_function(a):\n",
        "  a = Var(a)\n",
        "  b = Var(5.0)\n",
        "  f = a **2\n",
        "  f.backward()\n",
        "  return a,b,f\n",
        "\n",
        "for v in f_function(4.0):\n",
        "  print(v)\n",
        "\n",
        "# Insert your finite difference code here\n",
        "def finite_difference(da=1e-10):\n",
        "    \"\"\"\n",
        "    This function compute the finite difference between\n",
        "    \n",
        "    Input:\n",
        "    da:          The finite difference                           (float)\n",
        "    \n",
        "    Output:\n",
        "    finite_difference: numerical approximation to the derivative (float) \n",
        "    \"\"\"\n",
        "    a = 4.0\n",
        "\n",
        "    fa_da = (a+da)**2           # <- Insert correct expression\n",
        "    fa =   a**2         # <- Insert correct expression\n",
        "\n",
        "    finite_difference = (fa_da - fa) / da\n",
        "    \n",
        "    return finite_difference\n",
        "\n",
        "print(finite_difference())"
      ]
    },
    {
      "cell_type": "markdown",
      "metadata": {
        "id": "6pZar5RKaUkg"
      },
      "source": [
        "# Create an artificial dataset to play with\n",
        "\n",
        "We create a non-linear 1d regression task. The generator supports various noise levels and it creates train, validation and test sets. You can modify it yourself if you want more or less challenging tasks."
      ]
    },
    {
      "cell_type": "code",
      "execution_count": 11,
      "metadata": {
        "id": "Y6yfMAQ8aduj"
      },
      "outputs": [],
      "source": [
        "import numpy as np\n",
        "import matplotlib.pyplot as plt\n",
        "\n",
        "np.random.seed(42)"
      ]
    },
    {
      "cell_type": "code",
      "source": [
        "X = np.linspace(-3, 3, num=10).reshape(-1,1) # 1-D\n",
        "np.random.shuffle(X)\n",
        "y = np.random.normal((0.5*np.sin(X[:,0]*3) + X[:,0]), 0.1) # 1-D with trend\n",
        "print(X)\n",
        "print(np.shape(X))\n",
        "print(y)\n",
        "print(np.shape(y))\n",
        "data_set = np.vstack((X.T,y)).T\n",
        "print(data_set)\n",
        "train, validation, test = np.split(data_set, [int(0.35*10), int(0.7*10)], axis=0)\n",
        "print(train)\n",
        "print(train[:,0])"
      ],
      "metadata": {
        "colab": {
          "base_uri": "https://localhost:8080/"
        },
        "id": "SgBf_Ukmw2A0",
        "outputId": "cc6b8999-9cc7-4003-c5a1-5a0311b5453d"
      },
      "execution_count": 12,
      "outputs": [
        {
          "output_type": "stream",
          "name": "stdout",
          "text": [
            "[[ 2.33333333]\n",
            " [-2.33333333]\n",
            " [ 0.33333333]\n",
            " [-3.        ]\n",
            " [ 1.66666667]\n",
            " [-1.66666667]\n",
            " [ 3.        ]\n",
            " [-0.33333333]\n",
            " [-1.        ]\n",
            " [ 1.        ]]\n",
            "(10, 1)\n",
            "[ 2.68973076 -2.5607751   0.69598101 -3.25857622  1.13006651 -1.27961281\n",
            "  2.94480434 -0.65903186 -0.9889155   0.9181724 ]\n",
            "(10,)\n",
            "[[ 2.33333333  2.68973076]\n",
            " [-2.33333333 -2.5607751 ]\n",
            " [ 0.33333333  0.69598101]\n",
            " [-3.         -3.25857622]\n",
            " [ 1.66666667  1.13006651]\n",
            " [-1.66666667 -1.27961281]\n",
            " [ 3.          2.94480434]\n",
            " [-0.33333333 -0.65903186]\n",
            " [-1.         -0.9889155 ]\n",
            " [ 1.          0.9181724 ]]\n",
            "[[ 2.33333333  2.68973076]\n",
            " [-2.33333333 -2.5607751 ]\n",
            " [ 0.33333333  0.69598101]]\n",
            "[ 2.33333333 -2.33333333  0.33333333]\n"
          ]
        }
      ]
    },
    {
      "cell_type": "code",
      "execution_count": 94,
      "metadata": {
        "id": "4YabfD43ajNh"
      },
      "outputs": [],
      "source": [
        "def data_generator(noise=0.1, n_samples=300, D1=True):\n",
        "    # Create covariates and response variable\n",
        "    if D1:\n",
        "        X = np.linspace(-3, 3, num=n_samples).reshape(-1,1) # 1-D\n",
        "        np.random.shuffle(X)\n",
        "        y = np.random.normal((0.5*np.sin(X[:,0]*3) + X[:,0]), noise) # 1-D with trend\n",
        "    else:\n",
        "        X = np.random.multivariate_normal(np.zeros(3), noise*np.eye(3), size = n_samples) # 3-D\n",
        "        np.random.shuffle(X)    \n",
        "        y = np.sin(X[:,0]) - 5*(X[:,1]**2) + 0.5*X[:,2] # 3-D\n",
        "\n",
        "    # Stack them together vertically to split data set\n",
        "    data_set = np.vstack((X.T,y)).T\n",
        "    \n",
        "    train, validation, test = np.split(data_set, [int(0.35*n_samples), int(0.7*n_samples)], axis=0)\n",
        "    \n",
        "    # Standardization of the data, remember we do the standardization with the training set mean and standard deviation\n",
        "    train_mu = np.mean(train, axis=0)\n",
        "    train_sigma = np.std(train, axis=0)\n",
        "    \n",
        "    train = (train-train_mu)/train_sigma\n",
        "    validation = (validation-train_mu)/train_sigma\n",
        "    test = (test-train_mu)/train_sigma\n",
        "    \n",
        "    x_train, x_validation, x_test = train[:,:-1], validation[:,:-1], test[:,:-1]\n",
        "    y_train, y_validation, y_test = train[:,-1], validation[:,-1], test[:,-1]\n",
        "\n",
        "    return x_train, y_train,  x_validation, y_validation, x_test, y_test"
      ]
    },
    {
      "cell_type": "code",
      "execution_count": 95,
      "metadata": {
        "id": "u1oDngHLapIz"
      },
      "outputs": [],
      "source": [
        "D1 = True\n",
        "x_train, y_train,  x_validation, y_validation, x_test, y_test = data_generator(noise=0.5, D1=D1)"
      ]
    },
    {
      "cell_type": "code",
      "execution_count": 96,
      "metadata": {
        "colab": {
          "base_uri": "https://localhost:8080/",
          "height": 265
        },
        "id": "Ysfa3FsBavlm",
        "outputId": "1b08a0cb-7fd1-4ca2-9b9f-1394e3628ad0"
      },
      "outputs": [
        {
          "output_type": "display_data",
          "data": {
            "text/plain": [
              "<Figure size 432x288 with 1 Axes>"
            ],
            "image/png": "[encoded data removed]"
          },
          "metadata": {
            "needs_background": "light"
          }
        }
      ],
      "source": [
        "if D1:\n",
        "    plt.scatter(x_train[:,0], y_train);\n",
        "    plt.scatter(x_validation[:,0], y_validation);\n",
        "    plt.scatter(x_test[:,0], y_test);\n",
        "else:\n",
        "    plt.scatter(x_train[:,1], y_train);\n",
        "    plt.scatter(x_validation[:,1], y_validation);\n",
        "    plt.scatter(x_test[:,1], y_test);\n",
        "plt.show()"
      ]
    },
    {
      "cell_type": "code",
      "execution_count": 97,
      "metadata": {
        "id": "zac2HHNlgbpm",
        "colab": {
          "base_uri": "https://localhost:8080/"
        },
        "outputId": "b780108b-0e55-430c-9331-9367e7225180"
      },
      "outputs": [
        {
          "output_type": "stream",
          "name": "stdout",
          "text": [
            "(105, 1)\n"
          ]
        }
      ],
      "source": [
        "# convert from nparray to Var\n",
        "def nparray_to_Var(x):\n",
        "  if x.ndim==1:\n",
        "    y = [[Var(float(x[i]))] for i in range(x.shape[0])] # always work with list of list\n",
        "  else:\n",
        "    y = [[Var(float(x[i,j])) for j in range(x.shape[1])] for i in range(x.shape[0])]\n",
        "  return y\n",
        "   \n",
        "x_train = nparray_to_Var(x_train)\n",
        "print(np.shape(x_train))\n",
        "y_train = nparray_to_Var(y_train)\n",
        "x_validation = nparray_to_Var(x_validation)\n",
        "y_validation = nparray_to_Var(y_validation)\n",
        "x_test = nparray_to_Var(x_test)\n",
        "y_test = nparray_to_Var(y_test)"
      ]
    },
    {
      "cell_type": "markdown",
      "metadata": {
        "id": "VbjrqcpVFtGe"
      },
      "source": [
        "# Defining and initializing the network\n",
        "\n",
        "The steps to create a feed forward neural network are the following:\n",
        "\n",
        "1. **Number of hidden layer and hidden units**. We have to define the number of hidden units in each layer. The number of features in X and the output dimensionality (the size of Y) are given but the numbers in between are set by the researcher. Remember that for each unit in each layer beside in the input has a bias term.\n",
        "2. **Activation functions** for each hidden layer. Each hidden layer in your list must have an activation function (it can also be the linear activation which is equivalent to identity function). The power of neural networks comes from non-linear activation functions that learn representations (features) from the data allowing us to learn from it. \n",
        "3. **Parameter initialization**. We will initialize the weights to have random values. This is done in practice by drawing pseudo random numbers from a Gaussian or uniform distribution. It turns out that for deeper models we have to be careful about how we scale the random numbers. This will be the topic of the exercise below. For now we will just use unit variance Gaussians.  \n",
        "\n",
        "In order to make life easier for ourselves we define a DenseLayer class that takes care of initialization and the forward pass. We can also extend it later with print and advanced initialization capabilities. For the latter we have introduced a Initializer class.\n",
        "\n",
        "Note that we use Sequence in the code below. A Sequence is an ordered list. This means the order we insert and access items are the same."
      ]
    },
    {
      "cell_type": "code",
      "execution_count": 17,
      "metadata": {
        "id": "ij_ieRsAt7Xt"
      },
      "outputs": [],
      "source": [
        "class Initializer:\n",
        "\n",
        "  def init_weights(self, n_in, n_out):\n",
        "    raise NotImplementedError\n",
        "\n",
        "  def init_bias(self, n_out):\n",
        "    raise NotImplementedError"
      ]
    },
    {
      "cell_type": "code",
      "execution_count": 18,
      "metadata": {
        "id": "eb18N5phuIha"
      },
      "outputs": [],
      "source": [
        "import random\n",
        "\n",
        "class NormalInitializer(Initializer):\n",
        "\n",
        "  def __init__(self, mean=0, std=0.1):\n",
        "    self.mean = mean\n",
        "    self.std = std\n",
        "\n",
        "  def init_weights(self, n_in, n_out):\n",
        "    return [[Var(random.gauss(self.mean, self.std)) for _ in range(n_out)] for _ in range(n_in)]\n",
        "\n",
        "  def init_bias(self, n_out):\n",
        "    return [Var(0.0) for _ in range(n_out)]\n",
        "\n",
        "class ConstantInitializer(Initializer):\n",
        "\n",
        "  def __init__(self, weight=1.0, bias=0.0):\n",
        "    self.weight = weight\n",
        "    self.bias = bias\n",
        "\n",
        "  def init_weights(self, n_in, n_out):\n",
        "    return [[Var(self.weight) for _ in range(n_out)] for _ in range(n_in)]\n",
        "\n",
        "  def init_bias(self, n_out):\n",
        "    return [Var(self.bias) for _ in range(n_out)]"
      ]
    },
    {
      "cell_type": "code",
      "execution_count": 109,
      "metadata": {
        "id": "jOLYGnZKuM6W",
        "colab": {
          "base_uri": "https://localhost:8080/"
        },
        "outputId": "266d5d3e-6426-4dd9-d4e4-71e6e035b7f8"
      },
      "outputs": [
        {
          "output_type": "stream",
          "name": "stdout",
          "text": [
            "2\n"
          ]
        }
      ],
      "source": [
        "w = NormalInitializer().init_weights(3,2)\n",
        "print(len(w[0]))\n",
        "\n",
        "from typing import Sequence\n",
        "\n",
        "class DenseLayer:\n",
        "    def __init__(self, n_in: int, n_out: int, act_fn, initializer = NormalInitializer()):\n",
        "        self.weights = initializer.init_weights(n_in, n_out)\n",
        "        self.bias = initializer.init_bias(n_out)\n",
        "        self.act_fn = act_fn\n",
        "\n",
        "    def printLayerParameters(self):\n",
        "        print(\"Weights:\")\n",
        "        print(self.weights)\n",
        "        print(\"Bias\")\n",
        "        print(self.bias)\n",
        "        return 0\n",
        "      \n",
        "    \n",
        "    def __repr__(self):   \n",
        "        return 'Weights: ' + repr(self.weights) + ' Biases: ' + repr(self.bias)\n",
        "\n",
        "    def parameters(self) -> Sequence[Var]:\n",
        "      params = []\n",
        "      for r in self.weights:\n",
        "        params += r\n",
        "\n",
        "      return params + self.bias\n",
        "\n",
        "    def forward(self, single_input: Sequence[Var]) -> Sequence[Var]:\n",
        "        # self.weights is a matrix with dimension n_in x n_out. We check that the dimensionality of the input \n",
        "        # to the current layer matches the number of nodes in the current layer\n",
        "        assert len(self.weights) == len(single_input), \"weights and single_input must match in first dimension\"\n",
        "        weights = self.weights\n",
        "        bias = self.bias\n",
        "        out = []\n",
        "        # For some given data point single_input, we now want to calculate the resulting value in each node in the current layer\n",
        "        # We therefore loop over the (number of) nodes in the current layer:\n",
        "        for j in range(len(weights[0])): \n",
        "            # Initialize the node value depending on its corresponding parameters.\n",
        "            node = (bias[j]) # <- Insert code \n",
        "            # We now finish the linear transformation corresponding to the parameters of the currently considered node.\n",
        "            for i in range(len(single_input)):\n",
        "           # <- Insert code\n",
        "                node += (weights[i][j]*single_input[i])\n",
        "            node = self.act_fn(node)\n",
        "            out.append(node)\n",
        "\n",
        "        return out"
      ]
    },
    {
      "cell_type": "markdown",
      "metadata": {
        "id": "jpIZPBpNI0pO"
      },
      "source": [
        "## Exercise f) Add more activation functions\n",
        "\n",
        "To have a full definition of the neural network, we must define an activation function for every layer. Several activation functions have been proposed and have different characteristics. In the Var class we have already defined the rectified linear init (relu). \n",
        " \n",
        "Implement the following activation functions in the Var class:\n",
        "\n",
        "* Identity: $$\\mathrm{identity}(x) = x$$\n",
        "* Hyperbolic tangent: $$\\tanh(x)$$\n",
        "* Sigmoid (or logistic function): $$\\mathrm{sigmoid}(x) = \\frac{1}{1.0 + \\exp(-x ) }$$  Hint: $\\mathrm{sigmoid}'(x)= \\mathrm{sigmoid}(x)(1-\\mathrm{sigmoid}(x))$.  \n",
        "\n",
        "Hint: You can seek inspiration in the relu method in the Var class."
      ]
    },
    {
      "cell_type": "markdown",
      "metadata": {
        "id": "p_8n_SKnIW2F"
      },
      "source": [
        "## Exercise g) Complete the forward pass\n",
        "\n",
        "In the code below we initialize a 1-5-1 network and pass the training set through it. *The forward method in DenseLayer is **not** complete*. It just outputs zeros right now. The method forward should perform an [affine transformation](https://en.wikipedia.org/wiki/Affine_transformation) on the input followed by an application of the activation function."
      ]
    },
    {
      "cell_type": "code",
      "source": [
        "NN = [\n",
        "    DenseLayer(1, 5, lambda x: x.relu()),\n",
        "    DenseLayer(5, 1, lambda x: x.identity())\n",
        "]\n",
        "print(NN)\n"
      ],
      "metadata": {
        "colab": {
          "base_uri": "https://localhost:8080/"
        },
        "id": "c8cD7eyOcWIp",
        "outputId": "1905dcae-64fc-4b83-bfc7-666300bb3e5c"
      },
      "execution_count": 61,
      "outputs": [
        {
          "output_type": "stream",
          "name": "stdout",
          "text": [
            "[Weights: [[Var(v=-0.1035, grad=0.0000), Var(v=0.1492, grad=0.0000), Var(v=0.0289, grad=0.0000), Var(v=0.0543, grad=0.0000), Var(v=-0.1060, grad=0.0000)]] Biases: [Var(v=0.0000, grad=0.0000), Var(v=0.0000, grad=0.0000), Var(v=0.0000, grad=0.0000), Var(v=0.0000, grad=0.0000), Var(v=0.0000, grad=0.0000)], Weights: [[Var(v=0.0300, grad=0.0000)], [Var(v=0.0334, grad=0.0000)], [Var(v=-0.0481, grad=0.0000)], [Var(v=-0.0319, grad=0.0000)], [Var(v=0.0319, grad=0.0000)]] Biases: [Var(v=0.0000, grad=0.0000)]]\n"
          ]
        }
      ]
    },
    {
      "cell_type": "code",
      "execution_count": 104,
      "metadata": {
        "id": "xDEjtePxE7Mv",
        "colab": {
          "base_uri": "https://localhost:8080/"
        },
        "outputId": "1bc5ec5b-93e9-4b48-c2eb-6189e668a12b"
      },
      "outputs": [
        {
          "output_type": "stream",
          "name": "stdout",
          "text": [
            "[[Var(v=0.0112, grad=0.0000)], [Var(v=-0.0029, grad=0.0000)], [Var(v=0.0077, grad=0.0000)], [Var(v=0.0067, grad=0.0000)], [Var(v=0.0046, grad=0.0000)], [Var(v=0.0050, grad=0.0000)], [Var(v=-0.0055, grad=0.0000)], [Var(v=-0.0050, grad=0.0000)], [Var(v=-0.0022, grad=0.0000)], [Var(v=0.0086, grad=0.0000)], [Var(v=0.0106, grad=0.0000)], [Var(v=-0.0026, grad=0.0000)], [Var(v=0.0058, grad=0.0000)], [Var(v=-0.0044, grad=0.0000)], [Var(v=-0.0068, grad=0.0000)], [Var(v=0.0017, grad=0.0000)], [Var(v=0.0075, grad=0.0000)], [Var(v=-0.0077, grad=0.0000)], [Var(v=-0.0034, grad=0.0000)], [Var(v=-0.0030, grad=0.0000)], [Var(v=0.0059, grad=0.0000)], [Var(v=0.0009, grad=0.0000)], [Var(v=0.0044, grad=0.0000)], [Var(v=-0.0053, grad=0.0000)], [Var(v=0.0050, grad=0.0000)], [Var(v=-0.0067, grad=0.0000)], [Var(v=-0.0020, grad=0.0000)], [Var(v=-0.0003, grad=0.0000)], [Var(v=0.0032, grad=0.0000)], [Var(v=-0.0001, grad=0.0000)], [Var(v=0.0111, grad=0.0000)], [Var(v=0.0120, grad=0.0000)], [Var(v=0.0003, grad=0.0000)], [Var(v=0.0031, grad=0.0000)], [Var(v=-0.0000, grad=0.0000)], [Var(v=-0.0072, grad=0.0000)], [Var(v=-0.0003, grad=0.0000)], [Var(v=-0.0015, grad=0.0000)], [Var(v=0.0035, grad=0.0000)], [Var(v=-0.0078, grad=0.0000)], [Var(v=-0.0012, grad=0.0000)], [Var(v=0.0084, grad=0.0000)], [Var(v=0.0045, grad=0.0000)], [Var(v=-0.0007, grad=0.0000)], [Var(v=-0.0070, grad=0.0000)], [Var(v=-0.0040, grad=0.0000)], [Var(v=-0.0066, grad=0.0000)], [Var(v=0.0041, grad=0.0000)], [Var(v=0.0055, grad=0.0000)], [Var(v=0.0108, grad=0.0000)], [Var(v=0.0019, grad=0.0000)], [Var(v=-0.0020, grad=0.0000)], [Var(v=-0.0009, grad=0.0000)], [Var(v=-0.0057, grad=0.0000)], [Var(v=0.0060, grad=0.0000)], [Var(v=0.0107, grad=0.0000)], [Var(v=0.0092, grad=0.0000)], [Var(v=0.0004, grad=0.0000)], [Var(v=-0.0033, grad=0.0000)], [Var(v=-0.0035, grad=0.0000)], [Var(v=0.0083, grad=0.0000)], [Var(v=0.0081, grad=0.0000)], [Var(v=-0.0019, grad=0.0000)], [Var(v=0.0078, grad=0.0000)], [Var(v=-0.0028, grad=0.0000)], [Var(v=-0.0037, grad=0.0000)], [Var(v=-0.0016, grad=0.0000)], [Var(v=-0.0065, grad=0.0000)], [Var(v=-0.0004, grad=0.0000)], [Var(v=-0.0018, grad=0.0000)], [Var(v=-0.0029, grad=0.0000)], [Var(v=0.0116, grad=0.0000)], [Var(v=0.0088, grad=0.0000)], [Var(v=-0.0006, grad=0.0000)], [Var(v=-0.0025, grad=0.0000)], [Var(v=-0.0073, grad=0.0000)], [Var(v=-0.0052, grad=0.0000)], [Var(v=0.0038, grad=0.0000)], [Var(v=0.0036, grad=0.0000)], [Var(v=-0.0047, grad=0.0000)], [Var(v=-0.0037, grad=0.0000)], [Var(v=-0.0062, grad=0.0000)], [Var(v=-0.0013, grad=0.0000)], [Var(v=0.0090, grad=0.0000)], [Var(v=-0.0042, grad=0.0000)], [Var(v=0.0054, grad=0.0000)], [Var(v=0.0025, grad=0.0000)], [Var(v=-0.0031, grad=0.0000)], [Var(v=0.0124, grad=0.0000)], [Var(v=0.0088, grad=0.0000)], [Var(v=-0.0025, grad=0.0000)], [Var(v=-0.0051, grad=0.0000)], [Var(v=0.0023, grad=0.0000)], [Var(v=0.0037, grad=0.0000)], [Var(v=-0.0069, grad=0.0000)], [Var(v=0.0119, grad=0.0000)], [Var(v=0.0026, grad=0.0000)], [Var(v=-0.0023, grad=0.0000)], [Var(v=0.0079, grad=0.0000)], [Var(v=0.0083, grad=0.0000)], [Var(v=0.0053, grad=0.0000)], [Var(v=-0.0030, grad=0.0000)], [Var(v=-0.0035, grad=0.0000)], [Var(v=-0.0056, grad=0.0000)], [Var(v=-0.0024, grad=0.0000)]]\n"
          ]
        }
      ],
      "source": [
        "NN = [\n",
        "    DenseLayer(1, 5, lambda x: x.relu()),\n",
        "    DenseLayer(5, 1, lambda x: x.identity())\n",
        "]\n",
        "\n",
        "def forward(input, network):\n",
        "\n",
        "  def forward_single(x, network):\n",
        "    for layer in network:\n",
        "        x = layer.forward(x)\n",
        "    return x\n",
        "\n",
        "  output = [ forward_single(input[n], network) for n in range(len(input))]\n",
        "  return output\n",
        "\n",
        "print(forward(x_train, NN))\n"
      ]
    },
    {
      "cell_type": "markdown",
      "metadata": {
        "id": "oLrGJytZFtGm"
      },
      "source": [
        "## Exercise h) Print all network parameters\n",
        "\n",
        "Make a function that prints all the parameters of the network (weights and biases) with information about in which layer the appear. In the object oriented spirit you should introduce a method in the DenseLayer class to print the parameters of a layer. Hint: You can take inspiration from the corresponding method in Var. "
      ]
    },
    {
      "cell_type": "code",
      "execution_count": 111,
      "metadata": {
        "id": "iac-VwYGFtGm",
        "colab": {
          "base_uri": "https://localhost:8080/"
        },
        "outputId": "7d9a34dc-7685-4684-c939-948c2ec797b9"
      },
      "outputs": [
        {
          "output_type": "stream",
          "name": "stdout",
          "text": [
            "Parameters of 1 layer:\n",
            "Weights:\n",
            "[[Var(v=-0.0399, grad=0.0000), Var(v=0.0608, grad=0.0000), Var(v=0.0447, grad=0.0000), Var(v=-0.0018, grad=0.0000), Var(v=-0.0307, grad=0.0000)]]\n",
            "Bias\n",
            "[Var(v=0.0000, grad=0.0000), Var(v=0.0000, grad=0.0000), Var(v=0.0000, grad=0.0000), Var(v=0.0000, grad=0.0000), Var(v=0.0000, grad=0.0000)]\n",
            "Parameters of 2 layer:\n",
            "Weights:\n",
            "[[Var(v=-0.0104, grad=0.0000)], [Var(v=0.0403, grad=0.0000)], [Var(v=0.1042, grad=0.0000)], [Var(v=-0.1067, grad=0.0000)], [Var(v=-0.0036, grad=0.0000)]]\n",
            "Bias\n",
            "[Var(v=0.0000, grad=0.0000)]\n"
          ]
        }
      ],
      "source": [
        "NN = [\n",
        "    DenseLayer(1, 5, lambda x: x.relu()),\n",
        "    DenseLayer(5, 1, lambda x: x.identity())\n",
        "]\n",
        "# Insert code here and in the DenseLayer class\n",
        "def printNetworkParameters(network):\n",
        "    i = 0\n",
        "    for layer in network:\n",
        "      i += 1\n",
        "      print(\"Parameters of \" + str(i) + \" layer:\")\n",
        "      layer.printLayerParameters()\n",
        "\n",
        "printNetworkParameters(NN)\n"
      ]
    },
    {
      "cell_type": "markdown",
      "metadata": {
        "id": "_79HOAXrFtHK"
      },
      "source": [
        "## Visualization\n",
        "\n",
        "Now that we have defined our activation functions we can visualize them to see what they look like:"
      ]
    },
    {
      "cell_type": "code",
      "execution_count": 112,
      "metadata": {
        "id": "1FcylHqLTl-Z",
        "colab": {
          "base_uri": "https://localhost:8080/",
          "height": 283
        },
        "outputId": "5c1e2002-e23e-4b95-a85c-af5504e12d50"
      },
      "outputs": [
        {
          "output_type": "execute_result",
          "data": {
            "text/plain": [
              "[<matplotlib.lines.Line2D at 0x7fadea5b7a10>]"
            ]
          },
          "metadata": {},
          "execution_count": 112
        },
        {
          "output_type": "display_data",
          "data": {
            "text/plain": [
              "<Figure size 432x288 with 1 Axes>"
            ],
            "image/png": "[encoded data removed]"
          },
          "metadata": {
            "needs_background": "light"
          }
        }
      ],
      "source": [
        "x = np.linspace(-6, 6, 100)\n",
        "\n",
        "# convert from Var to ndarray  \n",
        "def Var_to_nparray(x):\n",
        "  y = np.zeros((len(x),len(x[0])))\n",
        "  for i in range(len(x)):\n",
        "    for j in range(len(x[0])):\n",
        "      y[i,j] = x[i][j].v\n",
        "  return y\n",
        "\n",
        "# define 1-1 network with weight = 1 and relu activation \n",
        "NN = [ DenseLayer(1, 1, lambda x: x.relu(), initializer = ConstantInitializer(1.0)) ] \n",
        "y = Var_to_nparray(forward(nparray_to_Var(x), NN))\n",
        "\n",
        "#y = Var_to_nparray(relu(nparray_to_Var(x)))\n",
        "plt.plot(x,y)"
      ]
    },
    {
      "cell_type": "code",
      "execution_count": 130,
      "metadata": {
        "id": "oOL2UolJFtHL",
        "colab": {
          "base_uri": "https://localhost:8080/",
          "height": 341
        },
        "outputId": "35a46029-5b67-4994-a417-4077df8002cf"
      },
      "outputs": [
        {
          "output_type": "display_data",
          "data": {
            "text/plain": [
              "<Figure size 360x360 with 1 Axes>"
            ],
            "image/png": "[encoded data removed]"
          },
          "metadata": {
            "needs_background": "light"
          }
        }
      ],
      "source": [
        "# Testing all activation layers\n",
        "\n",
        "x = np.linspace(-6, 6, 100)\n",
        "\n",
        "\n",
        "units = {\n",
        "    \"identity\": lambda x: x.identity(),\n",
        "    \"sigmoid\": lambda x: x.sigmoid(),\n",
        "    \"relu\": lambda x: x.relu(),\n",
        "    \"tanh\": lambda x: x.tanh()\n",
        "}\n",
        "\n",
        "plt.figure(figsize=(5, 5))\n",
        "[plt.plot(x, Var_to_nparray(forward(nparray_to_Var(x), [DenseLayer(1, 1, unit, initializer = ConstantInitializer(1.0))]) ), label=unit_name, lw=2) for unit_name, unit in units.items()] # unit(nparray_to_Var(x))), label=unit_name, lw=2) for unit_name, unit in units.items()]\n",
        "plt.legend(loc=2, fontsize=16)\n",
        "plt.title('Our activation functions', fontsize=20)\n",
        "plt.ylim([-2, 5])\n",
        "plt.xlim([-6, 6])\n",
        "plt.show()"
      ]
    },
    {
      "cell_type": "markdown",
      "metadata": {
        "id": "b-jdEl-7FtGs"
      },
      "source": [
        "# Advanced initialization schemes\n",
        "\n",
        "If we are not careful with initialization, the signals we propagate forward ($a^{(l)}$, $l=1,\\ldots,L$) and backward ($\\delta^l$, $l=L,L-1,\\ldots,1$) can blow up or shrink to zero. A statistical analysis of the variance of the signals for different activation functions can be found in these two papers: [Glorot initialization](http://proceedings.mlr.press/v9/glorot10a/glorot10a.pdf) and [He initialization](https://arxiv.org/pdf/1502.01852v1.pdf). \n",
        "\n",
        "The result of the analyses are proposals for how to make the initialization such that the variance of the signals (forward and backward) are kept approxmimatly constant when propagating from layer to layer. The exact expressions depend upon the non-linear activation function used. In Glorot initialization, the aim is to keep both the forward and backward variances constant whereas He only aims at keeping the variance in the forward pass constant.\n",
        "\n",
        "We define $n_{in}$ and $n_{out}$ as the number of input units and output units of a particular layer. \n",
        "\n",
        "The Glorot initialization has the form: \n",
        "\n",
        "$$w_{ij} \\sim N \\bigg( 0, \\, \\frac{2 \\alpha }{n_{in} + n_{out}} \\bigg) \\ . $$\n",
        "\n",
        "where $N(\\mu,\\sigma^2)$ is a Gaussian distribution with mean $\\mu$ and variance $\\sigma^2$ and $\\alpha$ is a parameter that depends upon the activation function used. For $\\tanh$, $\\alpha=1$ and for Rectified Linear Unit (ReLU) activations, $\\alpha=2$. (It is also possible to use a uniform distribution for initialization, see [this blog post](https://mmuratarat.github.io/2019-02-25/xavier-glorot-he-weight-init).) \n",
        "\n",
        "The He initialization is very similar\n",
        "\n",
        "$$w_{ij} \\sim N \\bigg( 0, \\, \\frac{\\alpha}{n_{in}} \\bigg) \\ . $$"
      ]
    },
    {
      "cell_type": "markdown",
      "metadata": {
        "id": "mqeyab9qFtGs"
      },
      "source": [
        "## Exercise i) Glorot and He initialization\n",
        " \n",
        "Using the Initializer class, implement functions that implement Glorot and He \n",
        "\n",
        "Explain briefly how you would test numerically that these initializations have the sought after property. Hint: See plots in Glorot paper.\n",
        "\n",
        "Comment: If you want to be more advanced then try to make a universal initializer taking both the activation function and type (Glorot or He) as argument."
      ]
    },
    {
      "cell_type": "code",
      "execution_count": 131,
      "metadata": {
        "id": "Qyk01CgaFtGt"
      },
      "outputs": [],
      "source": [
        "## Glorot\n",
        "def DenseLayer_Glorot_tanh(n_in: int, n_out: int):\n",
        "  a = 1 #tanh\n",
        "  std = 2*a/(n_in+n_out) # <- replace with proper initialization\n",
        "  return DenseLayer(n_in, n_out, lambda x: x.tanh(), initializer = NormalInitializer(std))\n",
        "\n",
        "## He\n",
        "def DenseLayer_He_relu(n_in: int, n_out: int):\n",
        "  a = 2 #relu\n",
        "  std = a/n_in # <- replace with proper initialization\n",
        "  return DenseLayer(n_in, n_out, lambda x: x.relu(), initializer = NormalInitializer(std))"
      ]
    },
    {
      "cell_type": "markdown",
      "metadata": {
        "id": "-XyXBD37FtHk"
      },
      "source": [
        "## Exercise j) Forward pass unit test\n",
        "\n",
        "Write a bit of code to make a unit test that the forward pass works. This can be done by defining a simple network with for example all weights equal to one (using the ConstantInitializer method) and identity activation functions. \n",
        "\n",
        "Hints: Use the [assert](https://www.w3schools.com/python/ref_keyword_assert.asp), the nparray_to_Var and the Var_to_nparray commands. "
      ]
    },
    {
      "cell_type": "code",
      "source": [],
      "metadata": {
        "id": "dd3qz9Ws3Dhl"
      },
      "execution_count": null,
      "outputs": []
    },
    {
      "cell_type": "code",
      "execution_count": 153,
      "metadata": {
        "id": "k0miqRUAFtHl"
      },
      "outputs": [],
      "source": [
        "# Insert code here\n",
        "x = np.array([1])\n",
        "n_layers = 5\n",
        "NN = [ DenseLayer(1, n_layers, lambda x: x.identity(), initializer = ConstantInitializer(1.0)), \n",
        "       DenseLayer(n_layers, 1, lambda x: x.identity(), initializer = ConstantInitializer(1.0))] \n",
        "y = Var_to_nparray(forward(nparray_to_Var(x), NN))\n",
        "\n",
        "assert (y) == n_layers, \"y should be the result of the sum of the hidden layers\""
      ]
    },
    {
      "cell_type": "markdown",
      "metadata": {
        "id": "faCxhfFnFtHp"
      },
      "source": [
        "# Loss functions\n",
        "\n",
        "We are only missing a loss function to we need to define a loss function and its derivative with respect to the output of the neural network $y$"
      ]
    },
    {
      "cell_type": "code",
      "execution_count": 154,
      "metadata": {
        "id": "I2eDYKvAFtHq"
      },
      "outputs": [],
      "source": [
        "def squared_loss(t, y):\n",
        "  \n",
        "  # add check that sizes agree\n",
        "  assert len(t) == len(y), \"t and y must be same length\"\n",
        "  \n",
        "  def squared_loss_single(t, y):\n",
        "    Loss = Var(0.0)\n",
        "    for i in range(len(t)): # sum over outputs\n",
        "      Loss += (t[i]-y[i]) ** 2\n",
        "    return Loss\n",
        "\n",
        "  Loss = Var(0.0)\n",
        "  for n in range(len(t)): # sum over training data\n",
        "    Loss += squared_loss_single(t[n],y[n])\n",
        "  return Loss"
      ]
    },
    {
      "cell_type": "markdown",
      "metadata": {
        "id": "SrwSJ2UWFtHu"
      },
      "source": [
        "## Exercise k) Implement cross entropy loss\n",
        "\n",
        "Insert code below to implement cross-entropy loss for general dimensionality of $t$. Use a logits formulation:\n",
        "$$\n",
        "\\rm{Loss} = - \\sum_i t_i \\, log \\, p_i \n",
        "$$\n",
        "with $p$ given by the the softmax function in terms of the logits $h$:\n",
        "$$\n",
        "p_i = \\frac{\\exp(h_i)}{\\sum_{i'} \\exp(h_{i'})} .\n",
        "$$\n",
        "Inserting $p$ in the expression for the loss gives\n",
        "$$\n",
        "\\rm{Loss} = - \\sum_i t_i h_i + \\rm{LogSumExp}(h) \\ ,\n",
        "$$\n",
        "where \n",
        "$$\n",
        "\\rm{LogSumExp}(h) = \\log \\sum_i \\exp h_i \\ .\n",
        "$$\n",
        "This is true for $t$ being a one-hot vector. \n",
        "\n",
        "Call the function to convince yourself it works. \n",
        "\n",
        "In practice you want to implement a [numerically stable](https://leimao.github.io/blog/LogSumExp/) version of LogSumExp. But we will not bother about that here.\n",
        "\n",
        "Help: You can add these methods in the Var class:\n",
        "\n",
        "    def exp(self):\n",
        "        return Var(exp(self.v), lambda: [(self, exp(self.v))])\n",
        "    \n",
        "    def log(self):\n",
        "        return Var(log(self.v), lambda: [(self, self.v ** -1)])"
      ]
    },
    {
      "cell_type": "code",
      "execution_count": 155,
      "metadata": {
        "id": "6nMuxyfzFtHv"
      },
      "outputs": [],
      "source": [
        "def cross_entropy_loss(t, h):\n",
        "     \n",
        "    Loss = Var(0.0)\n",
        "    # Insert code here\n",
        "    for i in range(len(t)):\n",
        "      Loss += t[i]*h[i]\n",
        "      sum_exp += exp(h[i])\n",
        "\n",
        "    Loss = Loss + log(sum_exp)\n",
        "    return Loss"
      ]
    },
    {
      "cell_type": "markdown",
      "metadata": {
        "id": "8fAF5ew4FtHy"
      },
      "source": [
        "# Backward pass\n",
        "\n",
        "Now the magic happens! We get the calculation of the gradients for free. Just do:"
      ]
    },
    {
      "cell_type": "code",
      "execution_count": 158,
      "metadata": {
        "id": "iHyfPPI9Qqwu",
        "colab": {
          "base_uri": "https://localhost:8080/"
        },
        "outputId": "2b873c97-9a5e-45d4-896f-fa631b0e7d09"
      },
      "outputs": [
        {
          "output_type": "stream",
          "name": "stdout",
          "text": [
            "Var(v=102.7071, grad=0.0000)\n"
          ]
        }
      ],
      "source": [
        "NN = [\n",
        "    DenseLayer(1, 5, lambda x: x.relu()),\n",
        "    DenseLayer(5, 1, lambda x: x.identity())\n",
        "]\n",
        "\n",
        "output = forward(x_train, NN)\n",
        "\n",
        "Loss = squared_loss(y_train,output)\n",
        "print(Loss)\n",
        "Loss.backward()"
      ]
    },
    {
      "cell_type": "markdown",
      "metadata": {
        "id": "49biIAYKQ1oG"
      },
      "source": [
        "and the gradients will be calculated:"
      ]
    },
    {
      "cell_type": "code",
      "execution_count": 159,
      "metadata": {
        "id": "_rGt1bq_Q7uk",
        "colab": {
          "base_uri": "https://localhost:8080/"
        },
        "outputId": "f8f37889-a139-4b42-d9d7-af9e1bcc9ac1"
      },
      "outputs": [
        {
          "output_type": "stream",
          "name": "stdout",
          "text": [
            "Layer 0 \n",
            " Weights: [[Var(v=-0.0488, grad=2.0946), Var(v=-0.0821, grad=8.0583), Var(v=0.0013, grad=7.6655), Var(v=0.0391, grad=-11.8898), Var(v=0.1322, grad=-8.0017)]] Biases: [Var(v=0.0000, grad=-1.8054), Var(v=0.0000, grad=-6.9459), Var(v=0.0000, grad=7.1290), Var(v=0.0000, grad=-11.0577), Var(v=0.0000, grad=-7.4416)]\n",
            "Layer 1 \n",
            " Weights: [[Var(v=-0.0204, grad=5.0005)], [Var(v=-0.0786, grad=8.4118)], [Var(v=-0.0814, grad=-0.1192)], [Var(v=0.1263, grad=-3.6828)], [Var(v=0.0850, grad=-12.4413)]] Biases: [Var(v=0.0000, grad=0.7851)]\n"
          ]
        },
        {
          "output_type": "execute_result",
          "data": {
            "text/plain": [
              "[None, None]"
            ]
          },
          "metadata": {},
          "execution_count": 159
        }
      ],
      "source": [
        "[print('Layer', i, '\\n', NN[i]) for i in range(len(NN))] "
      ]
    },
    {
      "cell_type": "markdown",
      "metadata": {
        "id": "D7d7qK0uFtH9"
      },
      "source": [
        "# Backward pass unit test\n",
        "\n",
        "Above we used finite differences to test that Nanograd is actually doing what it is supposed to do. We can in principle try the same for the neural network. But we will trust that the test above is enough."
      ]
    },
    {
      "cell_type": "markdown",
      "metadata": {
        "id": "WgBi8GOSFtIN"
      },
      "source": [
        "# Training and validation\n",
        "\n",
        "We are ready to train some neural networks!\n",
        "\n",
        "We initialize again:"
      ]
    },
    {
      "cell_type": "code",
      "execution_count": 160,
      "metadata": {
        "id": "01ePmzBzRtdh"
      },
      "outputs": [],
      "source": [
        "NN = [\n",
        "    DenseLayer(1, 15, lambda x: x.relu()),\n",
        "    DenseLayer(15, 50, lambda x: x.relu()),\n",
        "    DenseLayer(50, 1, lambda x: x.identity())\n",
        "]\n",
        "\n",
        "output = forward(x_train, NN)\n",
        "\n",
        "Loss = squared_loss(y_train,output)\n",
        "Loss.backward()"
      ]
    },
    {
      "cell_type": "markdown",
      "metadata": {
        "id": "10iRPiQ1ISHw"
      },
      "source": [
        "and make an update:\n",
        "\n",
        "We introduce a help function parameters to have a handle in all parameters in the network."
      ]
    },
    {
      "cell_type": "code",
      "execution_count": 161,
      "metadata": {
        "id": "dhAI7eyeznia",
        "colab": {
          "base_uri": "https://localhost:8080/"
        },
        "outputId": "58b9e73b-be4e-4d61-e5a0-5a1352dd59b3"
      },
      "outputs": [
        {
          "output_type": "stream",
          "name": "stdout",
          "text": [
            "Network before update:\n",
            "Layer 0 \n",
            " Weights: [[Var(v=0.1137, grad=-2.9133), Var(v=0.0067, grad=-1.7052), Var(v=-0.1540, grad=5.8396), Var(v=0.1327, grad=9.4405), Var(v=0.0278, grad=-4.6737), Var(v=0.0979, grad=2.0976), Var(v=-0.0387, grad=4.2622), Var(v=-0.0759, grad=1.1233), Var(v=0.0679, grad=-6.6677), Var(v=-0.0103, grad=-3.4226), Var(v=-0.0607, grad=4.7632), Var(v=-0.0896, grad=-2.7558), Var(v=-0.0780, grad=-3.8596), Var(v=0.1198, grad=-5.4280), Var(v=0.1040, grad=-7.8972)]] Biases: [Var(v=0.0000, grad=-2.7086), Var(v=0.0000, grad=-1.5854), Var(v=0.0000, grad=-5.0336), Var(v=0.0000, grad=8.7773), Var(v=0.0000, grad=-4.3454), Var(v=0.0000, grad=1.9503), Var(v=0.0000, grad=-3.6739), Var(v=0.0000, grad=-0.9683), Var(v=0.0000, grad=-6.1993), Var(v=0.0000, grad=2.9502), Var(v=0.0000, grad=-4.1058), Var(v=0.0000, grad=2.3754), Var(v=0.0000, grad=3.3268), Var(v=0.0000, grad=-5.0467), Var(v=0.0000, grad=-7.3424)]\n",
            "Layer 1 \n",
            " Weights: [[Var(v=0.0214, grad=0.0000), Var(v=0.1450, grad=-1.4339), Var(v=0.0770, grad=-1.9807), Var(v=-0.1511, grad=0.0000), Var(v=-0.0658, grad=2.0943), Var(v=0.0012, grad=0.0000), Var(v=-0.1020, grad=0.8841), Var(v=-0.0630, grad=0.0000), Var(v=-0.1283, grad=0.0000), Var(v=0.1514, grad=0.3372), Var(v=-0.0211, grad=0.0000), Var(v=0.0237, grad=0.0000), Var(v=0.0257, grad=0.0000), Var(v=-0.1373, grad=0.0000), Var(v=-0.0264, grad=0.7335), Var(v=0.0053, grad=-0.7020), Var(v=-0.1362, grad=0.0000), Var(v=0.0610, grad=0.0000), Var(v=0.0274, grad=0.3992), Var(v=0.1696, grad=1.2096), Var(v=-0.0046, grad=0.0000), Var(v=0.1367, grad=-1.7122), Var(v=0.1249, grad=0.0000), Var(v=0.0244, grad=0.8730), Var(v=-0.0699, grad=-2.8085), Var(v=-0.1295, grad=0.0000), Var(v=0.0143, grad=-1.4345), Var(v=0.0594, grad=-0.5726), Var(v=0.0358, grad=0.0000), Var(v=0.1609, grad=-0.2975), Var(v=-0.0442, grad=0.4934), Var(v=0.0368, grad=0.0000), Var(v=0.0192, grad=0.0000), Var(v=-0.0305, grad=-1.3883), Var(v=0.0341, grad=0.7679), Var(v=-0.2137, grad=0.0000), Var(v=-0.0519, grad=0.0000), Var(v=0.0405, grad=0.0000), Var(v=-0.0768, grad=1.3086), Var(v=0.0107, grad=0.9873), Var(v=-0.0181, grad=0.0000), Var(v=0.0249, grad=2.2309), Var(v=-0.0531, grad=0.0000), Var(v=0.1888, grad=0.7591), Var(v=-0.1575, grad=0.0000), Var(v=0.1821, grad=-0.0932), Var(v=-0.0142, grad=0.1815), Var(v=-0.2130, grad=0.1025), Var(v=0.0288, grad=0.6080), Var(v=-0.2189, grad=0.0000)], [Var(v=0.0255, grad=0.0000), Var(v=0.0433, grad=-0.0845), Var(v=0.0026, grad=-0.1167), Var(v=0.1884, grad=0.0000), Var(v=0.1016, grad=0.1234), Var(v=-0.0682, grad=0.0000), Var(v=0.0178, grad=0.0521), Var(v=0.0409, grad=0.0000), Var(v=0.0643, grad=0.0000), Var(v=-0.0539, grad=0.0199), Var(v=-0.1019, grad=0.0000), Var(v=0.0782, grad=0.0000), Var(v=0.1241, grad=0.0000), Var(v=-0.2192, grad=0.0000), Var(v=0.0755, grad=0.0432), Var(v=-0.0035, grad=-0.0414), Var(v=0.0523, grad=0.0000), Var(v=0.0005, grad=0.0000), Var(v=0.1214, grad=0.0235), Var(v=0.1099, grad=0.0713), Var(v=-0.2525, grad=0.0000), Var(v=0.2147, grad=-0.1009), Var(v=0.0126, grad=0.0000), Var(v=0.0982, grad=0.0514), Var(v=-0.0986, grad=-0.1655), Var(v=-0.0386, grad=0.0000), Var(v=0.1099, grad=-0.0845), Var(v=0.0787, grad=-0.0337), Var(v=0.0113, grad=0.0000), Var(v=-0.1082, grad=-0.0175), Var(v=-0.0802, grad=0.0291), Var(v=0.0438, grad=0.0000), Var(v=-0.1467, grad=0.0000), Var(v=0.1837, grad=-0.0818), Var(v=0.1229, grad=0.0452), Var(v=0.0600, grad=0.0000), Var(v=-0.0831, grad=0.0000), Var(v=-0.0731, grad=0.0000), Var(v=0.0272, grad=0.0771), Var(v=0.0283, grad=0.0582), Var(v=0.0338, grad=0.0000), Var(v=-0.1230, grad=0.1314), Var(v=-0.0497, grad=0.0000), Var(v=0.0322, grad=0.0447), Var(v=0.0800, grad=0.0000), Var(v=0.0397, grad=-0.0055), Var(v=0.1135, grad=0.0107), Var(v=0.1300, grad=0.0060), Var(v=-0.0729, grad=0.0358), Var(v=0.1972, grad=0.0000)], [Var(v=0.0126, grad=0.0000), Var(v=0.0623, grad=0.0000), Var(v=-0.0532, grad=0.0000), Var(v=-0.1795, grad=0.0000), Var(v=0.0271, grad=-3.0651), Var(v=-0.1632, grad=0.0000), Var(v=0.0895, grad=-1.2940), Var(v=-0.1581, grad=0.0000), Var(v=-0.1393, grad=0.0000), Var(v=-0.0937, grad=0.0000), Var(v=0.0409, grad=0.0671), Var(v=-0.1158, grad=0.0000), Var(v=-0.2357, grad=0.0000), Var(v=0.1143, grad=-4.2315), Var(v=0.1498, grad=-1.0735), Var(v=0.0471, grad=1.0274), Var(v=0.0233, grad=1.3505), Var(v=0.0487, grad=2.1069), Var(v=0.1195, grad=-0.5842), Var(v=0.1234, grad=-1.7703), Var(v=0.0827, grad=0.0000), Var(v=-0.0828, grad=0.0000), Var(v=-0.1462, grad=0.0000), Var(v=-0.1084, grad=0.0000), Var(v=-0.0077, grad=0.0000), Var(v=0.0826, grad=1.0164), Var(v=0.0525, grad=2.0995), Var(v=0.0885, grad=0.8380), Var(v=0.0585, grad=2.1255), Var(v=-0.0185, grad=0.4355), Var(v=0.1318, grad=-0.7222), Var(v=-0.0770, grad=0.0000), Var(v=-0.0191, grad=-1.3037), Var(v=0.0849, grad=2.0319), Var(v=-0.1115, grad=0.0000), Var(v=0.1667, grad=-0.3908), Var(v=-0.0945, grad=0.0000), Var(v=-0.0200, grad=0.0000), Var(v=0.0993, grad=0.0000), Var(v=-0.0874, grad=0.0000), Var(v=-0.0655, grad=0.0843), Var(v=0.0462, grad=-3.2651), Var(v=0.0848, grad=0.0000), Var(v=0.0605, grad=-1.1110), Var(v=0.0964, grad=-0.6142), Var(v=0.1341, grad=0.1365), Var(v=-0.0838, grad=0.0000), Var(v=0.0240, grad=-0.1500), Var(v=0.0261, grad=-0.8898), Var(v=0.0383, grad=-2.1729)], [Var(v=0.0333, grad=0.0000), Var(v=-0.0338, grad=-1.6732), Var(v=0.0102, grad=-2.3113), Var(v=0.0166, grad=0.0000), Var(v=0.1166, grad=2.4438), Var(v=0.0486, grad=0.0000), Var(v=-0.0474, grad=1.0317), Var(v=0.0512, grad=0.0000), Var(v=-0.1368, grad=0.0000), Var(v=-0.0016, grad=0.3935), Var(v=-0.1409, grad=0.0000), Var(v=-0.0947, grad=0.0000), Var(v=-0.0157, grad=0.0000), Var(v=-0.0547, grad=0.0000), Var(v=0.2595, grad=0.8559), Var(v=-0.0826, grad=-0.8191), Var(v=-0.0361, grad=0.0000), Var(v=-0.1027, grad=0.0000), Var(v=0.0312, grad=0.4658), Var(v=-0.0415, grad=1.4115), Var(v=-0.0485, grad=0.0000), Var(v=-0.0314, grad=-1.9980), Var(v=-0.0238, grad=0.0000), Var(v=0.1799, grad=1.0187), Var(v=-0.0081, grad=-3.2773), Var(v=-0.0206, grad=0.0000), Var(v=0.2740, grad=-1.6739), Var(v=-0.2379, grad=-0.6682), Var(v=-0.1828, grad=0.0000), Var(v=-0.0078, grad=-0.3472), Var(v=0.1445, grad=0.5758), Var(v=-0.0692, grad=0.0000), Var(v=-0.0528, grad=0.0000), Var(v=-0.0242, grad=-1.6200), Var(v=0.1209, grad=0.8960), Var(v=0.1284, grad=0.0000), Var(v=-0.1347, grad=0.0000), Var(v=-0.0992, grad=0.0000), Var(v=0.0713, grad=1.5270), Var(v=0.0489, grad=1.1521), Var(v=0.0796, grad=0.0000), Var(v=0.1389, grad=2.6032), Var(v=0.0287, grad=0.0000), Var(v=-0.0591, grad=0.8858), Var(v=-0.0747, grad=0.0000), Var(v=-0.0177, grad=-0.1088), Var(v=0.1025, grad=0.2117), Var(v=0.0943, grad=0.1196), Var(v=0.0323, grad=0.7094), Var(v=0.0620, grad=0.0000)], [Var(v=0.1002, grad=0.0000), Var(v=0.0024, grad=-0.3508), Var(v=0.1226, grad=-0.4845), Var(v=-0.0300, grad=0.0000), Var(v=-0.1606, grad=0.5123), Var(v=0.0447, grad=0.0000), Var(v=-0.1541, grad=0.2163), Var(v=-0.0430, grad=0.0000), Var(v=0.2023, grad=0.0000), Var(v=0.1732, grad=0.0825), Var(v=-0.0694, grad=0.0000), Var(v=-0.1855, grad=0.0000), Var(v=-0.0357, grad=0.0000), Var(v=0.1886, grad=0.0000), Var(v=0.0234, grad=0.1794), Var(v=0.0871, grad=-0.1717), Var(v=0.0080, grad=0.0000), Var(v=-0.1329, grad=0.0000), Var(v=0.1504, grad=0.0976), Var(v=0.0683, grad=0.2959), Var(v=-0.0232, grad=0.0000), Var(v=0.1703, grad=-0.4189), Var(v=0.0225, grad=0.0000), Var(v=0.2568, grad=0.2136), Var(v=0.0320, grad=-0.6870), Var(v=-0.0222, grad=0.0000), Var(v=0.1059, grad=-0.3509), Var(v=-0.1708, grad=-0.1401), Var(v=-0.1013, grad=0.0000), Var(v=-0.0740, grad=-0.0728), Var(v=0.1185, grad=0.1207), Var(v=0.0616, grad=0.0000), Var(v=-0.0997, grad=0.0000), Var(v=-0.0842, grad=-0.3396), Var(v=0.0071, grad=0.1878), Var(v=0.1179, grad=0.0000), Var(v=0.0466, grad=0.0000), Var(v=0.1163, grad=0.0000), Var(v=0.0624, grad=0.3201), Var(v=-0.0771, grad=0.2415), Var(v=-0.0448, grad=0.0000), Var(v=0.0151, grad=0.5457), Var(v=-0.0739, grad=0.0000), Var(v=0.0356, grad=0.1857), Var(v=0.0471, grad=0.0000), Var(v=-0.0680, grad=-0.0228), Var(v=0.0329, grad=0.0444), Var(v=-0.0427, grad=0.0251), Var(v=-0.0584, grad=0.1487), Var(v=-0.2218, grad=0.0000)], [Var(v=-0.1089, grad=0.0000), Var(v=-0.0445, grad=-1.2345), Var(v=-0.0253, grad=-1.7052), Var(v=-0.0190, grad=0.0000), Var(v=0.1230, grad=1.8030), Var(v=-0.0333, grad=0.0000), Var(v=0.1001, grad=0.7612), Var(v=-0.0023, grad=0.0000), Var(v=0.0585, grad=0.0000), Var(v=0.1073, grad=0.2903), Var(v=-0.0399, grad=0.0000), Var(v=-0.0139, grad=0.0000), Var(v=-0.1620, grad=0.0000), Var(v=-0.1056, grad=0.0000), Var(v=-0.1184, grad=0.6315), Var(v=0.0758, grad=-0.6043), Var(v=-0.1130, grad=0.0000), Var(v=-0.0461, grad=0.0000), Var(v=0.0394, grad=0.3436), Var(v=0.1441, grad=1.0414), Var(v=-0.1504, grad=0.0000), Var(v=-0.0183, grad=-1.4741), Var(v=-0.0174, grad=0.0000), Var(v=-0.1036, grad=0.7516), Var(v=0.0242, grad=-2.4179), Var(v=0.0077, grad=0.0000), Var(v=0.2137, grad=-1.2350), Var(v=0.0281, grad=-0.4930), Var(v=-0.0663, grad=0.0000), Var(v=0.0811, grad=-0.2562), Var(v=0.1027, grad=0.4248), Var(v=-0.0002, grad=0.0000), Var(v=-0.0687, grad=0.0000), Var(v=0.0194, grad=-1.1952), Var(v=0.0972, grad=0.6611), Var(v=-0.1466, grad=0.0000), Var(v=0.0945, grad=0.0000), Var(v=0.0245, grad=0.0000), Var(v=0.0740, grad=1.1266), Var(v=-0.0791, grad=0.8500), Var(v=0.0532, grad=0.0000), Var(v=-0.0066, grad=1.9207), Var(v=0.0666, grad=0.0000), Var(v=0.0768, grad=0.6535), Var(v=-0.1507, grad=0.0000), Var(v=-0.0588, grad=-0.0803), Var(v=0.0412, grad=0.1562), Var(v=0.3210, grad=0.0882), Var(v=-0.0667, grad=0.5234), Var(v=0.1158, grad=0.0000)], [Var(v=-0.2213, grad=0.0000), Var(v=0.0354, grad=0.0000), Var(v=-0.0757, grad=0.0000), Var(v=0.0320, grad=0.0000), Var(v=0.0401, grad=-0.7705), Var(v=-0.0119, grad=0.0000), Var(v=0.0335, grad=-0.3253), Var(v=-0.0431, grad=0.0000), Var(v=-0.0382, grad=0.0000), Var(v=-0.0444, grad=0.0000), Var(v=0.2574, grad=0.0169), Var(v=-0.0325, grad=0.0000), Var(v=-0.1012, grad=0.0000), Var(v=-0.0626, grad=-1.0637), Var(v=0.0070, grad=-0.2699), Var(v=-0.0057, grad=0.2583), Var(v=0.1652, grad=0.3395), Var(v=-0.0122, grad=0.5296), Var(v=-0.0124, grad=-0.1469), Var(v=-0.0279, grad=-0.4450), Var(v=-0.0055, grad=0.0000), Var(v=0.0285, grad=0.0000), Var(v=0.2140, grad=0.0000), Var(v=0.0694, grad=0.0000), Var(v=0.0064, grad=0.0000), Var(v=0.0202, grad=0.2555), Var(v=0.0358, grad=0.5277), Var(v=0.0590, grad=0.2107), Var(v=0.1621, grad=0.5343), Var(v=0.0697, grad=0.1095), Var(v=-0.0627, grad=-0.1815), Var(v=-0.2232, grad=0.0000), Var(v=0.1384, grad=-0.3277), Var(v=-0.1951, grad=0.5108), Var(v=0.0939, grad=0.0000), Var(v=-0.0262, grad=-0.0982), Var(v=-0.1085, grad=0.0000), Var(v=0.0540, grad=0.0000), Var(v=-0.0022, grad=0.0000), Var(v=-0.0253, grad=0.0000), Var(v=0.0334, grad=0.0212), Var(v=0.2390, grad=-0.8208), Var(v=-0.0523, grad=0.0000), Var(v=-0.0824, grad=-0.2793), Var(v=-0.0163, grad=-0.1544), Var(v=-0.0545, grad=0.0343), Var(v=0.0422, grad=0.0000), Var(v=-0.0655, grad=-0.0377), Var(v=-0.0348, grad=-0.2237), Var(v=0.1699, grad=-0.5462)], [Var(v=-0.0361, grad=0.0000), Var(v=-0.0878, grad=0.0000), Var(v=-0.0334, grad=0.0000), Var(v=0.1344, grad=0.0000), Var(v=0.0554, grad=-1.5110), Var(v=0.0828, grad=0.0000), Var(v=0.0267, grad=-0.6379), Var(v=0.1699, grad=0.0000), Var(v=-0.0691, grad=0.0000), Var(v=0.0646, grad=0.0000), Var(v=0.1595, grad=0.0331), Var(v=0.0927, grad=0.0000), Var(v=-0.1461, grad=0.0000), Var(v=-0.1177, grad=-2.0859), Var(v=0.1557, grad=-0.5292), Var(v=0.1672, grad=0.5065), Var(v=0.0636, grad=0.6658), Var(v=0.0811, grad=1.0386), Var(v=-0.0059, grad=-0.2880), Var(v=-0.0181, grad=-0.8727), Var(v=0.1305, grad=0.0000), Var(v=0.0684, grad=0.0000), Var(v=-0.0530, grad=0.0000), Var(v=0.1049, grad=0.0000), Var(v=-0.0161, grad=0.0000), Var(v=-0.0027, grad=0.5010), Var(v=0.0156, grad=1.0349), Var(v=0.1468, grad=0.4131), Var(v=0.0131, grad=1.0478), Var(v=-0.1610, grad=0.2147), Var(v=-0.0115, grad=-0.3560), Var(v=-0.0670, grad=0.0000), Var(v=0.1184, grad=-0.6427), Var(v=-0.1150, grad=1.0016), Var(v=-0.1032, grad=0.0000), Var(v=0.2127, grad=-0.1926), Var(v=-0.0150, grad=0.0000), Var(v=0.0903, grad=0.0000), Var(v=-0.0737, grad=0.0000), Var(v=0.0124, grad=0.0000), Var(v=0.0316, grad=0.0416), Var(v=0.0538, grad=-1.6096), Var(v=-0.1651, grad=0.0000), Var(v=-0.0145, grad=-0.5477), Var(v=-0.1417, grad=-0.3028), Var(v=-0.1505, grad=0.0673), Var(v=0.1253, grad=0.0000), Var(v=-0.0344, grad=-0.0740), Var(v=0.0297, grad=-0.4386), Var(v=0.1429, grad=-1.0711)], [Var(v=-0.0145, grad=0.0000), Var(v=-0.2414, grad=-0.8559), Var(v=0.1460, grad=-1.1822), Var(v=0.0216, grad=0.0000), Var(v=-0.0763, grad=1.2500), Var(v=-0.0253, grad=0.0000), Var(v=-0.0451, grad=0.5277), Var(v=0.1432, grad=0.0000), Var(v=0.0145, grad=0.0000), Var(v=-0.0573, grad=0.2013), Var(v=0.0742, grad=0.0000), Var(v=0.0499, grad=0.0000), Var(v=0.1757, grad=0.0000), Var(v=0.0818, grad=0.0000), Var(v=-0.0941, grad=0.4378), Var(v=0.0444, grad=-0.4190), Var(v=0.0975, grad=0.0000), Var(v=0.0384, grad=0.0000), Var(v=-0.0508, grad=0.2382), Var(v=-0.0773, grad=0.7220), Var(v=0.0345, grad=0.0000), Var(v=0.0351, grad=-1.0220), Var(v=-0.0772, grad=0.0000), Var(v=0.0639, grad=0.5211), Var(v=0.0636, grad=-1.6764), Var(v=0.0448, grad=0.0000), Var(v=0.0816, grad=-0.8562), Var(v=0.2316, grad=-0.3418), Var(v=-0.0671, grad=0.0000), Var(v=0.0641, grad=-0.1776), Var(v=-0.0453, grad=0.2945), Var(v=0.0294, grad=0.0000), Var(v=0.0545, grad=0.0000), Var(v=0.0674, grad=-0.8287), Var(v=-0.0876, grad=0.4583), Var(v=-0.0213, grad=0.0000), Var(v=0.0394, grad=0.0000), Var(v=-0.1486, grad=0.0000), Var(v=0.0777, grad=0.7811), Var(v=0.1161, grad=0.5893), Var(v=-0.1222, grad=0.0000), Var(v=-0.0126, grad=1.3316), Var(v=0.2072, grad=0.0000), Var(v=0.0447, grad=0.4531), Var(v=-0.2370, grad=0.0000), Var(v=0.1576, grad=-0.0557), Var(v=0.0297, grad=0.1083), Var(v=0.0852, grad=0.0612), Var(v=0.0514, grad=0.3629), Var(v=0.0116, grad=0.0000)], [Var(v=0.0115, grad=0.0000), Var(v=-0.1458, grad=0.0000), Var(v=-0.1207, grad=0.0000), Var(v=0.1736, grad=0.0000), Var(v=0.1098, grad=-0.2043), Var(v=-0.0623, grad=0.0000), Var(v=-0.1229, grad=-0.0863), Var(v=0.0117, grad=0.0000), Var(v=-0.0183, grad=0.0000), Var(v=-0.1626, grad=0.0000), Var(v=0.1428, grad=0.0045), Var(v=-0.0613, grad=0.0000), Var(v=-0.0510, grad=0.0000), Var(v=0.0169, grad=-0.2821), Var(v=0.1426, grad=-0.0716), Var(v=-0.0286, grad=0.0685), Var(v=0.0710, grad=0.0900), Var(v=-0.0616, grad=0.1405), Var(v=0.0322, grad=-0.0389), Var(v=-0.0716, grad=-0.1180), Var(v=-0.1801, grad=0.0000), Var(v=-0.0542, grad=0.0000), Var(v=-0.0953, grad=0.0000), Var(v=-0.1208, grad=0.0000), Var(v=-0.0832, grad=0.0000), Var(v=0.0440, grad=0.0678), Var(v=0.1792, grad=0.1400), Var(v=-0.0300, grad=0.0559), Var(v=0.3008, grad=0.1417), Var(v=-0.0300, grad=0.0290), Var(v=0.0618, grad=-0.0481), Var(v=-0.0860, grad=0.0000), Var(v=0.0397, grad=-0.0869), Var(v=-0.0357, grad=0.1355), Var(v=0.0248, grad=0.0000), Var(v=-0.0347, grad=-0.0260), Var(v=-0.1250, grad=0.0000), Var(v=0.1244, grad=0.0000), Var(v=-0.1631, grad=0.0000), Var(v=-0.0042, grad=0.0000), Var(v=0.1077, grad=0.0056), Var(v=-0.0920, grad=-0.2177), Var(v=0.0296, grad=0.0000), Var(v=0.2050, grad=-0.0741), Var(v=-0.0769, grad=-0.0409), Var(v=-0.0314, grad=0.0091), Var(v=-0.0322, grad=0.0000), Var(v=-0.1044, grad=-0.0100), Var(v=0.1348, grad=-0.0593), Var(v=0.0057, grad=-0.1449)], [Var(v=-0.0701, grad=0.0000), Var(v=-0.0407, grad=0.0000), Var(v=-0.0552, grad=0.0000), Var(v=0.0192, grad=0.0000), Var(v=0.2459, grad=-1.2072), Var(v=0.1148, grad=0.0000), Var(v=0.0719, grad=-0.5096), Var(v=-0.0385, grad=0.0000), Var(v=-0.0193, grad=0.0000), Var(v=-0.0732, grad=0.0000), Var(v=0.0244, grad=0.0264), Var(v=-0.0741, grad=0.0000), Var(v=-0.0817, grad=0.0000), Var(v=0.0229, grad=-1.6665), Var(v=-0.1752, grad=-0.4228), Var(v=-0.0571, grad=0.4046), Var(v=-0.0084, grad=0.5319), Var(v=-0.0596, grad=0.8298), Var(v=-0.0301, grad=-0.2301), Var(v=-0.1819, grad=-0.6972), Var(v=-0.0279, grad=0.0000), Var(v=0.0864, grad=0.0000), Var(v=0.0883, grad=0.0000), Var(v=-0.1389, grad=0.0000), Var(v=0.0284, grad=0.0000), Var(v=0.1003, grad=0.4003), Var(v=-0.0649, grad=0.8268), Var(v=-0.0746, grad=0.3300), Var(v=-0.1118, grad=0.8371), Var(v=0.0853, grad=0.1715), Var(v=-0.0701, grad=-0.2844), Var(v=0.0099, grad=0.0000), Var(v=-0.0006, grad=-0.5134), Var(v=-0.0143, grad=0.8002), Var(v=0.2109, grad=0.0000), Var(v=-0.0066, grad=-0.1539), Var(v=-0.1393, grad=0.0000), Var(v=-0.1526, grad=0.0000), Var(v=0.0404, grad=0.0000), Var(v=-0.0440, grad=0.0000), Var(v=0.1074, grad=0.0332), Var(v=0.0254, grad=-1.2859), Var(v=-0.0836, grad=0.0000), Var(v=0.1295, grad=-0.4376), Var(v=0.0605, grad=-0.2419), Var(v=0.0200, grad=0.0537), Var(v=0.1092, grad=0.0000), Var(v=0.0385, grad=-0.0591), Var(v=-0.0321, grad=-0.3504), Var(v=-0.1739, grad=-0.8557)], [Var(v=-0.0354, grad=0.0000), Var(v=0.0181, grad=0.0000), Var(v=-0.0284, grad=0.0000), Var(v=-0.0632, grad=0.0000), Var(v=-0.0426, grad=-1.7831), Var(v=-0.0853, grad=0.0000), Var(v=0.0300, grad=-0.7528), Var(v=0.0656, grad=0.0000), Var(v=-0.0550, grad=0.0000), Var(v=0.0220, grad=0.0000), Var(v=0.0473, grad=0.0391), Var(v=-0.0242, grad=0.0000), Var(v=-0.1846, grad=0.0000), Var(v=0.0554, grad=-2.4616), Var(v=0.1021, grad=-0.6245), Var(v=-0.0158, grad=0.5977), Var(v=0.1375, grad=0.7856), Var(v=0.0931, grad=1.2257), Var(v=0.0198, grad=-0.3398), Var(v=-0.0111, grad=-1.0298), Var(v=-0.1938, grad=0.0000), Var(v=-0.0937, grad=0.0000), Var(v=0.1009, grad=0.0000), Var(v=-0.1729, grad=0.0000), Var(v=-0.1032, grad=0.0000), Var(v=-0.1233, grad=0.5913), Var(v=-0.0121, grad=1.2213), Var(v=0.0049, grad=0.4875), Var(v=0.1335, grad=1.2365), Var(v=0.1191, grad=0.2533), Var(v=-0.0649, grad=-0.4201), Var(v=-0.0710, grad=0.0000), Var(v=0.1214, grad=-0.7584), Var(v=0.1146, grad=1.1820), Var(v=-0.1781, grad=0.0000), Var(v=0.0512, grad=-0.2273), Var(v=-0.1470, grad=0.0000), Var(v=-0.2856, grad=0.0000), Var(v=-0.1294, grad=0.0000), Var(v=0.0154, grad=0.0000), Var(v=0.0216, grad=0.0491), Var(v=-0.0140, grad=-1.8994), Var(v=-0.1208, grad=0.0000), Var(v=-0.0757, grad=-0.6463), Var(v=-0.0013, grad=-0.3573), Var(v=0.1283, grad=0.0794), Var(v=-0.2166, grad=0.0000), Var(v=0.2026, grad=-0.0873), Var(v=0.0352, grad=-0.5176), Var(v=0.0362, grad=-1.2640)], [Var(v=-0.0595, grad=0.0000), Var(v=-0.1343, grad=0.0000), Var(v=0.1072, grad=0.0000), Var(v=-0.0089, grad=0.0000), Var(v=0.1375, grad=-1.5527), Var(v=0.1492, grad=0.0000), Var(v=-0.1521, grad=-0.6555), Var(v=-0.0212, grad=0.0000), Var(v=-0.2010, grad=0.0000), Var(v=-0.0411, grad=0.0000), Var(v=-0.1149, grad=0.0340), Var(v=-0.0423, grad=0.0000), Var(v=-0.1912, grad=0.0000), Var(v=-0.0109, grad=-2.1436), Var(v=-0.0224, grad=-0.5438), Var(v=-0.0397, grad=0.5204), Var(v=-0.0877, grad=0.6842), Var(v=0.1665, grad=1.0673), Var(v=-0.1310, grad=-0.2959), Var(v=-0.0254, grad=-0.8968), Var(v=-0.1874, grad=0.0000), Var(v=-0.2419, grad=0.0000), Var(v=-0.0649, grad=0.0000), Var(v=-0.1472, grad=0.0000), Var(v=0.0681, grad=0.0000), Var(v=-0.0671, grad=0.5149), Var(v=0.0118, grad=1.0635), Var(v=-0.0109, grad=0.4245), Var(v=0.0222, grad=1.0768), Var(v=0.0314, grad=0.2206), Var(v=0.0039, grad=-0.3658), Var(v=0.0628, grad=0.0000), Var(v=-0.0610, grad=-0.6604), Var(v=0.0424, grad=1.0293), Var(v=0.1393, grad=0.0000), Var(v=0.1278, grad=-0.1979), Var(v=-0.0048, grad=0.0000), Var(v=-0.0192, grad=0.0000), Var(v=0.0138, grad=0.0000), Var(v=-0.0942, grad=0.0000), Var(v=0.1426, grad=0.0427), Var(v=-0.1384, grad=-1.6540), Var(v=-0.0101, grad=0.0000), Var(v=0.0463, grad=-0.5628), Var(v=0.0732, grad=-0.3111), Var(v=-0.0694, grad=0.0691), Var(v=0.0239, grad=0.0000), Var(v=0.0030, grad=-0.0760), Var(v=-0.0913, grad=-0.4508), Var(v=0.0536, grad=-1.1007)], [Var(v=-0.0594, grad=0.0000), Var(v=0.1136, grad=-1.5106), Var(v=0.0250, grad=-2.0866), Var(v=0.0600, grad=0.0000), Var(v=0.0006, grad=2.2062), Var(v=-0.1017, grad=0.0000), Var(v=0.1569, grad=0.9314), Var(v=-0.0945, grad=0.0000), Var(v=0.0034, grad=0.0000), Var(v=-0.1651, grad=0.3552), Var(v=-0.1779, grad=0.0000), Var(v=0.0499, grad=0.0000), Var(v=-0.0246, grad=0.0000), Var(v=-0.1285, grad=0.0000), Var(v=0.0297, grad=0.7727), Var(v=0.0845, grad=-0.7395), Var(v=-0.0410, grad=0.0000), Var(v=0.0254, grad=0.0000), Var(v=-0.0315, grad=0.4205), Var(v=0.0024, grad=1.2742), Var(v=0.0402, grad=0.0000), Var(v=0.0375, grad=-1.8037), Var(v=-0.0514, grad=0.0000), Var(v=0.1621, grad=0.9197), Var(v=0.1445, grad=-2.9587), Var(v=-0.0773, grad=0.0000), Var(v=0.0574, grad=-1.5112), Var(v=0.2492, grad=-0.6032), Var(v=-0.0335, grad=0.0000), Var(v=0.1811, grad=-0.3134), Var(v=0.1503, grad=0.5198), Var(v=-0.1544, grad=0.0000), Var(v=0.0501, grad=0.0000), Var(v=0.1004, grad=-1.4625), Var(v=0.0332, grad=0.8089), Var(v=-0.1560, grad=0.0000), Var(v=-0.0189, grad=0.0000), Var(v=0.1525, grad=0.0000), Var(v=-0.0875, grad=1.3786), Var(v=-0.0087, grad=1.0401), Var(v=-0.0513, grad=0.0000), Var(v=0.1504, grad=2.3502), Var(v=-0.0924, grad=0.0000), Var(v=-0.1089, grad=0.7997), Var(v=-0.0383, grad=0.0000), Var(v=-0.0348, grad=-0.0982), Var(v=-0.0534, grad=0.1912), Var(v=-0.0228, grad=0.1080), Var(v=0.1384, grad=0.6405), Var(v=-0.1247, grad=0.0000)], [Var(v=0.0149, grad=0.0000), Var(v=-0.0023, grad=-1.3110), Var(v=-0.1333, grad=-1.8110), Var(v=0.0709, grad=0.0000), Var(v=0.0555, grad=1.9148), Var(v=0.0093, grad=0.0000), Var(v=0.0289, grad=0.8084), Var(v=0.0080, grad=0.0000), Var(v=-0.1277, grad=0.0000), Var(v=0.0585, grad=0.3083), Var(v=0.0844, grad=0.0000), Var(v=-0.0342, grad=0.0000), Var(v=-0.0239, grad=0.0000), Var(v=0.0474, grad=0.0000), Var(v=0.0357, grad=0.6706), Var(v=-0.0040, grad=-0.6418), Var(v=-0.0237, grad=0.0000), Var(v=-0.1686, grad=0.0000), Var(v=0.0006, grad=0.3649), Var(v=0.0209, grad=1.1059), Var(v=0.1370, grad=0.0000), Var(v=0.0814, grad=-1.5655), Var(v=-0.0503, grad=0.0000), Var(v=-0.0612, grad=0.7982), Var(v=0.2033, grad=-2.5679), Var(v=-0.0703, grad=0.0000), Var(v=0.0037, grad=-1.3116), Var(v=-0.1242, grad=-0.5235), Var(v=0.1680, grad=0.0000), Var(v=0.1689, grad=-0.2720), Var(v=0.0302, grad=0.4512), Var(v=0.0375, grad=0.0000), Var(v=-0.0989, grad=0.0000), Var(v=0.1828, grad=-1.2693), Var(v=0.0246, grad=0.7021), Var(v=0.0798, grad=0.0000), Var(v=-0.0377, grad=0.0000), Var(v=-0.0465, grad=0.0000), Var(v=-0.0083, grad=1.1965), Var(v=0.0468, grad=0.9027), Var(v=-0.1594, grad=0.0000), Var(v=-0.2112, grad=2.0398), Var(v=-0.0773, grad=0.0000), Var(v=-0.0921, grad=0.6941), Var(v=0.0114, grad=0.0000), Var(v=-0.0567, grad=-0.0853), Var(v=0.0746, grad=0.1659), Var(v=0.0098, grad=0.0937), Var(v=0.1195, grad=0.5559), Var(v=0.1336, grad=0.0000)]] Biases: [Var(v=0.0000, grad=0.0000), Var(v=0.0000, grad=-11.7243), Var(v=0.0000, grad=-16.1951), Var(v=0.0000, grad=0.0000), Var(v=0.0000, grad=-0.0274), Var(v=0.0000, grad=0.0000), Var(v=0.0000, grad=-0.0116), Var(v=0.0000, grad=0.0000), Var(v=0.0000, grad=0.0000), Var(v=0.0000, grad=2.7569), Var(v=0.0000, grad=0.3757), Var(v=0.0000, grad=0.0000), Var(v=0.0000, grad=0.0000), Var(v=0.0000, grad=-23.6777), Var(v=0.0000, grad=-0.0096), Var(v=0.0000, grad=0.0092), Var(v=0.0000, grad=7.5570), Var(v=0.0000, grad=11.7896), Var(v=0.0000, grad=-0.0052), Var(v=0.0000, grad=-0.0158), Var(v=0.0000, grad=0.0000), Var(v=0.0000, grad=-14.0000), Var(v=0.0000, grad=0.0000), Var(v=0.0000, grad=7.1384), Var(v=0.0000, grad=-22.9639), Var(v=0.0000, grad=5.6875), Var(v=0.0000, grad=0.0187), Var(v=0.0000, grad=0.0075), Var(v=0.0000, grad=11.8937), Var(v=0.0000, grad=0.0039), Var(v=0.0000, grad=-0.0064), Var(v=0.0000, grad=0.0000), Var(v=0.0000, grad=-7.2949), Var(v=0.0000, grad=0.0181), Var(v=0.0000, grad=6.2786), Var(v=0.0000, grad=-2.1865), Var(v=0.0000, grad=0.0000), Var(v=0.0000, grad=0.0000), Var(v=0.0000, grad=10.7001), Var(v=0.0000, grad=8.0729), Var(v=0.0000, grad=0.4719), Var(v=0.0000, grad=-0.0292), Var(v=0.0000, grad=0.0000), Var(v=0.0000, grad=-0.0099), Var(v=0.0000, grad=-3.4367), Var(v=0.0000, grad=0.0012), Var(v=0.0000, grad=1.4837), Var(v=0.0000, grad=-0.0013), Var(v=0.0000, grad=-0.0079), Var(v=0.0000, grad=-12.1584)]\n",
            "Layer 2 \n",
            " Weights: [[Var(v=-0.0142, grad=0.0000)], [Var(v=0.1331, grad=-0.4720)], [Var(v=0.1838, grad=-0.9583)], [Var(v=-0.2289, grad=0.0000)], [Var(v=-0.1943, grad=1.7650)], [Var(v=0.0460, grad=0.0000)], [Var(v=-0.0820, grad=0.5137)], [Var(v=-0.0584, grad=0.0000)], [Var(v=0.1833, grad=0.0000)], [Var(v=-0.0313, grad=-1.3624)], [Var(v=0.0043, grad=2.7228)], [Var(v=-0.1533, grad=0.0000)], [Var(v=-0.0252, grad=0.0000)], [Var(v=-0.2683, grad=1.2206)], [Var(v=-0.0681, grad=1.3477)], [Var(v=0.0651, grad=0.0191)], [Var(v=0.0856, grad=2.0999)], [Var(v=0.1336, grad=3.0993)], [Var(v=-0.0370, grad=-0.0751)], [Var(v=-0.1122, grad=-2.4429)], [Var(v=-0.0409, grad=0.0000)], [Var(v=0.1589, grad=-2.9471)], [Var(v=0.0409, grad=0.0000)], [Var(v=-0.0810, grad=-3.9512)], [Var(v=0.2606, grad=-3.4439)], [Var(v=0.0644, grad=0.3632)], [Var(v=0.1331, grad=-6.2830)], [Var(v=0.0531, grad=1.6305)], [Var(v=0.1348, grad=2.6895)], [Var(v=0.0276, grad=-5.6827)], [Var(v=-0.0458, grad=-3.4614)], [Var(v=0.0365, grad=0.0000)], [Var(v=-0.0827, grad=1.8321)], [Var(v=0.1288, grad=-1.8799)], [Var(v=-0.0713, grad=-2.9420)], [Var(v=-0.0248, grad=5.5924)], [Var(v=-0.0161, grad=0.0000)], [Var(v=-0.0028, grad=0.0000)], [Var(v=-0.1214, grad=-0.3626)], [Var(v=-0.0916, grad=-0.9194)], [Var(v=0.0053, grad=1.4628)], [Var(v=-0.2070, grad=-0.5404)], [Var(v=0.0026, grad=0.0000)], [Var(v=-0.0704, grad=0.9479)], [Var(v=-0.0389, grad=1.2209)], [Var(v=0.0087, grad=0.3430)], [Var(v=-0.0168, grad=-1.9961)], [Var(v=-0.0095, grad=-0.3606)], [Var(v=-0.0564, grad=-2.9366)], [Var(v=-0.1378, grad=2.0749)]] Biases: [Var(v=0.0000, grad=0.1408)]\n",
            "\n",
            "Network after update:\n",
            "Layer 0 \n",
            " Weights: [[Var(v=0.1428, grad=-2.9133), Var(v=0.0238, grad=-1.7052), Var(v=-0.2124, grad=5.8396), Var(v=0.0383, grad=9.4405), Var(v=0.0746, grad=-4.6737), Var(v=0.0769, grad=2.0976), Var(v=-0.0813, grad=4.2622), Var(v=-0.0872, grad=1.1233), Var(v=0.1345, grad=-6.6677), Var(v=0.0240, grad=-3.4226), Var(v=-0.1083, grad=4.7632), Var(v=-0.0621, grad=-2.7558), Var(v=-0.0394, grad=-3.8596), Var(v=0.1741, grad=-5.4280), Var(v=0.1829, grad=-7.8972)]] Biases: [Var(v=0.0271, grad=-2.7086), Var(v=0.0159, grad=-1.5854), Var(v=0.0503, grad=-5.0336), Var(v=-0.0878, grad=8.7773), Var(v=0.0435, grad=-4.3454), Var(v=-0.0195, grad=1.9503), Var(v=0.0367, grad=-3.6739), Var(v=0.0097, grad=-0.9683), Var(v=0.0620, grad=-6.1993), Var(v=-0.0295, grad=2.9502), Var(v=0.0411, grad=-4.1058), Var(v=-0.0238, grad=2.3754), Var(v=-0.0333, grad=3.3268), Var(v=0.0505, grad=-5.0467), Var(v=0.0734, grad=-7.3424)]\n",
            "Layer 1 \n",
            " Weights: [[Var(v=0.0214, grad=0.0000), Var(v=0.1593, grad=-1.4339), Var(v=0.0968, grad=-1.9807), Var(v=-0.1511, grad=0.0000), Var(v=-0.0867, grad=2.0943), Var(v=0.0012, grad=0.0000), Var(v=-0.1108, grad=0.8841), Var(v=-0.0630, grad=0.0000), Var(v=-0.1283, grad=0.0000), Var(v=0.1480, grad=0.3372), Var(v=-0.0211, grad=0.0000), Var(v=0.0237, grad=0.0000), Var(v=0.0257, grad=0.0000), Var(v=-0.1373, grad=0.0000), Var(v=-0.0337, grad=0.7335), Var(v=0.0123, grad=-0.7020), Var(v=-0.1362, grad=0.0000), Var(v=0.0610, grad=0.0000), Var(v=0.0234, grad=0.3992), Var(v=0.1575, grad=1.2096), Var(v=-0.0046, grad=0.0000), Var(v=0.1538, grad=-1.7122), Var(v=0.1249, grad=0.0000), Var(v=0.0157, grad=0.8730), Var(v=-0.0418, grad=-2.8085), Var(v=-0.1295, grad=0.0000), Var(v=0.0286, grad=-1.4345), Var(v=0.0651, grad=-0.5726), Var(v=0.0358, grad=0.0000), Var(v=0.1639, grad=-0.2975), Var(v=-0.0492, grad=0.4934), Var(v=0.0368, grad=0.0000), Var(v=0.0192, grad=0.0000), Var(v=-0.0166, grad=-1.3883), Var(v=0.0264, grad=0.7679), Var(v=-0.2137, grad=0.0000), Var(v=-0.0519, grad=0.0000), Var(v=0.0405, grad=0.0000), Var(v=-0.0899, grad=1.3086), Var(v=0.0008, grad=0.9873), Var(v=-0.0181, grad=0.0000), Var(v=0.0026, grad=2.2309), Var(v=-0.0531, grad=0.0000), Var(v=0.1812, grad=0.7591), Var(v=-0.1575, grad=0.0000), Var(v=0.1830, grad=-0.0932), Var(v=-0.0160, grad=0.1815), Var(v=-0.2140, grad=0.1025), Var(v=0.0227, grad=0.6080), Var(v=-0.2189, grad=0.0000)], [Var(v=0.0255, grad=0.0000), Var(v=0.0441, grad=-0.0845), Var(v=0.0038, grad=-0.1167), Var(v=0.1884, grad=0.0000), Var(v=0.1003, grad=0.1234), Var(v=-0.0682, grad=0.0000), Var(v=0.0173, grad=0.0521), Var(v=0.0409, grad=0.0000), Var(v=0.0643, grad=0.0000), Var(v=-0.0541, grad=0.0199), Var(v=-0.1019, grad=0.0000), Var(v=0.0782, grad=0.0000), Var(v=0.1241, grad=0.0000), Var(v=-0.2192, grad=0.0000), Var(v=0.0751, grad=0.0432), Var(v=-0.0031, grad=-0.0414), Var(v=0.0523, grad=0.0000), Var(v=0.0005, grad=0.0000), Var(v=0.1211, grad=0.0235), Var(v=0.1091, grad=0.0713), Var(v=-0.2525, grad=0.0000), Var(v=0.2157, grad=-0.1009), Var(v=0.0126, grad=0.0000), Var(v=0.0977, grad=0.0514), Var(v=-0.0970, grad=-0.1655), Var(v=-0.0386, grad=0.0000), Var(v=0.1107, grad=-0.0845), Var(v=0.0790, grad=-0.0337), Var(v=0.0113, grad=0.0000), Var(v=-0.1080, grad=-0.0175), Var(v=-0.0805, grad=0.0291), Var(v=0.0438, grad=0.0000), Var(v=-0.1467, grad=0.0000), Var(v=0.1846, grad=-0.0818), Var(v=0.1224, grad=0.0452), Var(v=0.0600, grad=0.0000), Var(v=-0.0831, grad=0.0000), Var(v=-0.0731, grad=0.0000), Var(v=0.0264, grad=0.0771), Var(v=0.0277, grad=0.0582), Var(v=0.0338, grad=0.0000), Var(v=-0.1243, grad=0.1314), Var(v=-0.0497, grad=0.0000), Var(v=0.0317, grad=0.0447), Var(v=0.0800, grad=0.0000), Var(v=0.0397, grad=-0.0055), Var(v=0.1134, grad=0.0107), Var(v=0.1300, grad=0.0060), Var(v=-0.0733, grad=0.0358), Var(v=0.1972, grad=0.0000)], [Var(v=0.0126, grad=0.0000), Var(v=0.0623, grad=0.0000), Var(v=-0.0532, grad=0.0000), Var(v=-0.1795, grad=0.0000), Var(v=0.0578, grad=-3.0651), Var(v=-0.1632, grad=0.0000), Var(v=0.1025, grad=-1.2940), Var(v=-0.1581, grad=0.0000), Var(v=-0.1393, grad=0.0000), Var(v=-0.0937, grad=0.0000), Var(v=0.0402, grad=0.0671), Var(v=-0.1158, grad=0.0000), Var(v=-0.2357, grad=0.0000), Var(v=0.1566, grad=-4.2315), Var(v=0.1605, grad=-1.0735), Var(v=0.0368, grad=1.0274), Var(v=0.0098, grad=1.3505), Var(v=0.0276, grad=2.1069), Var(v=0.1253, grad=-0.5842), Var(v=0.1411, grad=-1.7703), Var(v=0.0827, grad=0.0000), Var(v=-0.0828, grad=0.0000), Var(v=-0.1462, grad=0.0000), Var(v=-0.1084, grad=0.0000), Var(v=-0.0077, grad=0.0000), Var(v=0.0724, grad=1.0164), Var(v=0.0315, grad=2.0995), Var(v=0.0801, grad=0.8380), Var(v=0.0372, grad=2.1255), Var(v=-0.0229, grad=0.4355), Var(v=0.1390, grad=-0.7222), Var(v=-0.0770, grad=0.0000), Var(v=-0.0060, grad=-1.3037), Var(v=0.0646, grad=2.0319), Var(v=-0.1115, grad=0.0000), Var(v=0.1706, grad=-0.3908), Var(v=-0.0945, grad=0.0000), Var(v=-0.0200, grad=0.0000), Var(v=0.0993, grad=0.0000), Var(v=-0.0874, grad=0.0000), Var(v=-0.0664, grad=0.0843), Var(v=0.0789, grad=-3.2651), Var(v=0.0848, grad=0.0000), Var(v=0.0716, grad=-1.1110), Var(v=0.1025, grad=-0.6142), Var(v=0.1327, grad=0.1365), Var(v=-0.0838, grad=0.0000), Var(v=0.0255, grad=-0.1500), Var(v=0.0350, grad=-0.8898), Var(v=0.0600, grad=-2.1729)], [Var(v=0.0333, grad=0.0000), Var(v=-0.0171, grad=-1.6732), Var(v=0.0334, grad=-2.3113), Var(v=0.0166, grad=0.0000), Var(v=0.0922, grad=2.4438), Var(v=0.0486, grad=0.0000), Var(v=-0.0577, grad=1.0317), Var(v=0.0512, grad=0.0000), Var(v=-0.1368, grad=0.0000), Var(v=-0.0056, grad=0.3935), Var(v=-0.1409, grad=0.0000), Var(v=-0.0947, grad=0.0000), Var(v=-0.0157, grad=0.0000), Var(v=-0.0547, grad=0.0000), Var(v=0.2509, grad=0.8559), Var(v=-0.0744, grad=-0.8191), Var(v=-0.0361, grad=0.0000), Var(v=-0.1027, grad=0.0000), Var(v=0.0265, grad=0.4658), Var(v=-0.0556, grad=1.4115), Var(v=-0.0485, grad=0.0000), Var(v=-0.0115, grad=-1.9980), Var(v=-0.0238, grad=0.0000), Var(v=0.1697, grad=1.0187), Var(v=0.0247, grad=-3.2773), Var(v=-0.0206, grad=0.0000), Var(v=0.2907, grad=-1.6739), Var(v=-0.2312, grad=-0.6682), Var(v=-0.1828, grad=0.0000), Var(v=-0.0043, grad=-0.3472), Var(v=0.1387, grad=0.5758), Var(v=-0.0692, grad=0.0000), Var(v=-0.0528, grad=0.0000), Var(v=-0.0080, grad=-1.6200), Var(v=0.1120, grad=0.8960), Var(v=0.1284, grad=0.0000), Var(v=-0.1347, grad=0.0000), Var(v=-0.0992, grad=0.0000), Var(v=0.0560, grad=1.5270), Var(v=0.0374, grad=1.1521), Var(v=0.0796, grad=0.0000), Var(v=0.1129, grad=2.6032), Var(v=0.0287, grad=0.0000), Var(v=-0.0679, grad=0.8858), Var(v=-0.0747, grad=0.0000), Var(v=-0.0166, grad=-0.1088), Var(v=0.1004, grad=0.2117), Var(v=0.0931, grad=0.1196), Var(v=0.0252, grad=0.7094), Var(v=0.0620, grad=0.0000)], [Var(v=0.1002, grad=0.0000), Var(v=0.0059, grad=-0.3508), Var(v=0.1274, grad=-0.4845), Var(v=-0.0300, grad=0.0000), Var(v=-0.1657, grad=0.5123), Var(v=0.0447, grad=0.0000), Var(v=-0.1562, grad=0.2163), Var(v=-0.0430, grad=0.0000), Var(v=0.2023, grad=0.0000), Var(v=0.1723, grad=0.0825), Var(v=-0.0694, grad=0.0000), Var(v=-0.1855, grad=0.0000), Var(v=-0.0357, grad=0.0000), Var(v=0.1886, grad=0.0000), Var(v=0.0216, grad=0.1794), Var(v=0.0888, grad=-0.1717), Var(v=0.0080, grad=0.0000), Var(v=-0.1329, grad=0.0000), Var(v=0.1494, grad=0.0976), Var(v=0.0653, grad=0.2959), Var(v=-0.0232, grad=0.0000), Var(v=0.1745, grad=-0.4189), Var(v=0.0225, grad=0.0000), Var(v=0.2547, grad=0.2136), Var(v=0.0389, grad=-0.6870), Var(v=-0.0222, grad=0.0000), Var(v=0.1094, grad=-0.3509), Var(v=-0.1694, grad=-0.1401), Var(v=-0.1013, grad=0.0000), Var(v=-0.0733, grad=-0.0728), Var(v=0.1173, grad=0.1207), Var(v=0.0616, grad=0.0000), Var(v=-0.0997, grad=0.0000), Var(v=-0.0808, grad=-0.3396), Var(v=0.0052, grad=0.1878), Var(v=0.1179, grad=0.0000), Var(v=0.0466, grad=0.0000), Var(v=0.1163, grad=0.0000), Var(v=0.0592, grad=0.3201), Var(v=-0.0795, grad=0.2415), Var(v=-0.0448, grad=0.0000), Var(v=0.0096, grad=0.5457), Var(v=-0.0739, grad=0.0000), Var(v=0.0337, grad=0.1857), Var(v=0.0471, grad=0.0000), Var(v=-0.0677, grad=-0.0228), Var(v=0.0324, grad=0.0444), Var(v=-0.0429, grad=0.0251), Var(v=-0.0599, grad=0.1487), Var(v=-0.2218, grad=0.0000)], [Var(v=-0.1089, grad=0.0000), Var(v=-0.0322, grad=-1.2345), Var(v=-0.0083, grad=-1.7052), Var(v=-0.0190, grad=0.0000), Var(v=0.1050, grad=1.8030), Var(v=-0.0333, grad=0.0000), Var(v=0.0925, grad=0.7612), Var(v=-0.0023, grad=0.0000), Var(v=0.0585, grad=0.0000), Var(v=0.1044, grad=0.2903), Var(v=-0.0399, grad=0.0000), Var(v=-0.0139, grad=0.0000), Var(v=-0.1620, grad=0.0000), Var(v=-0.1056, grad=0.0000), Var(v=-0.1247, grad=0.6315), Var(v=0.0818, grad=-0.6043), Var(v=-0.1130, grad=0.0000), Var(v=-0.0461, grad=0.0000), Var(v=0.0360, grad=0.3436), Var(v=0.1337, grad=1.0414), Var(v=-0.1504, grad=0.0000), Var(v=-0.0036, grad=-1.4741), Var(v=-0.0174, grad=0.0000), Var(v=-0.1111, grad=0.7516), Var(v=0.0484, grad=-2.4179), Var(v=0.0077, grad=0.0000), Var(v=0.2260, grad=-1.2350), Var(v=0.0330, grad=-0.4930), Var(v=-0.0663, grad=0.0000), Var(v=0.0836, grad=-0.2562), Var(v=0.0985, grad=0.4248), Var(v=-0.0002, grad=0.0000), Var(v=-0.0687, grad=0.0000), Var(v=0.0313, grad=-1.1952), Var(v=0.0906, grad=0.6611), Var(v=-0.1466, grad=0.0000), Var(v=0.0945, grad=0.0000), Var(v=0.0245, grad=0.0000), Var(v=0.0628, grad=1.1266), Var(v=-0.0876, grad=0.8500), Var(v=0.0532, grad=0.0000), Var(v=-0.0258, grad=1.9207), Var(v=0.0666, grad=0.0000), Var(v=0.0703, grad=0.6535), Var(v=-0.1507, grad=0.0000), Var(v=-0.0580, grad=-0.0803), Var(v=0.0396, grad=0.1562), Var(v=0.3202, grad=0.0882), Var(v=-0.0719, grad=0.5234), Var(v=0.1158, grad=0.0000)], [Var(v=-0.2213, grad=0.0000), Var(v=0.0354, grad=0.0000), Var(v=-0.0757, grad=0.0000), Var(v=0.0320, grad=0.0000), Var(v=0.0478, grad=-0.7705), Var(v=-0.0119, grad=0.0000), Var(v=0.0368, grad=-0.3253), Var(v=-0.0431, grad=0.0000), Var(v=-0.0382, grad=0.0000), Var(v=-0.0444, grad=0.0000), Var(v=0.2572, grad=0.0169), Var(v=-0.0325, grad=0.0000), Var(v=-0.1012, grad=0.0000), Var(v=-0.0520, grad=-1.0637), Var(v=0.0097, grad=-0.2699), Var(v=-0.0083, grad=0.2583), Var(v=0.1618, grad=0.3395), Var(v=-0.0175, grad=0.5296), Var(v=-0.0109, grad=-0.1469), Var(v=-0.0234, grad=-0.4450), Var(v=-0.0055, grad=0.0000), Var(v=0.0285, grad=0.0000), Var(v=0.2140, grad=0.0000), Var(v=0.0694, grad=0.0000), Var(v=0.0064, grad=0.0000), Var(v=0.0176, grad=0.2555), Var(v=0.0305, grad=0.5277), Var(v=0.0569, grad=0.2107), Var(v=0.1567, grad=0.5343), Var(v=0.0686, grad=0.1095), Var(v=-0.0609, grad=-0.1815), Var(v=-0.2232, grad=0.0000), Var(v=0.1417, grad=-0.3277), Var(v=-0.2002, grad=0.5108), Var(v=0.0939, grad=0.0000), Var(v=-0.0252, grad=-0.0982), Var(v=-0.1085, grad=0.0000), Var(v=0.0540, grad=0.0000), Var(v=-0.0022, grad=0.0000), Var(v=-0.0253, grad=0.0000), Var(v=0.0332, grad=0.0212), Var(v=0.2472, grad=-0.8208), Var(v=-0.0523, grad=0.0000), Var(v=-0.0796, grad=-0.2793), Var(v=-0.0148, grad=-0.1544), Var(v=-0.0549, grad=0.0343), Var(v=0.0422, grad=0.0000), Var(v=-0.0652, grad=-0.0377), Var(v=-0.0326, grad=-0.2237), Var(v=0.1754, grad=-0.5462)], [Var(v=-0.0361, grad=0.0000), Var(v=-0.0878, grad=0.0000), Var(v=-0.0334, grad=0.0000), Var(v=0.1344, grad=0.0000), Var(v=0.0705, grad=-1.5110), Var(v=0.0828, grad=0.0000), Var(v=0.0330, grad=-0.6379), Var(v=0.1699, grad=0.0000), Var(v=-0.0691, grad=0.0000), Var(v=0.0646, grad=0.0000), Var(v=0.1592, grad=0.0331), Var(v=0.0927, grad=0.0000), Var(v=-0.1461, grad=0.0000), Var(v=-0.0968, grad=-2.0859), Var(v=0.1610, grad=-0.5292), Var(v=0.1621, grad=0.5065), Var(v=0.0569, grad=0.6658), Var(v=0.0707, grad=1.0386), Var(v=-0.0030, grad=-0.2880), Var(v=-0.0094, grad=-0.8727), Var(v=0.1305, grad=0.0000), Var(v=0.0684, grad=0.0000), Var(v=-0.0530, grad=0.0000), Var(v=0.1049, grad=0.0000), Var(v=-0.0161, grad=0.0000), Var(v=-0.0077, grad=0.5010), Var(v=0.0052, grad=1.0349), Var(v=0.1427, grad=0.4131), Var(v=0.0026, grad=1.0478), Var(v=-0.1631, grad=0.2147), Var(v=-0.0079, grad=-0.3560), Var(v=-0.0670, grad=0.0000), Var(v=0.1248, grad=-0.6427), Var(v=-0.1250, grad=1.0016), Var(v=-0.1032, grad=0.0000), Var(v=0.2147, grad=-0.1926), Var(v=-0.0150, grad=0.0000), Var(v=0.0903, grad=0.0000), Var(v=-0.0737, grad=0.0000), Var(v=0.0124, grad=0.0000), Var(v=0.0312, grad=0.0416), Var(v=0.0699, grad=-1.6096), Var(v=-0.1651, grad=0.0000), Var(v=-0.0090, grad=-0.5477), Var(v=-0.1387, grad=-0.3028), Var(v=-0.1512, grad=0.0673), Var(v=0.1253, grad=0.0000), Var(v=-0.0337, grad=-0.0740), Var(v=0.0341, grad=-0.4386), Var(v=0.1536, grad=-1.0711)], [Var(v=-0.0145, grad=0.0000), Var(v=-0.2328, grad=-0.8559), Var(v=0.1578, grad=-1.1822), Var(v=0.0216, grad=0.0000), Var(v=-0.0888, grad=1.2500), Var(v=-0.0253, grad=0.0000), Var(v=-0.0504, grad=0.5277), Var(v=0.1432, grad=0.0000), Var(v=0.0145, grad=0.0000), Var(v=-0.0593, grad=0.2013), Var(v=0.0742, grad=0.0000), Var(v=0.0499, grad=0.0000), Var(v=0.1757, grad=0.0000), Var(v=0.0818, grad=0.0000), Var(v=-0.0985, grad=0.4378), Var(v=0.0486, grad=-0.4190), Var(v=0.0975, grad=0.0000), Var(v=0.0384, grad=0.0000), Var(v=-0.0532, grad=0.2382), Var(v=-0.0845, grad=0.7220), Var(v=0.0345, grad=0.0000), Var(v=0.0454, grad=-1.0220), Var(v=-0.0772, grad=0.0000), Var(v=0.0587, grad=0.5211), Var(v=0.0804, grad=-1.6764), Var(v=0.0448, grad=0.0000), Var(v=0.0902, grad=-0.8562), Var(v=0.2350, grad=-0.3418), Var(v=-0.0671, grad=0.0000), Var(v=0.0659, grad=-0.1776), Var(v=-0.0483, grad=0.2945), Var(v=0.0294, grad=0.0000), Var(v=0.0545, grad=0.0000), Var(v=0.0757, grad=-0.8287), Var(v=-0.0922, grad=0.4583), Var(v=-0.0213, grad=0.0000), Var(v=0.0394, grad=0.0000), Var(v=-0.1486, grad=0.0000), Var(v=0.0699, grad=0.7811), Var(v=0.1102, grad=0.5893), Var(v=-0.1222, grad=0.0000), Var(v=-0.0259, grad=1.3316), Var(v=0.2072, grad=0.0000), Var(v=0.0402, grad=0.4531), Var(v=-0.2370, grad=0.0000), Var(v=0.1581, grad=-0.0557), Var(v=0.0286, grad=0.1083), Var(v=0.0846, grad=0.0612), Var(v=0.0478, grad=0.3629), Var(v=0.0116, grad=0.0000)], [Var(v=0.0115, grad=0.0000), Var(v=-0.1458, grad=0.0000), Var(v=-0.1207, grad=0.0000), Var(v=0.1736, grad=0.0000), Var(v=0.1118, grad=-0.2043), Var(v=-0.0623, grad=0.0000), Var(v=-0.1221, grad=-0.0863), Var(v=0.0117, grad=0.0000), Var(v=-0.0183, grad=0.0000), Var(v=-0.1626, grad=0.0000), Var(v=0.1428, grad=0.0045), Var(v=-0.0613, grad=0.0000), Var(v=-0.0510, grad=0.0000), Var(v=0.0197, grad=-0.2821), Var(v=0.1433, grad=-0.0716), Var(v=-0.0293, grad=0.0685), Var(v=0.0701, grad=0.0900), Var(v=-0.0630, grad=0.1405), Var(v=0.0326, grad=-0.0389), Var(v=-0.0704, grad=-0.1180), Var(v=-0.1801, grad=0.0000), Var(v=-0.0542, grad=0.0000), Var(v=-0.0953, grad=0.0000), Var(v=-0.1208, grad=0.0000), Var(v=-0.0832, grad=0.0000), Var(v=0.0433, grad=0.0678), Var(v=0.1778, grad=0.1400), Var(v=-0.0305, grad=0.0559), Var(v=0.2994, grad=0.1417), Var(v=-0.0303, grad=0.0290), Var(v=0.0623, grad=-0.0481), Var(v=-0.0860, grad=0.0000), Var(v=0.0406, grad=-0.0869), Var(v=-0.0370, grad=0.1355), Var(v=0.0248, grad=0.0000), Var(v=-0.0344, grad=-0.0260), Var(v=-0.1250, grad=0.0000), Var(v=0.1244, grad=0.0000), Var(v=-0.1631, grad=0.0000), Var(v=-0.0042, grad=0.0000), Var(v=0.1076, grad=0.0056), Var(v=-0.0899, grad=-0.2177), Var(v=0.0296, grad=0.0000), Var(v=0.2057, grad=-0.0741), Var(v=-0.0765, grad=-0.0409), Var(v=-0.0315, grad=0.0091), Var(v=-0.0322, grad=0.0000), Var(v=-0.1043, grad=-0.0100), Var(v=0.1354, grad=-0.0593), Var(v=0.0071, grad=-0.1449)], [Var(v=-0.0701, grad=0.0000), Var(v=-0.0407, grad=0.0000), Var(v=-0.0552, grad=0.0000), Var(v=0.0192, grad=0.0000), Var(v=0.2580, grad=-1.2072), Var(v=0.1148, grad=0.0000), Var(v=0.0770, grad=-0.5096), Var(v=-0.0385, grad=0.0000), Var(v=-0.0193, grad=0.0000), Var(v=-0.0732, grad=0.0000), Var(v=0.0242, grad=0.0264), Var(v=-0.0741, grad=0.0000), Var(v=-0.0817, grad=0.0000), Var(v=0.0396, grad=-1.6665), Var(v=-0.1710, grad=-0.4228), Var(v=-0.0611, grad=0.4046), Var(v=-0.0137, grad=0.5319), Var(v=-0.0679, grad=0.8298), Var(v=-0.0278, grad=-0.2301), Var(v=-0.1749, grad=-0.6972), Var(v=-0.0279, grad=0.0000), Var(v=0.0864, grad=0.0000), Var(v=0.0883, grad=0.0000), Var(v=-0.1389, grad=0.0000), Var(v=0.0284, grad=0.0000), Var(v=0.0963, grad=0.4003), Var(v=-0.0732, grad=0.8268), Var(v=-0.0779, grad=0.3300), Var(v=-0.1202, grad=0.8371), Var(v=0.0836, grad=0.1715), Var(v=-0.0673, grad=-0.2844), Var(v=0.0099, grad=0.0000), Var(v=0.0045, grad=-0.5134), Var(v=-0.0223, grad=0.8002), Var(v=0.2109, grad=0.0000), Var(v=-0.0051, grad=-0.1539), Var(v=-0.1393, grad=0.0000), Var(v=-0.1526, grad=0.0000), Var(v=0.0404, grad=0.0000), Var(v=-0.0440, grad=0.0000), Var(v=0.1071, grad=0.0332), Var(v=0.0382, grad=-1.2859), Var(v=-0.0836, grad=0.0000), Var(v=0.1339, grad=-0.4376), Var(v=0.0629, grad=-0.2419), Var(v=0.0195, grad=0.0537), Var(v=0.1092, grad=0.0000), Var(v=0.0391, grad=-0.0591), Var(v=-0.0286, grad=-0.3504), Var(v=-0.1654, grad=-0.8557)], [Var(v=-0.0354, grad=0.0000), Var(v=0.0181, grad=0.0000), Var(v=-0.0284, grad=0.0000), Var(v=-0.0632, grad=0.0000), Var(v=-0.0247, grad=-1.7831), Var(v=-0.0853, grad=0.0000), Var(v=0.0375, grad=-0.7528), Var(v=0.0656, grad=0.0000), Var(v=-0.0550, grad=0.0000), Var(v=0.0220, grad=0.0000), Var(v=0.0469, grad=0.0391), Var(v=-0.0242, grad=0.0000), Var(v=-0.1846, grad=0.0000), Var(v=0.0800, grad=-2.4616), Var(v=0.1084, grad=-0.6245), Var(v=-0.0217, grad=0.5977), Var(v=0.1296, grad=0.7856), Var(v=0.0809, grad=1.2257), Var(v=0.0232, grad=-0.3398), Var(v=-0.0009, grad=-1.0298), Var(v=-0.1938, grad=0.0000), Var(v=-0.0937, grad=0.0000), Var(v=0.1009, grad=0.0000), Var(v=-0.1729, grad=0.0000), Var(v=-0.1032, grad=0.0000), Var(v=-0.1292, grad=0.5913), Var(v=-0.0243, grad=1.2213), Var(v=-0.0000, grad=0.4875), Var(v=0.1211, grad=1.2365), Var(v=0.1166, grad=0.2533), Var(v=-0.0607, grad=-0.4201), Var(v=-0.0710, grad=0.0000), Var(v=0.1290, grad=-0.7584), Var(v=0.1028, grad=1.1820), Var(v=-0.1781, grad=0.0000), Var(v=0.0535, grad=-0.2273), Var(v=-0.1470, grad=0.0000), Var(v=-0.2856, grad=0.0000), Var(v=-0.1294, grad=0.0000), Var(v=0.0154, grad=0.0000), Var(v=0.0211, grad=0.0491), Var(v=0.0050, grad=-1.8994), Var(v=-0.1208, grad=0.0000), Var(v=-0.0692, grad=-0.6463), Var(v=0.0023, grad=-0.3573), Var(v=0.1275, grad=0.0794), Var(v=-0.2166, grad=0.0000), Var(v=0.2035, grad=-0.0873), Var(v=0.0404, grad=-0.5176), Var(v=0.0489, grad=-1.2640)], [Var(v=-0.0595, grad=0.0000), Var(v=-0.1343, grad=0.0000), Var(v=0.1072, grad=0.0000), Var(v=-0.0089, grad=0.0000), Var(v=0.1530, grad=-1.5527), Var(v=0.1492, grad=0.0000), Var(v=-0.1455, grad=-0.6555), Var(v=-0.0212, grad=0.0000), Var(v=-0.2010, grad=0.0000), Var(v=-0.0411, grad=0.0000), Var(v=-0.1153, grad=0.0340), Var(v=-0.0423, grad=0.0000), Var(v=-0.1912, grad=0.0000), Var(v=0.0105, grad=-2.1436), Var(v=-0.0169, grad=-0.5438), Var(v=-0.0449, grad=0.5204), Var(v=-0.0945, grad=0.6842), Var(v=0.1558, grad=1.0673), Var(v=-0.1280, grad=-0.2959), Var(v=-0.0164, grad=-0.8968), Var(v=-0.1874, grad=0.0000), Var(v=-0.2419, grad=0.0000), Var(v=-0.0649, grad=0.0000), Var(v=-0.1472, grad=0.0000), Var(v=0.0681, grad=0.0000), Var(v=-0.0723, grad=0.5149), Var(v=0.0011, grad=1.0635), Var(v=-0.0151, grad=0.4245), Var(v=0.0114, grad=1.0768), Var(v=0.0292, grad=0.2206), Var(v=0.0075, grad=-0.3658), Var(v=0.0628, grad=0.0000), Var(v=-0.0544, grad=-0.6604), Var(v=0.0321, grad=1.0293), Var(v=0.1393, grad=0.0000), Var(v=0.1297, grad=-0.1979), Var(v=-0.0048, grad=0.0000), Var(v=-0.0192, grad=0.0000), Var(v=0.0138, grad=0.0000), Var(v=-0.0942, grad=0.0000), Var(v=0.1422, grad=0.0427), Var(v=-0.1219, grad=-1.6540), Var(v=-0.0101, grad=0.0000), Var(v=0.0519, grad=-0.5628), Var(v=0.0763, grad=-0.3111), Var(v=-0.0701, grad=0.0691), Var(v=0.0239, grad=0.0000), Var(v=0.0038, grad=-0.0760), Var(v=-0.0868, grad=-0.4508), Var(v=0.0646, grad=-1.1007)], [Var(v=-0.0594, grad=0.0000), Var(v=0.1287, grad=-1.5106), Var(v=0.0458, grad=-2.0866), Var(v=0.0600, grad=0.0000), Var(v=-0.0214, grad=2.2062), Var(v=-0.1017, grad=0.0000), Var(v=0.1476, grad=0.9314), Var(v=-0.0945, grad=0.0000), Var(v=0.0034, grad=0.0000), Var(v=-0.1687, grad=0.3552), Var(v=-0.1779, grad=0.0000), Var(v=0.0499, grad=0.0000), Var(v=-0.0246, grad=0.0000), Var(v=-0.1285, grad=0.0000), Var(v=0.0219, grad=0.7727), Var(v=0.0919, grad=-0.7395), Var(v=-0.0410, grad=0.0000), Var(v=0.0254, grad=0.0000), Var(v=-0.0357, grad=0.4205), Var(v=-0.0103, grad=1.2742), Var(v=0.0402, grad=0.0000), Var(v=0.0556, grad=-1.8037), Var(v=-0.0514, grad=0.0000), Var(v=0.1529, grad=0.9197), Var(v=0.1740, grad=-2.9587), Var(v=-0.0773, grad=0.0000), Var(v=0.0725, grad=-1.5112), Var(v=0.2552, grad=-0.6032), Var(v=-0.0335, grad=0.0000), Var(v=0.1842, grad=-0.3134), Var(v=0.1451, grad=0.5198), Var(v=-0.1544, grad=0.0000), Var(v=0.0501, grad=0.0000), Var(v=0.1150, grad=-1.4625), Var(v=0.0252, grad=0.8089), Var(v=-0.1560, grad=0.0000), Var(v=-0.0189, grad=0.0000), Var(v=0.1525, grad=0.0000), Var(v=-0.1013, grad=1.3786), Var(v=-0.0191, grad=1.0401), Var(v=-0.0513, grad=0.0000), Var(v=0.1269, grad=2.3502), Var(v=-0.0924, grad=0.0000), Var(v=-0.1169, grad=0.7997), Var(v=-0.0383, grad=0.0000), Var(v=-0.0338, grad=-0.0982), Var(v=-0.0554, grad=0.1912), Var(v=-0.0239, grad=0.1080), Var(v=0.1320, grad=0.6405), Var(v=-0.1247, grad=0.0000)], [Var(v=0.0149, grad=0.0000), Var(v=0.0108, grad=-1.3110), Var(v=-0.1152, grad=-1.8110), Var(v=0.0709, grad=0.0000), Var(v=0.0364, grad=1.9148), Var(v=0.0093, grad=0.0000), Var(v=0.0208, grad=0.8084), Var(v=0.0080, grad=0.0000), Var(v=-0.1277, grad=0.0000), Var(v=0.0555, grad=0.3083), Var(v=0.0844, grad=0.0000), Var(v=-0.0342, grad=0.0000), Var(v=-0.0239, grad=0.0000), Var(v=0.0474, grad=0.0000), Var(v=0.0290, grad=0.6706), Var(v=0.0024, grad=-0.6418), Var(v=-0.0237, grad=0.0000), Var(v=-0.1686, grad=0.0000), Var(v=-0.0030, grad=0.3649), Var(v=0.0098, grad=1.1059), Var(v=0.1370, grad=0.0000), Var(v=0.0971, grad=-1.5655), Var(v=-0.0503, grad=0.0000), Var(v=-0.0691, grad=0.7982), Var(v=0.2289, grad=-2.5679), Var(v=-0.0703, grad=0.0000), Var(v=0.0168, grad=-1.3116), Var(v=-0.1189, grad=-0.5235), Var(v=0.1680, grad=0.0000), Var(v=0.1716, grad=-0.2720), Var(v=0.0257, grad=0.4512), Var(v=0.0375, grad=0.0000), Var(v=-0.0989, grad=0.0000), Var(v=0.1955, grad=-1.2693), Var(v=0.0176, grad=0.7021), Var(v=0.0798, grad=0.0000), Var(v=-0.0377, grad=0.0000), Var(v=-0.0465, grad=0.0000), Var(v=-0.0203, grad=1.1965), Var(v=0.0378, grad=0.9027), Var(v=-0.1594, grad=0.0000), Var(v=-0.2316, grad=2.0398), Var(v=-0.0773, grad=0.0000), Var(v=-0.0990, grad=0.6941), Var(v=0.0114, grad=0.0000), Var(v=-0.0558, grad=-0.0853), Var(v=0.0729, grad=0.1659), Var(v=0.0089, grad=0.0937), Var(v=0.1139, grad=0.5559), Var(v=0.1336, grad=0.0000)]] Biases: [Var(v=0.0000, grad=0.0000), Var(v=0.1172, grad=-11.7243), Var(v=0.1620, grad=-16.1951), Var(v=0.0000, grad=0.0000), Var(v=0.0003, grad=-0.0274), Var(v=0.0000, grad=0.0000), Var(v=0.0001, grad=-0.0116), Var(v=0.0000, grad=0.0000), Var(v=0.0000, grad=0.0000), Var(v=-0.0276, grad=2.7569), Var(v=-0.0038, grad=0.3757), Var(v=0.0000, grad=0.0000), Var(v=0.0000, grad=0.0000), Var(v=0.2368, grad=-23.6777), Var(v=0.0001, grad=-0.0096), Var(v=-0.0001, grad=0.0092), Var(v=-0.0756, grad=7.5570), Var(v=-0.1179, grad=11.7896), Var(v=0.0001, grad=-0.0052), Var(v=0.0002, grad=-0.0158), Var(v=0.0000, grad=0.0000), Var(v=0.1400, grad=-14.0000), Var(v=0.0000, grad=0.0000), Var(v=-0.0714, grad=7.1384), Var(v=0.2296, grad=-22.9639), Var(v=-0.0569, grad=5.6875), Var(v=-0.0002, grad=0.0187), Var(v=-0.0001, grad=0.0075), Var(v=-0.1189, grad=11.8937), Var(v=-0.0000, grad=0.0039), Var(v=0.0001, grad=-0.0064), Var(v=0.0000, grad=0.0000), Var(v=0.0729, grad=-7.2949), Var(v=-0.0002, grad=0.0181), Var(v=-0.0628, grad=6.2786), Var(v=0.0219, grad=-2.1865), Var(v=0.0000, grad=0.0000), Var(v=0.0000, grad=0.0000), Var(v=-0.1070, grad=10.7001), Var(v=-0.0807, grad=8.0729), Var(v=-0.0047, grad=0.4719), Var(v=0.0003, grad=-0.0292), Var(v=0.0000, grad=0.0000), Var(v=0.0001, grad=-0.0099), Var(v=0.0344, grad=-3.4367), Var(v=-0.0000, grad=0.0012), Var(v=-0.0148, grad=1.4837), Var(v=0.0000, grad=-0.0013), Var(v=0.0001, grad=-0.0079), Var(v=0.1216, grad=-12.1584)]\n",
            "Layer 2 \n",
            " Weights: [[Var(v=-0.0142, grad=0.0000)], [Var(v=0.1378, grad=-0.4720)], [Var(v=0.1934, grad=-0.9583)], [Var(v=-0.2289, grad=0.0000)], [Var(v=-0.2120, grad=1.7650)], [Var(v=0.0460, grad=0.0000)], [Var(v=-0.0872, grad=0.5137)], [Var(v=-0.0584, grad=0.0000)], [Var(v=0.1833, grad=0.0000)], [Var(v=-0.0177, grad=-1.3624)], [Var(v=-0.0230, grad=2.7228)], [Var(v=-0.1533, grad=0.0000)], [Var(v=-0.0252, grad=0.0000)], [Var(v=-0.2805, grad=1.2206)], [Var(v=-0.0815, grad=1.3477)], [Var(v=0.0650, grad=0.0191)], [Var(v=0.0646, grad=2.0999)], [Var(v=0.1026, grad=3.0993)], [Var(v=-0.0363, grad=-0.0751)], [Var(v=-0.0878, grad=-2.4429)], [Var(v=-0.0409, grad=0.0000)], [Var(v=0.1884, grad=-2.9471)], [Var(v=0.0409, grad=0.0000)], [Var(v=-0.0415, grad=-3.9512)], [Var(v=0.2951, grad=-3.4439)], [Var(v=0.0608, grad=0.3632)], [Var(v=0.1959, grad=-6.2830)], [Var(v=0.0368, grad=1.6305)], [Var(v=0.1079, grad=2.6895)], [Var(v=0.0844, grad=-5.6827)], [Var(v=-0.0112, grad=-3.4614)], [Var(v=0.0365, grad=0.0000)], [Var(v=-0.1010, grad=1.8321)], [Var(v=0.1476, grad=-1.8799)], [Var(v=-0.0418, grad=-2.9420)], [Var(v=-0.0807, grad=5.5924)], [Var(v=-0.0161, grad=0.0000)], [Var(v=-0.0028, grad=0.0000)], [Var(v=-0.1178, grad=-0.3626)], [Var(v=-0.0824, grad=-0.9194)], [Var(v=-0.0093, grad=1.4628)], [Var(v=-0.2016, grad=-0.5404)], [Var(v=0.0026, grad=0.0000)], [Var(v=-0.0799, grad=0.9479)], [Var(v=-0.0512, grad=1.2209)], [Var(v=0.0052, grad=0.3430)], [Var(v=0.0031, grad=-1.9961)], [Var(v=-0.0059, grad=-0.3606)], [Var(v=-0.0271, grad=-2.9366)], [Var(v=-0.1585, grad=2.0749)]] Biases: [Var(v=-0.0014, grad=0.1408)]\n",
            "\n",
            "Network after zeroing gradients:\n",
            "Layer 0 \n",
            " Weights: [[Var(v=0.1428, grad=0.0000), Var(v=0.0238, grad=0.0000), Var(v=-0.2124, grad=0.0000), Var(v=0.0383, grad=0.0000), Var(v=0.0746, grad=0.0000), Var(v=0.0769, grad=0.0000), Var(v=-0.0813, grad=0.0000), Var(v=-0.0872, grad=0.0000), Var(v=0.1345, grad=0.0000), Var(v=0.0240, grad=0.0000), Var(v=-0.1083, grad=0.0000), Var(v=-0.0621, grad=0.0000), Var(v=-0.0394, grad=0.0000), Var(v=0.1741, grad=0.0000), Var(v=0.1829, grad=0.0000)]] Biases: [Var(v=0.0271, grad=0.0000), Var(v=0.0159, grad=0.0000), Var(v=0.0503, grad=0.0000), Var(v=-0.0878, grad=0.0000), Var(v=0.0435, grad=0.0000), Var(v=-0.0195, grad=0.0000), Var(v=0.0367, grad=0.0000), Var(v=0.0097, grad=0.0000), Var(v=0.0620, grad=0.0000), Var(v=-0.0295, grad=0.0000), Var(v=0.0411, grad=0.0000), Var(v=-0.0238, grad=0.0000), Var(v=-0.0333, grad=0.0000), Var(v=0.0505, grad=0.0000), Var(v=0.0734, grad=0.0000)]\n",
            "Layer 1 \n",
            " Weights: [[Var(v=0.0214, grad=0.0000), Var(v=0.1593, grad=0.0000), Var(v=0.0968, grad=0.0000), Var(v=-0.1511, grad=0.0000), Var(v=-0.0867, grad=0.0000), Var(v=0.0012, grad=0.0000), Var(v=-0.1108, grad=0.0000), Var(v=-0.0630, grad=0.0000), Var(v=-0.1283, grad=0.0000), Var(v=0.1480, grad=0.0000), Var(v=-0.0211, grad=0.0000), Var(v=0.0237, grad=0.0000), Var(v=0.0257, grad=0.0000), Var(v=-0.1373, grad=0.0000), Var(v=-0.0337, grad=0.0000), Var(v=0.0123, grad=0.0000), Var(v=-0.1362, grad=0.0000), Var(v=0.0610, grad=0.0000), Var(v=0.0234, grad=0.0000), Var(v=0.1575, grad=0.0000), Var(v=-0.0046, grad=0.0000), Var(v=0.1538, grad=0.0000), Var(v=0.1249, grad=0.0000), Var(v=0.0157, grad=0.0000), Var(v=-0.0418, grad=0.0000), Var(v=-0.1295, grad=0.0000), Var(v=0.0286, grad=0.0000), Var(v=0.0651, grad=0.0000), Var(v=0.0358, grad=0.0000), Var(v=0.1639, grad=0.0000), Var(v=-0.0492, grad=0.0000), Var(v=0.0368, grad=0.0000), Var(v=0.0192, grad=0.0000), Var(v=-0.0166, grad=0.0000), Var(v=0.0264, grad=0.0000), Var(v=-0.2137, grad=0.0000), Var(v=-0.0519, grad=0.0000), Var(v=0.0405, grad=0.0000), Var(v=-0.0899, grad=0.0000), Var(v=0.0008, grad=0.0000), Var(v=-0.0181, grad=0.0000), Var(v=0.0026, grad=0.0000), Var(v=-0.0531, grad=0.0000), Var(v=0.1812, grad=0.0000), Var(v=-0.1575, grad=0.0000), Var(v=0.1830, grad=0.0000), Var(v=-0.0160, grad=0.0000), Var(v=-0.2140, grad=0.0000), Var(v=0.0227, grad=0.0000), Var(v=-0.2189, grad=0.0000)], [Var(v=0.0255, grad=0.0000), Var(v=0.0441, grad=0.0000), Var(v=0.0038, grad=0.0000), Var(v=0.1884, grad=0.0000), Var(v=0.1003, grad=0.0000), Var(v=-0.0682, grad=0.0000), Var(v=0.0173, grad=0.0000), Var(v=0.0409, grad=0.0000), Var(v=0.0643, grad=0.0000), Var(v=-0.0541, grad=0.0000), Var(v=-0.1019, grad=0.0000), Var(v=0.0782, grad=0.0000), Var(v=0.1241, grad=0.0000), Var(v=-0.2192, grad=0.0000), Var(v=0.0751, grad=0.0000), Var(v=-0.0031, grad=0.0000), Var(v=0.0523, grad=0.0000), Var(v=0.0005, grad=0.0000), Var(v=0.1211, grad=0.0000), Var(v=0.1091, grad=0.0000), Var(v=-0.2525, grad=0.0000), Var(v=0.2157, grad=0.0000), Var(v=0.0126, grad=0.0000), Var(v=0.0977, grad=0.0000), Var(v=-0.0970, grad=0.0000), Var(v=-0.0386, grad=0.0000), Var(v=0.1107, grad=0.0000), Var(v=0.0790, grad=0.0000), Var(v=0.0113, grad=0.0000), Var(v=-0.1080, grad=0.0000), Var(v=-0.0805, grad=0.0000), Var(v=0.0438, grad=0.0000), Var(v=-0.1467, grad=0.0000), Var(v=0.1846, grad=0.0000), Var(v=0.1224, grad=0.0000), Var(v=0.0600, grad=0.0000), Var(v=-0.0831, grad=0.0000), Var(v=-0.0731, grad=0.0000), Var(v=0.0264, grad=0.0000), Var(v=0.0277, grad=0.0000), Var(v=0.0338, grad=0.0000), Var(v=-0.1243, grad=0.0000), Var(v=-0.0497, grad=0.0000), Var(v=0.0317, grad=0.0000), Var(v=0.0800, grad=0.0000), Var(v=0.0397, grad=0.0000), Var(v=0.1134, grad=0.0000), Var(v=0.1300, grad=0.0000), Var(v=-0.0733, grad=0.0000), Var(v=0.1972, grad=0.0000)], [Var(v=0.0126, grad=0.0000), Var(v=0.0623, grad=0.0000), Var(v=-0.0532, grad=0.0000), Var(v=-0.1795, grad=0.0000), Var(v=0.0578, grad=0.0000), Var(v=-0.1632, grad=0.0000), Var(v=0.1025, grad=0.0000), Var(v=-0.1581, grad=0.0000), Var(v=-0.1393, grad=0.0000), Var(v=-0.0937, grad=0.0000), Var(v=0.0402, grad=0.0000), Var(v=-0.1158, grad=0.0000), Var(v=-0.2357, grad=0.0000), Var(v=0.1566, grad=0.0000), Var(v=0.1605, grad=0.0000), Var(v=0.0368, grad=0.0000), Var(v=0.0098, grad=0.0000), Var(v=0.0276, grad=0.0000), Var(v=0.1253, grad=0.0000), Var(v=0.1411, grad=0.0000), Var(v=0.0827, grad=0.0000), Var(v=-0.0828, grad=0.0000), Var(v=-0.1462, grad=0.0000), Var(v=-0.1084, grad=0.0000), Var(v=-0.0077, grad=0.0000), Var(v=0.0724, grad=0.0000), Var(v=0.0315, grad=0.0000), Var(v=0.0801, grad=0.0000), Var(v=0.0372, grad=0.0000), Var(v=-0.0229, grad=0.0000), Var(v=0.1390, grad=0.0000), Var(v=-0.0770, grad=0.0000), Var(v=-0.0060, grad=0.0000), Var(v=0.0646, grad=0.0000), Var(v=-0.1115, grad=0.0000), Var(v=0.1706, grad=0.0000), Var(v=-0.0945, grad=0.0000), Var(v=-0.0200, grad=0.0000), Var(v=0.0993, grad=0.0000), Var(v=-0.0874, grad=0.0000), Var(v=-0.0664, grad=0.0000), Var(v=0.0789, grad=0.0000), Var(v=0.0848, grad=0.0000), Var(v=0.0716, grad=0.0000), Var(v=0.1025, grad=0.0000), Var(v=0.1327, grad=0.0000), Var(v=-0.0838, grad=0.0000), Var(v=0.0255, grad=0.0000), Var(v=0.0350, grad=0.0000), Var(v=0.0600, grad=0.0000)], [Var(v=0.0333, grad=0.0000), Var(v=-0.0171, grad=0.0000), Var(v=0.0334, grad=0.0000), Var(v=0.0166, grad=0.0000), Var(v=0.0922, grad=0.0000), Var(v=0.0486, grad=0.0000), Var(v=-0.0577, grad=0.0000), Var(v=0.0512, grad=0.0000), Var(v=-0.1368, grad=0.0000), Var(v=-0.0056, grad=0.0000), Var(v=-0.1409, grad=0.0000), Var(v=-0.0947, grad=0.0000), Var(v=-0.0157, grad=0.0000), Var(v=-0.0547, grad=0.0000), Var(v=0.2509, grad=0.0000), Var(v=-0.0744, grad=0.0000), Var(v=-0.0361, grad=0.0000), Var(v=-0.1027, grad=0.0000), Var(v=0.0265, grad=0.0000), Var(v=-0.0556, grad=0.0000), Var(v=-0.0485, grad=0.0000), Var(v=-0.0115, grad=0.0000), Var(v=-0.0238, grad=0.0000), Var(v=0.1697, grad=0.0000), Var(v=0.0247, grad=0.0000), Var(v=-0.0206, grad=0.0000), Var(v=0.2907, grad=0.0000), Var(v=-0.2312, grad=0.0000), Var(v=-0.1828, grad=0.0000), Var(v=-0.0043, grad=0.0000), Var(v=0.1387, grad=0.0000), Var(v=-0.0692, grad=0.0000), Var(v=-0.0528, grad=0.0000), Var(v=-0.0080, grad=0.0000), Var(v=0.1120, grad=0.0000), Var(v=0.1284, grad=0.0000), Var(v=-0.1347, grad=0.0000), Var(v=-0.0992, grad=0.0000), Var(v=0.0560, grad=0.0000), Var(v=0.0374, grad=0.0000), Var(v=0.0796, grad=0.0000), Var(v=0.1129, grad=0.0000), Var(v=0.0287, grad=0.0000), Var(v=-0.0679, grad=0.0000), Var(v=-0.0747, grad=0.0000), Var(v=-0.0166, grad=0.0000), Var(v=0.1004, grad=0.0000), Var(v=0.0931, grad=0.0000), Var(v=0.0252, grad=0.0000), Var(v=0.0620, grad=0.0000)], [Var(v=0.1002, grad=0.0000), Var(v=0.0059, grad=0.0000), Var(v=0.1274, grad=0.0000), Var(v=-0.0300, grad=0.0000), Var(v=-0.1657, grad=0.0000), Var(v=0.0447, grad=0.0000), Var(v=-0.1562, grad=0.0000), Var(v=-0.0430, grad=0.0000), Var(v=0.2023, grad=0.0000), Var(v=0.1723, grad=0.0000), Var(v=-0.0694, grad=0.0000), Var(v=-0.1855, grad=0.0000), Var(v=-0.0357, grad=0.0000), Var(v=0.1886, grad=0.0000), Var(v=0.0216, grad=0.0000), Var(v=0.0888, grad=0.0000), Var(v=0.0080, grad=0.0000), Var(v=-0.1329, grad=0.0000), Var(v=0.1494, grad=0.0000), Var(v=0.0653, grad=0.0000), Var(v=-0.0232, grad=0.0000), Var(v=0.1745, grad=0.0000), Var(v=0.0225, grad=0.0000), Var(v=0.2547, grad=0.0000), Var(v=0.0389, grad=0.0000), Var(v=-0.0222, grad=0.0000), Var(v=0.1094, grad=0.0000), Var(v=-0.1694, grad=0.0000), Var(v=-0.1013, grad=0.0000), Var(v=-0.0733, grad=0.0000), Var(v=0.1173, grad=0.0000), Var(v=0.0616, grad=0.0000), Var(v=-0.0997, grad=0.0000), Var(v=-0.0808, grad=0.0000), Var(v=0.0052, grad=0.0000), Var(v=0.1179, grad=0.0000), Var(v=0.0466, grad=0.0000), Var(v=0.1163, grad=0.0000), Var(v=0.0592, grad=0.0000), Var(v=-0.0795, grad=0.0000), Var(v=-0.0448, grad=0.0000), Var(v=0.0096, grad=0.0000), Var(v=-0.0739, grad=0.0000), Var(v=0.0337, grad=0.0000), Var(v=0.0471, grad=0.0000), Var(v=-0.0677, grad=0.0000), Var(v=0.0324, grad=0.0000), Var(v=-0.0429, grad=0.0000), Var(v=-0.0599, grad=0.0000), Var(v=-0.2218, grad=0.0000)], [Var(v=-0.1089, grad=0.0000), Var(v=-0.0322, grad=0.0000), Var(v=-0.0083, grad=0.0000), Var(v=-0.0190, grad=0.0000), Var(v=0.1050, grad=0.0000), Var(v=-0.0333, grad=0.0000), Var(v=0.0925, grad=0.0000), Var(v=-0.0023, grad=0.0000), Var(v=0.0585, grad=0.0000), Var(v=0.1044, grad=0.0000), Var(v=-0.0399, grad=0.0000), Var(v=-0.0139, grad=0.0000), Var(v=-0.1620, grad=0.0000), Var(v=-0.1056, grad=0.0000), Var(v=-0.1247, grad=0.0000), Var(v=0.0818, grad=0.0000), Var(v=-0.1130, grad=0.0000), Var(v=-0.0461, grad=0.0000), Var(v=0.0360, grad=0.0000), Var(v=0.1337, grad=0.0000), Var(v=-0.1504, grad=0.0000), Var(v=-0.0036, grad=0.0000), Var(v=-0.0174, grad=0.0000), Var(v=-0.1111, grad=0.0000), Var(v=0.0484, grad=0.0000), Var(v=0.0077, grad=0.0000), Var(v=0.2260, grad=0.0000), Var(v=0.0330, grad=0.0000), Var(v=-0.0663, grad=0.0000), Var(v=0.0836, grad=0.0000), Var(v=0.0985, grad=0.0000), Var(v=-0.0002, grad=0.0000), Var(v=-0.0687, grad=0.0000), Var(v=0.0313, grad=0.0000), Var(v=0.0906, grad=0.0000), Var(v=-0.1466, grad=0.0000), Var(v=0.0945, grad=0.0000), Var(v=0.0245, grad=0.0000), Var(v=0.0628, grad=0.0000), Var(v=-0.0876, grad=0.0000), Var(v=0.0532, grad=0.0000), Var(v=-0.0258, grad=0.0000), Var(v=0.0666, grad=0.0000), Var(v=0.0703, grad=0.0000), Var(v=-0.1507, grad=0.0000), Var(v=-0.0580, grad=0.0000), Var(v=0.0396, grad=0.0000), Var(v=0.3202, grad=0.0000), Var(v=-0.0719, grad=0.0000), Var(v=0.1158, grad=0.0000)], [Var(v=-0.2213, grad=0.0000), Var(v=0.0354, grad=0.0000), Var(v=-0.0757, grad=0.0000), Var(v=0.0320, grad=0.0000), Var(v=0.0478, grad=0.0000), Var(v=-0.0119, grad=0.0000), Var(v=0.0368, grad=0.0000), Var(v=-0.0431, grad=0.0000), Var(v=-0.0382, grad=0.0000), Var(v=-0.0444, grad=0.0000), Var(v=0.2572, grad=0.0000), Var(v=-0.0325, grad=0.0000), Var(v=-0.1012, grad=0.0000), Var(v=-0.0520, grad=0.0000), Var(v=0.0097, grad=0.0000), Var(v=-0.0083, grad=0.0000), Var(v=0.1618, grad=0.0000), Var(v=-0.0175, grad=0.0000), Var(v=-0.0109, grad=0.0000), Var(v=-0.0234, grad=0.0000), Var(v=-0.0055, grad=0.0000), Var(v=0.0285, grad=0.0000), Var(v=0.2140, grad=0.0000), Var(v=0.0694, grad=0.0000), Var(v=0.0064, grad=0.0000), Var(v=0.0176, grad=0.0000), Var(v=0.0305, grad=0.0000), Var(v=0.0569, grad=0.0000), Var(v=0.1567, grad=0.0000), Var(v=0.0686, grad=0.0000), Var(v=-0.0609, grad=0.0000), Var(v=-0.2232, grad=0.0000), Var(v=0.1417, grad=0.0000), Var(v=-0.2002, grad=0.0000), Var(v=0.0939, grad=0.0000), Var(v=-0.0252, grad=0.0000), Var(v=-0.1085, grad=0.0000), Var(v=0.0540, grad=0.0000), Var(v=-0.0022, grad=0.0000), Var(v=-0.0253, grad=0.0000), Var(v=0.0332, grad=0.0000), Var(v=0.2472, grad=0.0000), Var(v=-0.0523, grad=0.0000), Var(v=-0.0796, grad=0.0000), Var(v=-0.0148, grad=0.0000), Var(v=-0.0549, grad=0.0000), Var(v=0.0422, grad=0.0000), Var(v=-0.0652, grad=0.0000), Var(v=-0.0326, grad=0.0000), Var(v=0.1754, grad=0.0000)], [Var(v=-0.0361, grad=0.0000), Var(v=-0.0878, grad=0.0000), Var(v=-0.0334, grad=0.0000), Var(v=0.1344, grad=0.0000), Var(v=0.0705, grad=0.0000), Var(v=0.0828, grad=0.0000), Var(v=0.0330, grad=0.0000), Var(v=0.1699, grad=0.0000), Var(v=-0.0691, grad=0.0000), Var(v=0.0646, grad=0.0000), Var(v=0.1592, grad=0.0000), Var(v=0.0927, grad=0.0000), Var(v=-0.1461, grad=0.0000), Var(v=-0.0968, grad=0.0000), Var(v=0.1610, grad=0.0000), Var(v=0.1621, grad=0.0000), Var(v=0.0569, grad=0.0000), Var(v=0.0707, grad=0.0000), Var(v=-0.0030, grad=0.0000), Var(v=-0.0094, grad=0.0000), Var(v=0.1305, grad=0.0000), Var(v=0.0684, grad=0.0000), Var(v=-0.0530, grad=0.0000), Var(v=0.1049, grad=0.0000), Var(v=-0.0161, grad=0.0000), Var(v=-0.0077, grad=0.0000), Var(v=0.0052, grad=0.0000), Var(v=0.1427, grad=0.0000), Var(v=0.0026, grad=0.0000), Var(v=-0.1631, grad=0.0000), Var(v=-0.0079, grad=0.0000), Var(v=-0.0670, grad=0.0000), Var(v=0.1248, grad=0.0000), Var(v=-0.1250, grad=0.0000), Var(v=-0.1032, grad=0.0000), Var(v=0.2147, grad=0.0000), Var(v=-0.0150, grad=0.0000), Var(v=0.0903, grad=0.0000), Var(v=-0.0737, grad=0.0000), Var(v=0.0124, grad=0.0000), Var(v=0.0312, grad=0.0000), Var(v=0.0699, grad=0.0000), Var(v=-0.1651, grad=0.0000), Var(v=-0.0090, grad=0.0000), Var(v=-0.1387, grad=0.0000), Var(v=-0.1512, grad=0.0000), Var(v=0.1253, grad=0.0000), Var(v=-0.0337, grad=0.0000), Var(v=0.0341, grad=0.0000), Var(v=0.1536, grad=0.0000)], [Var(v=-0.0145, grad=0.0000), Var(v=-0.2328, grad=0.0000), Var(v=0.1578, grad=0.0000), Var(v=0.0216, grad=0.0000), Var(v=-0.0888, grad=0.0000), Var(v=-0.0253, grad=0.0000), Var(v=-0.0504, grad=0.0000), Var(v=0.1432, grad=0.0000), Var(v=0.0145, grad=0.0000), Var(v=-0.0593, grad=0.0000), Var(v=0.0742, grad=0.0000), Var(v=0.0499, grad=0.0000), Var(v=0.1757, grad=0.0000), Var(v=0.0818, grad=0.0000), Var(v=-0.0985, grad=0.0000), Var(v=0.0486, grad=0.0000), Var(v=0.0975, grad=0.0000), Var(v=0.0384, grad=0.0000), Var(v=-0.0532, grad=0.0000), Var(v=-0.0845, grad=0.0000), Var(v=0.0345, grad=0.0000), Var(v=0.0454, grad=0.0000), Var(v=-0.0772, grad=0.0000), Var(v=0.0587, grad=0.0000), Var(v=0.0804, grad=0.0000), Var(v=0.0448, grad=0.0000), Var(v=0.0902, grad=0.0000), Var(v=0.2350, grad=0.0000), Var(v=-0.0671, grad=0.0000), Var(v=0.0659, grad=0.0000), Var(v=-0.0483, grad=0.0000), Var(v=0.0294, grad=0.0000), Var(v=0.0545, grad=0.0000), Var(v=0.0757, grad=0.0000), Var(v=-0.0922, grad=0.0000), Var(v=-0.0213, grad=0.0000), Var(v=0.0394, grad=0.0000), Var(v=-0.1486, grad=0.0000), Var(v=0.0699, grad=0.0000), Var(v=0.1102, grad=0.0000), Var(v=-0.1222, grad=0.0000), Var(v=-0.0259, grad=0.0000), Var(v=0.2072, grad=0.0000), Var(v=0.0402, grad=0.0000), Var(v=-0.2370, grad=0.0000), Var(v=0.1581, grad=0.0000), Var(v=0.0286, grad=0.0000), Var(v=0.0846, grad=0.0000), Var(v=0.0478, grad=0.0000), Var(v=0.0116, grad=0.0000)], [Var(v=0.0115, grad=0.0000), Var(v=-0.1458, grad=0.0000), Var(v=-0.1207, grad=0.0000), Var(v=0.1736, grad=0.0000), Var(v=0.1118, grad=0.0000), Var(v=-0.0623, grad=0.0000), Var(v=-0.1221, grad=0.0000), Var(v=0.0117, grad=0.0000), Var(v=-0.0183, grad=0.0000), Var(v=-0.1626, grad=0.0000), Var(v=0.1428, grad=0.0000), Var(v=-0.0613, grad=0.0000), Var(v=-0.0510, grad=0.0000), Var(v=0.0197, grad=0.0000), Var(v=0.1433, grad=0.0000), Var(v=-0.0293, grad=0.0000), Var(v=0.0701, grad=0.0000), Var(v=-0.0630, grad=0.0000), Var(v=0.0326, grad=0.0000), Var(v=-0.0704, grad=0.0000), Var(v=-0.1801, grad=0.0000), Var(v=-0.0542, grad=0.0000), Var(v=-0.0953, grad=0.0000), Var(v=-0.1208, grad=0.0000), Var(v=-0.0832, grad=0.0000), Var(v=0.0433, grad=0.0000), Var(v=0.1778, grad=0.0000), Var(v=-0.0305, grad=0.0000), Var(v=0.2994, grad=0.0000), Var(v=-0.0303, grad=0.0000), Var(v=0.0623, grad=0.0000), Var(v=-0.0860, grad=0.0000), Var(v=0.0406, grad=0.0000), Var(v=-0.0370, grad=0.0000), Var(v=0.0248, grad=0.0000), Var(v=-0.0344, grad=0.0000), Var(v=-0.1250, grad=0.0000), Var(v=0.1244, grad=0.0000), Var(v=-0.1631, grad=0.0000), Var(v=-0.0042, grad=0.0000), Var(v=0.1076, grad=0.0000), Var(v=-0.0899, grad=0.0000), Var(v=0.0296, grad=0.0000), Var(v=0.2057, grad=0.0000), Var(v=-0.0765, grad=0.0000), Var(v=-0.0315, grad=0.0000), Var(v=-0.0322, grad=0.0000), Var(v=-0.1043, grad=0.0000), Var(v=0.1354, grad=0.0000), Var(v=0.0071, grad=0.0000)], [Var(v=-0.0701, grad=0.0000), Var(v=-0.0407, grad=0.0000), Var(v=-0.0552, grad=0.0000), Var(v=0.0192, grad=0.0000), Var(v=0.2580, grad=0.0000), Var(v=0.1148, grad=0.0000), Var(v=0.0770, grad=0.0000), Var(v=-0.0385, grad=0.0000), Var(v=-0.0193, grad=0.0000), Var(v=-0.0732, grad=0.0000), Var(v=0.0242, grad=0.0000), Var(v=-0.0741, grad=0.0000), Var(v=-0.0817, grad=0.0000), Var(v=0.0396, grad=0.0000), Var(v=-0.1710, grad=0.0000), Var(v=-0.0611, grad=0.0000), Var(v=-0.0137, grad=0.0000), Var(v=-0.0679, grad=0.0000), Var(v=-0.0278, grad=0.0000), Var(v=-0.1749, grad=0.0000), Var(v=-0.0279, grad=0.0000), Var(v=0.0864, grad=0.0000), Var(v=0.0883, grad=0.0000), Var(v=-0.1389, grad=0.0000), Var(v=0.0284, grad=0.0000), Var(v=0.0963, grad=0.0000), Var(v=-0.0732, grad=0.0000), Var(v=-0.0779, grad=0.0000), Var(v=-0.1202, grad=0.0000), Var(v=0.0836, grad=0.0000), Var(v=-0.0673, grad=0.0000), Var(v=0.0099, grad=0.0000), Var(v=0.0045, grad=0.0000), Var(v=-0.0223, grad=0.0000), Var(v=0.2109, grad=0.0000), Var(v=-0.0051, grad=0.0000), Var(v=-0.1393, grad=0.0000), Var(v=-0.1526, grad=0.0000), Var(v=0.0404, grad=0.0000), Var(v=-0.0440, grad=0.0000), Var(v=0.1071, grad=0.0000), Var(v=0.0382, grad=0.0000), Var(v=-0.0836, grad=0.0000), Var(v=0.1339, grad=0.0000), Var(v=0.0629, grad=0.0000), Var(v=0.0195, grad=0.0000), Var(v=0.1092, grad=0.0000), Var(v=0.0391, grad=0.0000), Var(v=-0.0286, grad=0.0000), Var(v=-0.1654, grad=0.0000)], [Var(v=-0.0354, grad=0.0000), Var(v=0.0181, grad=0.0000), Var(v=-0.0284, grad=0.0000), Var(v=-0.0632, grad=0.0000), Var(v=-0.0247, grad=0.0000), Var(v=-0.0853, grad=0.0000), Var(v=0.0375, grad=0.0000), Var(v=0.0656, grad=0.0000), Var(v=-0.0550, grad=0.0000), Var(v=0.0220, grad=0.0000), Var(v=0.0469, grad=0.0000), Var(v=-0.0242, grad=0.0000), Var(v=-0.1846, grad=0.0000), Var(v=0.0800, grad=0.0000), Var(v=0.1084, grad=0.0000), Var(v=-0.0217, grad=0.0000), Var(v=0.1296, grad=0.0000), Var(v=0.0809, grad=0.0000), Var(v=0.0232, grad=0.0000), Var(v=-0.0009, grad=0.0000), Var(v=-0.1938, grad=0.0000), Var(v=-0.0937, grad=0.0000), Var(v=0.1009, grad=0.0000), Var(v=-0.1729, grad=0.0000), Var(v=-0.1032, grad=0.0000), Var(v=-0.1292, grad=0.0000), Var(v=-0.0243, grad=0.0000), Var(v=-0.0000, grad=0.0000), Var(v=0.1211, grad=0.0000), Var(v=0.1166, grad=0.0000), Var(v=-0.0607, grad=0.0000), Var(v=-0.0710, grad=0.0000), Var(v=0.1290, grad=0.0000), Var(v=0.1028, grad=0.0000), Var(v=-0.1781, grad=0.0000), Var(v=0.0535, grad=0.0000), Var(v=-0.1470, grad=0.0000), Var(v=-0.2856, grad=0.0000), Var(v=-0.1294, grad=0.0000), Var(v=0.0154, grad=0.0000), Var(v=0.0211, grad=0.0000), Var(v=0.0050, grad=0.0000), Var(v=-0.1208, grad=0.0000), Var(v=-0.0692, grad=0.0000), Var(v=0.0023, grad=0.0000), Var(v=0.1275, grad=0.0000), Var(v=-0.2166, grad=0.0000), Var(v=0.2035, grad=0.0000), Var(v=0.0404, grad=0.0000), Var(v=0.0489, grad=0.0000)], [Var(v=-0.0595, grad=0.0000), Var(v=-0.1343, grad=0.0000), Var(v=0.1072, grad=0.0000), Var(v=-0.0089, grad=0.0000), Var(v=0.1530, grad=0.0000), Var(v=0.1492, grad=0.0000), Var(v=-0.1455, grad=0.0000), Var(v=-0.0212, grad=0.0000), Var(v=-0.2010, grad=0.0000), Var(v=-0.0411, grad=0.0000), Var(v=-0.1153, grad=0.0000), Var(v=-0.0423, grad=0.0000), Var(v=-0.1912, grad=0.0000), Var(v=0.0105, grad=0.0000), Var(v=-0.0169, grad=0.0000), Var(v=-0.0449, grad=0.0000), Var(v=-0.0945, grad=0.0000), Var(v=0.1558, grad=0.0000), Var(v=-0.1280, grad=0.0000), Var(v=-0.0164, grad=0.0000), Var(v=-0.1874, grad=0.0000), Var(v=-0.2419, grad=0.0000), Var(v=-0.0649, grad=0.0000), Var(v=-0.1472, grad=0.0000), Var(v=0.0681, grad=0.0000), Var(v=-0.0723, grad=0.0000), Var(v=0.0011, grad=0.0000), Var(v=-0.0151, grad=0.0000), Var(v=0.0114, grad=0.0000), Var(v=0.0292, grad=0.0000), Var(v=0.0075, grad=0.0000), Var(v=0.0628, grad=0.0000), Var(v=-0.0544, grad=0.0000), Var(v=0.0321, grad=0.0000), Var(v=0.1393, grad=0.0000), Var(v=0.1297, grad=0.0000), Var(v=-0.0048, grad=0.0000), Var(v=-0.0192, grad=0.0000), Var(v=0.0138, grad=0.0000), Var(v=-0.0942, grad=0.0000), Var(v=0.1422, grad=0.0000), Var(v=-0.1219, grad=0.0000), Var(v=-0.0101, grad=0.0000), Var(v=0.0519, grad=0.0000), Var(v=0.0763, grad=0.0000), Var(v=-0.0701, grad=0.0000), Var(v=0.0239, grad=0.0000), Var(v=0.0038, grad=0.0000), Var(v=-0.0868, grad=0.0000), Var(v=0.0646, grad=0.0000)], [Var(v=-0.0594, grad=0.0000), Var(v=0.1287, grad=0.0000), Var(v=0.0458, grad=0.0000), Var(v=0.0600, grad=0.0000), Var(v=-0.0214, grad=0.0000), Var(v=-0.1017, grad=0.0000), Var(v=0.1476, grad=0.0000), Var(v=-0.0945, grad=0.0000), Var(v=0.0034, grad=0.0000), Var(v=-0.1687, grad=0.0000), Var(v=-0.1779, grad=0.0000), Var(v=0.0499, grad=0.0000), Var(v=-0.0246, grad=0.0000), Var(v=-0.1285, grad=0.0000), Var(v=0.0219, grad=0.0000), Var(v=0.0919, grad=0.0000), Var(v=-0.0410, grad=0.0000), Var(v=0.0254, grad=0.0000), Var(v=-0.0357, grad=0.0000), Var(v=-0.0103, grad=0.0000), Var(v=0.0402, grad=0.0000), Var(v=0.0556, grad=0.0000), Var(v=-0.0514, grad=0.0000), Var(v=0.1529, grad=0.0000), Var(v=0.1740, grad=0.0000), Var(v=-0.0773, grad=0.0000), Var(v=0.0725, grad=0.0000), Var(v=0.2552, grad=0.0000), Var(v=-0.0335, grad=0.0000), Var(v=0.1842, grad=0.0000), Var(v=0.1451, grad=0.0000), Var(v=-0.1544, grad=0.0000), Var(v=0.0501, grad=0.0000), Var(v=0.1150, grad=0.0000), Var(v=0.0252, grad=0.0000), Var(v=-0.1560, grad=0.0000), Var(v=-0.0189, grad=0.0000), Var(v=0.1525, grad=0.0000), Var(v=-0.1013, grad=0.0000), Var(v=-0.0191, grad=0.0000), Var(v=-0.0513, grad=0.0000), Var(v=0.1269, grad=0.0000), Var(v=-0.0924, grad=0.0000), Var(v=-0.1169, grad=0.0000), Var(v=-0.0383, grad=0.0000), Var(v=-0.0338, grad=0.0000), Var(v=-0.0554, grad=0.0000), Var(v=-0.0239, grad=0.0000), Var(v=0.1320, grad=0.0000), Var(v=-0.1247, grad=0.0000)], [Var(v=0.0149, grad=0.0000), Var(v=0.0108, grad=0.0000), Var(v=-0.1152, grad=0.0000), Var(v=0.0709, grad=0.0000), Var(v=0.0364, grad=0.0000), Var(v=0.0093, grad=0.0000), Var(v=0.0208, grad=0.0000), Var(v=0.0080, grad=0.0000), Var(v=-0.1277, grad=0.0000), Var(v=0.0555, grad=0.0000), Var(v=0.0844, grad=0.0000), Var(v=-0.0342, grad=0.0000), Var(v=-0.0239, grad=0.0000), Var(v=0.0474, grad=0.0000), Var(v=0.0290, grad=0.0000), Var(v=0.0024, grad=0.0000), Var(v=-0.0237, grad=0.0000), Var(v=-0.1686, grad=0.0000), Var(v=-0.0030, grad=0.0000), Var(v=0.0098, grad=0.0000), Var(v=0.1370, grad=0.0000), Var(v=0.0971, grad=0.0000), Var(v=-0.0503, grad=0.0000), Var(v=-0.0691, grad=0.0000), Var(v=0.2289, grad=0.0000), Var(v=-0.0703, grad=0.0000), Var(v=0.0168, grad=0.0000), Var(v=-0.1189, grad=0.0000), Var(v=0.1680, grad=0.0000), Var(v=0.1716, grad=0.0000), Var(v=0.0257, grad=0.0000), Var(v=0.0375, grad=0.0000), Var(v=-0.0989, grad=0.0000), Var(v=0.1955, grad=0.0000), Var(v=0.0176, grad=0.0000), Var(v=0.0798, grad=0.0000), Var(v=-0.0377, grad=0.0000), Var(v=-0.0465, grad=0.0000), Var(v=-0.0203, grad=0.0000), Var(v=0.0378, grad=0.0000), Var(v=-0.1594, grad=0.0000), Var(v=-0.2316, grad=0.0000), Var(v=-0.0773, grad=0.0000), Var(v=-0.0990, grad=0.0000), Var(v=0.0114, grad=0.0000), Var(v=-0.0558, grad=0.0000), Var(v=0.0729, grad=0.0000), Var(v=0.0089, grad=0.0000), Var(v=0.1139, grad=0.0000), Var(v=0.1336, grad=0.0000)]] Biases: [Var(v=0.0000, grad=0.0000), Var(v=0.1172, grad=0.0000), Var(v=0.1620, grad=0.0000), Var(v=0.0000, grad=0.0000), Var(v=0.0003, grad=0.0000), Var(v=0.0000, grad=0.0000), Var(v=0.0001, grad=0.0000), Var(v=0.0000, grad=0.0000), Var(v=0.0000, grad=0.0000), Var(v=-0.0276, grad=0.0000), Var(v=-0.0038, grad=0.0000), Var(v=0.0000, grad=0.0000), Var(v=0.0000, grad=0.0000), Var(v=0.2368, grad=0.0000), Var(v=0.0001, grad=0.0000), Var(v=-0.0001, grad=0.0000), Var(v=-0.0756, grad=0.0000), Var(v=-0.1179, grad=0.0000), Var(v=0.0001, grad=0.0000), Var(v=0.0002, grad=0.0000), Var(v=0.0000, grad=0.0000), Var(v=0.1400, grad=0.0000), Var(v=0.0000, grad=0.0000), Var(v=-0.0714, grad=0.0000), Var(v=0.2296, grad=0.0000), Var(v=-0.0569, grad=0.0000), Var(v=-0.0002, grad=0.0000), Var(v=-0.0001, grad=0.0000), Var(v=-0.1189, grad=0.0000), Var(v=-0.0000, grad=0.0000), Var(v=0.0001, grad=0.0000), Var(v=0.0000, grad=0.0000), Var(v=0.0729, grad=0.0000), Var(v=-0.0002, grad=0.0000), Var(v=-0.0628, grad=0.0000), Var(v=0.0219, grad=0.0000), Var(v=0.0000, grad=0.0000), Var(v=0.0000, grad=0.0000), Var(v=-0.1070, grad=0.0000), Var(v=-0.0807, grad=0.0000), Var(v=-0.0047, grad=0.0000), Var(v=0.0003, grad=0.0000), Var(v=0.0000, grad=0.0000), Var(v=0.0001, grad=0.0000), Var(v=0.0344, grad=0.0000), Var(v=-0.0000, grad=0.0000), Var(v=-0.0148, grad=0.0000), Var(v=0.0000, grad=0.0000), Var(v=0.0001, grad=0.0000), Var(v=0.1216, grad=0.0000)]\n",
            "Layer 2 \n",
            " Weights: [[Var(v=-0.0142, grad=0.0000)], [Var(v=0.1378, grad=0.0000)], [Var(v=0.1934, grad=0.0000)], [Var(v=-0.2289, grad=0.0000)], [Var(v=-0.2120, grad=0.0000)], [Var(v=0.0460, grad=0.0000)], [Var(v=-0.0872, grad=0.0000)], [Var(v=-0.0584, grad=0.0000)], [Var(v=0.1833, grad=0.0000)], [Var(v=-0.0177, grad=0.0000)], [Var(v=-0.0230, grad=0.0000)], [Var(v=-0.1533, grad=0.0000)], [Var(v=-0.0252, grad=0.0000)], [Var(v=-0.2805, grad=0.0000)], [Var(v=-0.0815, grad=0.0000)], [Var(v=0.0650, grad=0.0000)], [Var(v=0.0646, grad=0.0000)], [Var(v=0.1026, grad=0.0000)], [Var(v=-0.0363, grad=0.0000)], [Var(v=-0.0878, grad=0.0000)], [Var(v=-0.0409, grad=0.0000)], [Var(v=0.1884, grad=0.0000)], [Var(v=0.0409, grad=0.0000)], [Var(v=-0.0415, grad=0.0000)], [Var(v=0.2951, grad=0.0000)], [Var(v=0.0608, grad=0.0000)], [Var(v=0.1959, grad=0.0000)], [Var(v=0.0368, grad=0.0000)], [Var(v=0.1079, grad=0.0000)], [Var(v=0.0844, grad=0.0000)], [Var(v=-0.0112, grad=0.0000)], [Var(v=0.0365, grad=0.0000)], [Var(v=-0.1010, grad=0.0000)], [Var(v=0.1476, grad=0.0000)], [Var(v=-0.0418, grad=0.0000)], [Var(v=-0.0807, grad=0.0000)], [Var(v=-0.0161, grad=0.0000)], [Var(v=-0.0028, grad=0.0000)], [Var(v=-0.1178, grad=0.0000)], [Var(v=-0.0824, grad=0.0000)], [Var(v=-0.0093, grad=0.0000)], [Var(v=-0.2016, grad=0.0000)], [Var(v=0.0026, grad=0.0000)], [Var(v=-0.0799, grad=0.0000)], [Var(v=-0.0512, grad=0.0000)], [Var(v=0.0052, grad=0.0000)], [Var(v=0.0031, grad=0.0000)], [Var(v=-0.0059, grad=0.0000)], [Var(v=-0.0271, grad=0.0000)], [Var(v=-0.1585, grad=0.0000)]] Biases: [Var(v=-0.0014, grad=0.0000)]\n"
          ]
        },
        {
          "output_type": "execute_result",
          "data": {
            "text/plain": [
              "[None, None, None]"
            ]
          },
          "metadata": {},
          "execution_count": 161
        }
      ],
      "source": [
        "print('Network before update:')\n",
        "[print('Layer', i, '\\n', NN[i]) for i in range(len(NN))] \n",
        "\n",
        "def parameters(network):\n",
        "  params = []\n",
        "  for layer in range(len(network)):\n",
        "    params += network[layer].parameters()\n",
        "  return params\n",
        "\n",
        "def update_parameters(params, learning_rate=0.01):\n",
        "  for p in params:\n",
        "    p.v -= learning_rate*p.grad\n",
        "\n",
        "def zero_gradients(params):\n",
        "  for p in params:\n",
        "    p.grad = 0.0\n",
        "\n",
        "update_parameters(parameters(NN))\n",
        "\n",
        "print('\\nNetwork after update:')\n",
        "[print('Layer', i, '\\n', NN[i]) for i in range(len(NN))] \n",
        "\n",
        "zero_gradients(parameters(NN))\n",
        "\n",
        "print('\\nNetwork after zeroing gradients:')\n",
        "[print('Layer', i, '\\n', NN[i]) for i in range(len(NN))] "
      ]
    },
    {
      "cell_type": "code",
      "execution_count": 272,
      "metadata": {
        "id": "woWYpdw6FtIO"
      },
      "outputs": [],
      "source": [
        "# Initialize an arbitrary neural network\n",
        "NN = [\n",
        "    DenseLayer(1, 8, lambda x: x.relu()),\n",
        "    DenseLayer(8, 1, lambda x: x.identity())\n",
        "]\n",
        "\n",
        "# Recommended hyper-parameters for 3-D: \n",
        "#NN = [\n",
        "#    DenseLayer(3, 16, lambda x: x.relu()),\n",
        "#    DenseLayer(16, 1, lambda x: x.identity())\n",
        "#]\n",
        "\n",
        "\n",
        "### Notice that, when we switch from tanh to relu activation, we decrease the learning rate. This is due the stability of the gradients \n",
        "## of the activation functions."
      ]
    },
    {
      "cell_type": "code",
      "execution_count": 273,
      "metadata": {
        "id": "mdqaqYBVFtIR"
      },
      "outputs": [],
      "source": [
        "# Initialize training hyperparameters\n",
        "EPOCHS = 200\n",
        "LEARN_R = 2e-3"
      ]
    },
    {
      "cell_type": "code",
      "execution_count": 274,
      "metadata": {
        "id": "5kfg76GMFtIW",
        "scrolled": true,
        "colab": {
          "base_uri": "https://localhost:8080/"
        },
        "outputId": "866cb6f7-43d5-402a-9080-5a052b6c7735"
      },
      "outputs": [
        {
          "output_type": "stream",
          "name": "stdout",
          "text": [
            "   0 ( 0.00%) Train loss: 100.570 \t Validation loss: 100.017\n",
            "  10 ( 5.00%) Train loss: 16.201 \t Validation loss: 17.173\n",
            "  20 (10.00%) Train loss: 11.778 \t Validation loss: 15.122\n",
            "  30 (15.00%) Train loss: 11.319 \t Validation loss: 14.780\n",
            "  40 (20.00%) Train loss: 11.116 \t Validation loss: 14.588\n",
            "  50 (25.00%) Train loss: 10.973 \t Validation loss: 14.363\n",
            "  60 (30.00%) Train loss: 10.891 \t Validation loss: 14.205\n",
            "  70 (35.00%) Train loss: 10.685 \t Validation loss: 13.872\n",
            "  80 (40.00%) Train loss: 10.497 \t Validation loss: 13.726\n",
            "  90 (45.00%) Train loss: 10.465 \t Validation loss: 13.660\n",
            " 100 (50.00%) Train loss: 10.438 \t Validation loss: 13.598\n",
            " 110 (55.00%) Train loss: 10.418 \t Validation loss: 13.564\n",
            " 120 (60.00%) Train loss: 10.402 \t Validation loss: 13.542\n",
            " 130 (65.00%) Train loss: 10.389 \t Validation loss: 13.526\n",
            " 140 (70.00%) Train loss: 10.377 \t Validation loss: 13.514\n",
            " 150 (75.00%) Train loss: 10.369 \t Validation loss: 13.510\n",
            " 160 (80.00%) Train loss: 10.365 \t Validation loss: 13.509\n",
            " 170 (85.00%) Train loss: 10.364 \t Validation loss: 13.508\n",
            " 180 (90.00%) Train loss: 10.362 \t Validation loss: 13.507\n",
            " 190 (95.00%) Train loss: 10.361 \t Validation loss: 13.507\n"
          ]
        }
      ],
      "source": [
        "train_loss = []\n",
        "val_loss = []\n",
        "\n",
        "for e in range(EPOCHS):\n",
        "     \n",
        "    # Forward pass and loss computation\n",
        "    Loss = squared_loss(y_train, forward(x_train, NN))\n",
        "\n",
        "    # Backward pass\n",
        "    Loss.backward()\n",
        "    \n",
        "    # gradient descent update\n",
        "    update_parameters(parameters(NN), LEARN_R)\n",
        "    zero_gradients(parameters(NN))\n",
        "    \n",
        "    # Training loss\n",
        "    train_loss.append(Loss.v)\n",
        "    \n",
        "    # Validation\n",
        "    Loss_validation = squared_loss(y_validation, forward(x_validation, NN))\n",
        "    val_loss.append(Loss_validation.v)\n",
        "    \n",
        "    if e%10==0:\n",
        "        print(\"{:4d}\".format(e),\n",
        "              \"({:5.2f}%)\".format(e/EPOCHS*100), \n",
        "              \"Train loss: {:4.3f} \\t Validation loss: {:4.3f}\".format(train_loss[-1], val_loss[-1]))\n",
        "        \n"
      ]
    },
    {
      "cell_type": "code",
      "execution_count": 275,
      "metadata": {
        "id": "VetyRWFwFtIY",
        "colab": {
          "base_uri": "https://localhost:8080/",
          "height": 265
        },
        "outputId": "ead4c41d-2758-4d99-d8c3-d0632f2a17d3"
      },
      "outputs": [
        {
          "output_type": "display_data",
          "data": {
            "text/plain": [
              "<Figure size 432x288 with 1 Axes>"
            ],
            "image/png": "[encoded data removed]"
          },
          "metadata": {
            "needs_background": "light"
          }
        }
      ],
      "source": [
        "plt.plot(range(len(train_loss)), train_loss);\n",
        "plt.plot(range(len(val_loss)), val_loss);"
      ]
    },
    {
      "cell_type": "markdown",
      "metadata": {
        "id": "8OgmIrM9FtIb"
      },
      "source": [
        "# Testing\n",
        "\n",
        "We have kept the calculation of the test error separate in order to emphasize that you should not use the test set in optimization."
      ]
    },
    {
      "cell_type": "code",
      "execution_count": 265,
      "metadata": {
        "id": "HmNi7S-vFtIc"
      },
      "outputs": [],
      "source": [
        "output_test = forward(x_test, NN)"
      ]
    },
    {
      "cell_type": "code",
      "execution_count": 276,
      "metadata": {
        "id": "7mmJOTSEFtIf",
        "colab": {
          "base_uri": "https://localhost:8080/",
          "height": 315
        },
        "outputId": "20746065-93af-4d9b-ffc4-a7e5866a8364"
      },
      "outputs": [
        {
          "output_type": "stream",
          "name": "stdout",
          "text": [
            "Test loss:  8.888\n"
          ]
        },
        {
          "output_type": "display_data",
          "data": {
            "text/plain": [
              "<Figure size 432x288 with 1 Axes>"
            ],
            "image/png": "[encoded data removed]"
          },
          "metadata": {
            "needs_background": "light"
          }
        }
      ],
      "source": [
        "y_test_np = Var_to_nparray(y_test)\n",
        "plt.scatter(y_test_np, Var_to_nparray(output_test));\n",
        "plt.plot([np.min(y_test_np), np.max(y_test_np)], [np.min(y_test_np), np.max(y_test_np)], color='k');\n",
        "plt.xlabel(\"y\");\n",
        "plt.ylabel(\"$\\hat{y}$\");\n",
        "plt.title(\"Model prediction vs real in the test set, the close to the line the better\")\n",
        "plt.grid(True);\n",
        "plt.axis('equal');\n",
        "plt.tight_layout();\n",
        "\n",
        "Loss_test = squared_loss(y_test, forward(x_test, NN))\n",
        "\n",
        "print(\"Test loss:  {:4.3f}\".format(Loss_test.v))"
      ]
    },
    {
      "cell_type": "code",
      "execution_count": 277,
      "metadata": {
        "id": "ODi0WlmQFtIh",
        "colab": {
          "base_uri": "https://localhost:8080/",
          "height": 279
        },
        "outputId": "dd119b76-27bd-4024-8354-3fe3f64a1025"
      },
      "outputs": [
        {
          "output_type": "display_data",
          "data": {
            "text/plain": [
              "<Figure size 432x288 with 1 Axes>"
            ],
            "image/png": "[encoded data removed]"
          },
          "metadata": {
            "needs_background": "light"
          }
        }
      ],
      "source": [
        "x_test_np = Var_to_nparray(x_test)\n",
        "x_train_np = Var_to_nparray(x_train)\n",
        "y_train_np = Var_to_nparray(y_train)\n",
        "if D1:\n",
        "    plt.scatter(x_train_np, y_train_np, label=\"train data\");\n",
        "    plt.scatter(x_test_np, Var_to_nparray(output_test), label=\"test prediction\");\n",
        "    plt.scatter(x_test_np, y_test_np, label=\"test data\");\n",
        "    plt.legend();\n",
        "    plt.xlabel(\"x\");\n",
        "    plt.ylabel(\"y\");\n",
        "else:\n",
        "    plt.scatter(x_train_np[:,1], y_train, label=\"train data\");\n",
        "    plt.scatter(x_test_np[:,1], Var_to_nparray(output_test), label=\"test data prediction\");\n",
        "    plt.scatter(x_test_np[:,1], y_test_np, label=\"test data\");\n",
        "    plt.legend();\n",
        "    plt.xlabel(\"x\");\n",
        "    plt.ylabel(\"y\");"
      ]
    },
    {
      "cell_type": "markdown",
      "metadata": {
        "id": "zTBAmjsAFtIk"
      },
      "source": [
        "## Exercise l) Show overfitting, underfitting and just right fitting\n",
        "\n",
        "Vary the architecture and other things to show clear signs of overfitting (=training loss significantly lower than test loss) and underfitting (=not fitting enoung to training data so that test performance is also hurt).\n",
        "\n",
        "See also if you can get a good compromise which leads to a low validation loss. \n",
        "\n",
        "For this problem do you see any big difference between validation and test loss? The answer here will probably be no. Discuss cases where it is important to keep the two separate.\n",
        "\n",
        "_Insert written answer here._\n"
      ]
    },
    {
      "cell_type": "code",
      "execution_count": 256,
      "metadata": {
        "id": "tQZCn2dxFtIl",
        "colab": {
          "base_uri": "https://localhost:8080/",
          "height": 279
        },
        "outputId": "ba69389a-4d15-42b8-ba1c-be733bf324f8"
      },
      "outputs": [
        {
          "output_type": "display_data",
          "data": {
            "text/plain": [
              "<Figure size 432x288 with 1 Axes>"
            ],
            "image/png": "[encoded data removed]"
          },
          "metadata": {
            "needs_background": "light"
          }
        }
      ],
      "source": [
        "# Insert your code for getting overfitting, underfitting and just right fitting\n",
        "\n",
        "# UNDERFITTING\n",
        "# Initialize an arbitrary neural network\n",
        "NN = [\n",
        "    DenseLayer(1, 8, lambda x: x.relu()),\n",
        "    DenseLayer(8, 1, lambda x: x.identity())\n",
        "]\n",
        "# Initialize training hyperparameters\n",
        "EPOCHS = 200\n",
        "LEARN_R = 6e-3\n",
        "\n",
        "train_loss = []\n",
        "val_loss = []\n",
        "\n",
        "for e in range(EPOCHS):\n",
        "     \n",
        "    # Forward pass and loss computation\n",
        "    Loss = squared_loss(y_train, forward(x_train, NN))\n",
        "\n",
        "    # Backward pass\n",
        "    Loss.backward()\n",
        "    \n",
        "    # gradient descent update\n",
        "    update_parameters(parameters(NN), LEARN_R)\n",
        "    zero_gradients(parameters(NN))\n",
        "    \n",
        "    # Training loss\n",
        "    train_loss.append(Loss.v)\n",
        "    \n",
        "    # Validation\n",
        "    Loss_validation = squared_loss(y_validation, forward(x_validation, NN))\n",
        "    val_loss.append(Loss_validation.v)\n",
        "\n",
        "x_test_np = Var_to_nparray(x_test)\n",
        "x_train_np = Var_to_nparray(x_train)\n",
        "y_train_np = Var_to_nparray(y_train)\n",
        "if D1:\n",
        "    plt.scatter(x_train_np, y_train_np, label=\"train data\");\n",
        "    plt.scatter(x_test_np, Var_to_nparray(output_test), label=\"test prediction\");\n",
        "    plt.scatter(x_test_np, y_test_np, label=\"test data\");\n",
        "    plt.legend();\n",
        "    plt.xlabel(\"x\");\n",
        "    plt.ylabel(\"y\");\n",
        "else:\n",
        "    plt.scatter(x_train_np[:,1], y_train, label=\"train data\");\n",
        "    plt.scatter(x_test_np[:,1], Var_to_nparray(output_test), label=\"test data prediction\");\n",
        "    plt.scatter(x_test_np[:,1], y_test_np, label=\"test data\");\n",
        "    plt.legend();\n",
        "    plt.xlabel(\"x\");\n",
        "    plt.ylabel(\"y\");\n",
        "    plt.title(\"Underfitting\")"
      ]
    },
    {
      "cell_type": "markdown",
      "metadata": {
        "id": "fYPZP-eTFtIo"
      },
      "source": [
        "# Next steps - classification\n",
        "\n",
        "It is straight forward to extend what we have done to classification. \n",
        "\n",
        "For numerical stability it is better to make softmax and cross-entropy as one function so we write the cross entropy loss as a function of the logits we talked about last week. \n",
        "\n",
        "Next week we will see how to perform classification in PyTorch."
      ]
    },
    {
      "cell_type": "markdown",
      "metadata": {
        "id": "qsVPul3QFtIo"
      },
      "source": [
        "## Exercise m) optional - Implement backpropagation for classification\n",
        "\n",
        "Should be possible with very few lines of code. :-)"
      ]
    },
    {
      "cell_type": "code",
      "execution_count": null,
      "metadata": {
        "id": "oC8QrI2tFtIp"
      },
      "outputs": [],
      "source": [
        "# Just add code."
      ]
    },
    {
      "cell_type": "markdown",
      "metadata": {
        "id": "APqhJv3tta1O"
      },
      "source": [
        "## Exercise n) optional - Introduce a NeuralNetwork class\n",
        "\n",
        "The functions we applied on the neural network (parameters, update_parameters and zero_gradients) can more naturally be included as methods in a NeuralNetwork class. Make such a class and modify the code to use it. "
      ]
    },
    {
      "cell_type": "code",
      "execution_count": null,
      "metadata": {
        "id": "Dqfnor1ouMLq"
      },
      "outputs": [],
      "source": [
        "# just add some code"
      ]
    }
  ],
  "metadata": {
    "anaconda-cloud": {},
    "colab": {
      "collapsed_sections": [
        "jpIZPBpNI0pO"
      ],
      "provenance": []
    },
    "kernelspec": {
      "display_name": "Python 3",
      "language": "python",
      "name": "python3"
    },
    "language_info": {
      "codemirror_mode": {
        "name": "ipython",
        "version": 3
      },
      "file_extension": ".py",
      "mimetype": "text/x-python",
      "name": "python",
      "nbconvert_exporter": "python",
      "pygments_lexer": "ipython3",
      "version": "3.9.12"
    }
  },
  "nbformat": 4,
  "nbformat_minor": 0
}