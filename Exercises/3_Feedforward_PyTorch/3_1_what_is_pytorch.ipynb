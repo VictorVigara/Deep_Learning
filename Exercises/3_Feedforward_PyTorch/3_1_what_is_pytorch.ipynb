{
  "cells": [
    {
      "cell_type": "markdown",
      "metadata": {
        "id": "QgEQYAkrzHqT"
      },
      "source": [
        "# Credits\n",
        "\n",
        "This is heavily based on https://github.com/pytorch/tutorials"
      ]
    },
    {
      "cell_type": "markdown",
      "metadata": {
        "id": "U9aD5HkxzHqV"
      },
      "source": [
        "# What is PyTorch?\n",
        "\n",
        "> **NOTE** In the last part of this lab cuda is used. If you have a cuda enabled machine, read the README.md in the root of this repo on how to use nvidia-docker.\n",
        "\n",
        "\n",
        "It’s a Python based scientific computing package targeted at two sets of\n",
        "audiences:\n",
        "-  A replacement for numpy to use the power of GPUs\n",
        "-  a deep learning research platform that provides maximum flexibility\n",
        "   and speed\n"
      ]
    },
    {
      "cell_type": "markdown",
      "metadata": {
        "id": "ylO3DnIKzHqX"
      },
      "source": [
        "# Getting Started\n",
        "\n",
        "In this lab you will get a quick start on what pytorch is and how to use it.\n",
        "\n",
        "## 1. Tensors\n",
        "\n",
        "Tensors are similar to numpy’s ndarrays, with the addition being that\n",
        "Tensors can also be used on a GPU to accelerate computing."
      ]
    },
    {
      "cell_type": "code",
      "execution_count": 1,
      "metadata": {
        "id": "M6XBIfhEzHqY"
      },
      "outputs": [],
      "source": [
        "import torch"
      ]
    },
    {
      "cell_type": "markdown",
      "metadata": {
        "id": "k3bm59IazHqZ"
      },
      "source": [
        "Construct a 5x3 matrix, uninitialized"
      ]
    },
    {
      "cell_type": "code",
      "execution_count": 2,
      "metadata": {
        "scrolled": false,
        "id": "4fyCtcSHzHqZ",
        "outputId": "c7136b7a-d2c1-4f8d-bf3e-168cb23c4684",
        "colab": {
          "base_uri": "https://localhost:8080/"
        }
      },
      "outputs": [
        {
          "output_type": "stream",
          "name": "stdout",
          "text": [
            "tensor([[1.0677e-35, 0.0000e+00, 3.7835e-44],\n",
            "        [0.0000e+00,        nan, 0.0000e+00],\n",
            "        [1.3733e-14, 6.4069e+02, 4.3066e+21],\n",
            "        [1.1824e+22, 4.3066e+21, 6.3828e+28],\n",
            "        [3.8016e-39, 0.0000e+00, 0.0000e+00]])\n"
          ]
        }
      ],
      "source": [
        "x = torch.Tensor(5, 3)\n",
        "print(x)"
      ]
    },
    {
      "cell_type": "markdown",
      "metadata": {
        "id": "6qvFgE2zzHqa"
      },
      "source": [
        "Construct a randomly initialized matrix"
      ]
    },
    {
      "cell_type": "code",
      "execution_count": 8,
      "metadata": {
        "id": "Aqt_fmHxzHqb",
        "outputId": "3efc9cfa-ff57-4381-9f8b-e604b464d1d1",
        "colab": {
          "base_uri": "https://localhost:8080/"
        }
      },
      "outputs": [
        {
          "output_type": "stream",
          "name": "stdout",
          "text": [
            "tensor([[0.8405, 0.3487, 0.2191],\n",
            "        [0.9182, 0.9243, 0.8462],\n",
            "        [0.4862, 0.8147, 0.0877],\n",
            "        [0.1089, 0.0592, 0.2063],\n",
            "        [0.5810, 0.5165, 0.8710]])\n"
          ]
        }
      ],
      "source": [
        "x = torch.rand(5, 3)\n",
        "print(x)"
      ]
    },
    {
      "cell_type": "markdown",
      "metadata": {
        "id": "ijHSccH2zHqd"
      },
      "source": [
        "Get its size"
      ]
    },
    {
      "cell_type": "code",
      "execution_count": 4,
      "metadata": {
        "id": "j0UqGQZEzHqd",
        "outputId": "c1a96609-f09d-4f57-b945-02d97426330d",
        "colab": {
          "base_uri": "https://localhost:8080/"
        }
      },
      "outputs": [
        {
          "output_type": "stream",
          "name": "stdout",
          "text": [
            "torch.Size([5, 3])\n"
          ]
        }
      ],
      "source": [
        "print(x.size())"
      ]
    },
    {
      "cell_type": "markdown",
      "metadata": {
        "id": "sgpUBsRyzHqe"
      },
      "source": [
        "**NOTE**: `torch.Size` is in fact a tuple, so it supports the same operations that a tuple supports."
      ]
    },
    {
      "cell_type": "code",
      "execution_count": 12,
      "metadata": {
        "id": "olvNllmMzHqf",
        "outputId": "314bbb0b-2300-4e8a-c54b-11247ce02068",
        "colab": {
          "base_uri": "https://localhost:8080/"
        }
      },
      "outputs": [
        {
          "output_type": "stream",
          "name": "stdout",
          "text": [
            "tensor([[2.0000, 2.0000, 2.0000],\n",
            "        [2.0000, 2.0000, 2.0000],\n",
            "        [0.4862, 0.8147, 0.0877],\n",
            "        [0.1089, 2.0000, 0.2063],\n",
            "        [0.5810, 0.5165, 0.8710]])\n"
          ]
        }
      ],
      "source": [
        "x[0][1] = 2\n",
        "print(x)"
      ]
    },
    {
      "cell_type": "markdown",
      "metadata": {
        "id": "Ry8mbFWZzHqf"
      },
      "source": [
        "# Assignment\n",
        "\n",
        "Make use of the pytorch docs <http://pytorch.org/docs/torch>\n",
        "1. Make a tensor of size (2, 17)\n",
        "2. Make a torch.FloatTensor of size (3, 1)\n",
        "3. Make a torch.LongTensor of size (5, 2, 1)\n",
        "  - fill the entire tensor with 7s\n",
        "4. Make a torch.ByteTensor of size (5,)\n",
        "  - fill the middle 3 indices with ones such that it records [0, 1, 1, 1, 0]"
      ]
    },
    {
      "cell_type": "code",
      "source": [
        "a = torch.Tensor(2,17)\n",
        "print(a)\n",
        "\n",
        "b = torch.FloatTensor(3,1)\n",
        "print(b)\n",
        "\n",
        "c = torch.LongTensor(5,2,1)\n",
        "print(c)\n",
        "\n",
        "d = torch.full((5,2,1),7)\n",
        "print(d)\n",
        "\n",
        "e = torch.zeros(5).byte()\n",
        "print(e)\n",
        "e[1:4] = 1\n",
        "print(e)"
      ],
      "metadata": {
        "id": "1QhLe8Et4uPZ",
        "outputId": "32769154-0a9b-44da-a2a9-a7d8321f634e",
        "colab": {
          "base_uri": "https://localhost:8080/"
        }
      },
      "execution_count": 94,
      "outputs": [
        {
          "output_type": "stream",
          "name": "stdout",
          "text": [
            "tensor([[ 1.0703e-35,  0.0000e+00,  0.0000e+00,  0.0000e+00,  1.4013e-45,\n",
            "          0.0000e+00,  0.0000e+00,  0.0000e+00,  0.0000e+00,  0.0000e+00,\n",
            "          0.0000e+00,  0.0000e+00,  1.7092e-35,  0.0000e+00,  4.0646e-36,\n",
            "          0.0000e+00, -7.2091e-19],\n",
            "        [ 4.5600e-41,  0.0000e+00,  0.0000e+00,  0.0000e+00,  0.0000e+00,\n",
            "          0.0000e+00,  0.0000e+00,  0.0000e+00,  0.0000e+00,  0.0000e+00,\n",
            "          0.0000e+00,  0.0000e+00,  0.0000e+00,  1.4013e-45,  0.0000e+00,\n",
            "          0.0000e+00,  0.0000e+00]])\n",
            "tensor([[3.3825e-35],\n",
            "        [0.0000e+00],\n",
            "        [2.3694e-38]])\n",
            "tensor([[[          100290432],\n",
            "         [                 78]],\n",
            "\n",
            "        [[                  0],\n",
            "         [                  0]],\n",
            "\n",
            "        [[       450971566080],\n",
            "         [8319683848551211643]],\n",
            "\n",
            "        [[3180222411935070754],\n",
            "         [8391722768137527840]],\n",
            "\n",
            "        [[7959390389040738153],\n",
            "         [2318282025317573236]]])\n",
            "tensor([[[7],\n",
            "         [7]],\n",
            "\n",
            "        [[7],\n",
            "         [7]],\n",
            "\n",
            "        [[7],\n",
            "         [7]],\n",
            "\n",
            "        [[7],\n",
            "         [7]],\n",
            "\n",
            "        [[7],\n",
            "         [7]]])\n",
            "tensor([0, 0, 0, 0, 0], dtype=torch.uint8)\n",
            "tensor([0, 1, 1, 1, 0], dtype=torch.uint8)\n"
          ]
        }
      ]
    },
    {
      "cell_type": "markdown",
      "metadata": {
        "id": "ejm8nL8PzHqg"
      },
      "source": [
        "## 2. Operations\n",
        "There are multiple syntaxes for operations. Let's see addition as an example:\n",
        "\n",
        "### 2.1 Addition: syntax 1"
      ]
    },
    {
      "cell_type": "code",
      "execution_count": 105,
      "metadata": {
        "id": "xQ-0qDsZzHqg",
        "outputId": "addc97e9-764c-4697-dbb6-22fb5c9f7afb",
        "colab": {
          "base_uri": "https://localhost:8080/"
        }
      },
      "outputs": [
        {
          "output_type": "stream",
          "name": "stdout",
          "text": [
            "tensor([[2.0914, 2.7412, 2.5643],\n",
            "        [2.4846, 2.0685, 2.7355],\n",
            "        [1.3826, 1.5990, 0.7342],\n",
            "        [0.6374, 2.0926, 1.0615],\n",
            "        [0.9686, 1.0214, 1.5012]])\n"
          ]
        }
      ],
      "source": [
        "y = torch.rand(5, 3)\n",
        "print(x + y)"
      ]
    },
    {
      "cell_type": "markdown",
      "metadata": {
        "id": "Z2sX8bydzHqh"
      },
      "source": [
        "### 2.2 Addition: syntax 2"
      ]
    },
    {
      "cell_type": "code",
      "execution_count": 106,
      "metadata": {
        "id": "Mrk50lslzHqh",
        "outputId": "f02d2234-d449-4ae6-8fa6-31e24178dfbf",
        "colab": {
          "base_uri": "https://localhost:8080/"
        }
      },
      "outputs": [
        {
          "output_type": "stream",
          "name": "stdout",
          "text": [
            "tensor([[2.0914, 2.7412, 2.5643],\n",
            "        [2.4846, 2.0685, 2.7355],\n",
            "        [1.3826, 1.5990, 0.7342],\n",
            "        [0.6374, 2.0926, 1.0615],\n",
            "        [0.9686, 1.0214, 1.5012]])\n"
          ]
        }
      ],
      "source": [
        "print(torch.add(x, y))"
      ]
    },
    {
      "cell_type": "markdown",
      "metadata": {
        "id": "Cy9ZAMfrzHqi"
      },
      "source": [
        "### 2.3 Addition: giving an output tensor"
      ]
    },
    {
      "cell_type": "code",
      "execution_count": 107,
      "metadata": {
        "id": "_OKpj5wtzHqi",
        "outputId": "70cd0f65-016a-4e35-a926-134af9522b5e",
        "colab": {
          "base_uri": "https://localhost:8080/"
        }
      },
      "outputs": [
        {
          "output_type": "stream",
          "name": "stdout",
          "text": [
            "tensor([[2.0914, 2.7412, 2.5643],\n",
            "        [2.4846, 2.0685, 2.7355],\n",
            "        [1.3826, 1.5990, 0.7342],\n",
            "        [0.6374, 2.0926, 1.0615],\n",
            "        [0.9686, 1.0214, 1.5012]])\n"
          ]
        }
      ],
      "source": [
        "result = torch.Tensor(5, 3)\n",
        "torch.add(x, y, out=result)\n",
        "print(result)"
      ]
    },
    {
      "cell_type": "markdown",
      "metadata": {
        "id": "Wx4ID2KPzHqj"
      },
      "source": [
        "### 2.4 Addition: in-place\n",
        "\n",
        "adds `x`to `y`"
      ]
    },
    {
      "cell_type": "code",
      "execution_count": 108,
      "metadata": {
        "id": "c4C_sBoSzHqj",
        "outputId": "c6733caa-514a-44e3-8083-42ae64de45d7",
        "colab": {
          "base_uri": "https://localhost:8080/"
        }
      },
      "outputs": [
        {
          "output_type": "stream",
          "name": "stdout",
          "text": [
            "tensor([[2.0914, 2.7412, 2.5643],\n",
            "        [2.4846, 2.0685, 2.7355],\n",
            "        [1.3826, 1.5990, 0.7342],\n",
            "        [0.6374, 2.0926, 1.0615],\n",
            "        [0.9686, 1.0214, 1.5012]])\n"
          ]
        }
      ],
      "source": [
        "y.add_(x)\n",
        "print(y)"
      ]
    },
    {
      "cell_type": "markdown",
      "metadata": {
        "id": "zQIqI2NezHqj"
      },
      "source": [
        "**NOTE**: Any operation that mutates a tensor in-place is post-fixed with an `_`. For example: `x.copy_(y)`, `x.t_()`, will change `x`."
      ]
    },
    {
      "cell_type": "markdown",
      "source": [],
      "metadata": {
        "id": "-T84ekd97YOx"
      }
    },
    {
      "cell_type": "markdown",
      "metadata": {
        "id": "2aTFH9DIzHqk"
      },
      "source": [
        "You can use standard numpy-like indexing with all bells and whistles!"
      ]
    },
    {
      "cell_type": "code",
      "execution_count": 109,
      "metadata": {
        "id": "3fzU38w3zHqk",
        "outputId": "f747ca14-0f1d-431d-da26-e530c8f679f4",
        "colab": {
          "base_uri": "https://localhost:8080/"
        }
      },
      "outputs": [
        {
          "output_type": "stream",
          "name": "stdout",
          "text": [
            "tensor([2.0000, 2.0000, 0.8147, 2.0000, 0.5165])\n"
          ]
        }
      ],
      "source": [
        "print(x[:, 1])"
      ]
    },
    {
      "cell_type": "markdown",
      "metadata": {
        "id": "qWsd0rd_zHqk"
      },
      "source": [
        "**Read later** 100+ Tensor operations, including transposing, indexing, slicing, mathematical operations, linear algebra, random numbers, etc are described here <http://pytorch.org/docs/torch>"
      ]
    },
    {
      "cell_type": "markdown",
      "metadata": {
        "id": "GlIb03bCzHql"
      },
      "source": [
        "# Assignment\n",
        "\n",
        "1. multiplication of two tensors (see [torch.Tensor.mul](http://pytorch.org/docs/master/tensors.html#torch.Tensor.mul))\n",
        "2. do the same, but inplace\n",
        "3. division of two tensors (see [torch.Tensor.div](http://pytorch.org/docs/master/tensors.html#torch.Tensor.div))\n",
        "4. perform a matrix multiplication of two tensors of size (2, 4) and (4, 2)"
      ]
    },
    {
      "cell_type": "code",
      "source": [
        "# 1)\n",
        "a = torch.full((4,1),2)\n",
        "b = torch.full((4,1),5)\n",
        "print(a)\n",
        "print(b)\n",
        "print(torch.multiply(a,b))\n",
        "# 2)\n",
        "print(b.multiply_(a))\n",
        "print(b)\n",
        "# 3)\n",
        "print(torch.divide(a,b))\n",
        "# 4)\n",
        "a = torch.randn(2,4)\n",
        "b = torch.randn(4,2)\n",
        "print(torch.matmul(a,b))"
      ],
      "metadata": {
        "id": "NrS26hrO7qza",
        "outputId": "49f79607-af1a-4d27-8c1b-b1daa0a9f0fb",
        "colab": {
          "base_uri": "https://localhost:8080/"
        }
      },
      "execution_count": 153,
      "outputs": [
        {
          "output_type": "stream",
          "name": "stdout",
          "text": [
            "tensor([[2],\n",
            "        [2],\n",
            "        [2],\n",
            "        [2]])\n",
            "tensor([[5],\n",
            "        [5],\n",
            "        [5],\n",
            "        [5]])\n",
            "tensor([[10],\n",
            "        [10],\n",
            "        [10],\n",
            "        [10]])\n",
            "tensor([[10],\n",
            "        [10],\n",
            "        [10],\n",
            "        [10]])\n",
            "tensor([[10],\n",
            "        [10],\n",
            "        [10],\n",
            "        [10]])\n",
            "tensor([[0.2000],\n",
            "        [0.2000],\n",
            "        [0.2000],\n",
            "        [0.2000]])\n",
            "tensor([[ 0.4932, -3.0942],\n",
            "        [-2.4091,  0.5171]])\n"
          ]
        }
      ]
    },
    {
      "cell_type": "markdown",
      "metadata": {
        "id": "FX60WwDhzHql"
      },
      "source": [
        "## 3. Numpy Bridge\n",
        "\n",
        "Converting a torch Tensor to a numpy array and vice versa is a breeze.\n",
        "\n",
        "The torch Tensor and numpy array will share their underlying memory locations, and changing one will change the other.\n",
        "\n",
        "### 3.1 Converting torch Tensor to numpy Array"
      ]
    },
    {
      "cell_type": "code",
      "execution_count": 154,
      "metadata": {
        "id": "tWLVf2XIzHqm",
        "outputId": "ced24bec-10ed-4612-dff6-dbe3d93fd27d",
        "colab": {
          "base_uri": "https://localhost:8080/"
        }
      },
      "outputs": [
        {
          "output_type": "stream",
          "name": "stdout",
          "text": [
            "tensor([1., 1., 1., 1., 1.])\n"
          ]
        }
      ],
      "source": [
        "a = torch.ones(5)\n",
        "print(a)"
      ]
    },
    {
      "cell_type": "code",
      "execution_count": 155,
      "metadata": {
        "id": "oYItxcP2zHqm",
        "outputId": "1cfcc977-44cd-439b-805f-cdb5c80be6c3",
        "colab": {
          "base_uri": "https://localhost:8080/"
        }
      },
      "outputs": [
        {
          "output_type": "stream",
          "name": "stdout",
          "text": [
            "[1. 1. 1. 1. 1.]\n"
          ]
        }
      ],
      "source": [
        "b = a.numpy()\n",
        "print(b)"
      ]
    },
    {
      "cell_type": "markdown",
      "metadata": {
        "id": "5RRhRBUJzHqm"
      },
      "source": [
        "See how the numpy array changed in value: the `numpy()` method provides a *view* of the original tensor, not a copy."
      ]
    },
    {
      "cell_type": "code",
      "execution_count": 156,
      "metadata": {
        "id": "BnRD2am0zHqn",
        "outputId": "901fd8b7-54f2-4861-915e-1e3c6faaf568",
        "colab": {
          "base_uri": "https://localhost:8080/"
        }
      },
      "outputs": [
        {
          "output_type": "stream",
          "name": "stdout",
          "text": [
            "tensor([2., 2., 2., 2., 2.])\n",
            "[2. 2. 2. 2. 2.]\n"
          ]
        }
      ],
      "source": [
        "a.add_(1)\n",
        "print(a)\n",
        "print(b)"
      ]
    },
    {
      "cell_type": "markdown",
      "metadata": {
        "id": "Hz60zZzZzHqn"
      },
      "source": [
        "### 3.2 Converting numpy Array to torch Tensor\n",
        "\n",
        "See how changing the np array changed the torch Tensor automatically"
      ]
    },
    {
      "cell_type": "code",
      "execution_count": 157,
      "metadata": {
        "id": "7V3z8t2szHqn",
        "outputId": "eaf6bdf8-a3d8-4e47-9a71-6ae06ad529ff",
        "colab": {
          "base_uri": "https://localhost:8080/"
        }
      },
      "outputs": [
        {
          "output_type": "stream",
          "name": "stdout",
          "text": [
            "[2. 2. 2. 2. 2.]\n",
            "tensor([2., 2., 2., 2., 2.], dtype=torch.float64)\n"
          ]
        }
      ],
      "source": [
        "import numpy as np\n",
        "a = np.ones(5)\n",
        "b = torch.from_numpy(a)\n",
        "np.add(a, 1, out=a)\n",
        "print(a)\n",
        "print(b)"
      ]
    },
    {
      "cell_type": "markdown",
      "metadata": {
        "id": "S7zAbWhezHqo"
      },
      "source": [
        "# Assignment\n",
        "\n",
        "1. create a tensor of size (5, 2) containing ones\n",
        "2. now convert it to a numpy array\n",
        "3. now convert it back to a torch tensor"
      ]
    },
    {
      "cell_type": "code",
      "source": [
        "a = torch.ones(5,2)\n",
        "print(a)\n",
        "b = a.numpy()\n",
        "print(b)\n",
        "c = torch.from_numpy(b)\n",
        "print(c)"
      ],
      "metadata": {
        "id": "V8do8-wb9m1e",
        "outputId": "8006036a-470b-462c-e269-45acc52ec8b6",
        "colab": {
          "base_uri": "https://localhost:8080/"
        }
      },
      "execution_count": 159,
      "outputs": [
        {
          "output_type": "stream",
          "name": "stdout",
          "text": [
            "tensor([[1., 1.],\n",
            "        [1., 1.],\n",
            "        [1., 1.],\n",
            "        [1., 1.],\n",
            "        [1., 1.]])\n",
            "[[1. 1.]\n",
            " [1. 1.]\n",
            " [1. 1.]\n",
            " [1. 1.]\n",
            " [1. 1.]]\n",
            "tensor([[1., 1.],\n",
            "        [1., 1.],\n",
            "        [1., 1.],\n",
            "        [1., 1.],\n",
            "        [1., 1.]])\n"
          ]
        }
      ]
    },
    {
      "cell_type": "markdown",
      "metadata": {
        "id": "H2LQzIMPzHqp"
      },
      "source": [
        "All the Tensors on the CPU except a CharTensor support converting to NumPy and back.\n",
        "\n",
        "## 4 CUDA Tensors\n",
        "\n",
        "Tensors can be moved onto GPU using the `.cuda` function.\n",
        "This is not necessary, but check the `README.md` for details on how to use a GPU with docker."
      ]
    },
    {
      "cell_type": "code",
      "execution_count": 161,
      "metadata": {
        "id": "v3ZEuT2bzHqp",
        "outputId": "39ed93a3-3d2d-4d29-d4fe-432bba21e723",
        "colab": {
          "base_uri": "https://localhost:8080/"
        }
      },
      "outputs": [
        {
          "output_type": "stream",
          "name": "stdout",
          "text": [
            "CUDA not available on your machine.\n"
          ]
        }
      ],
      "source": [
        "# let us run this cell only if CUDA is available\n",
        "if torch.cuda.is_available():\n",
        "    x = x.cuda()\n",
        "    y = y.cuda()\n",
        "    z = x + y\n",
        "    # Notice that the tensors are now of type torch.cuda.FloatTensor (notice the cuda in there)\n",
        "    # This is meant as a tensor to be run on the GPU.\n",
        "    # The .cuda() does this to any parameter it is applied to.\n",
        "    print(x)\n",
        "    print(y)\n",
        "    print(z)\n",
        "else:\n",
        "    print(\"CUDA not available on your machine.\")"
      ]
    },
    {
      "cell_type": "code",
      "execution_count": 160,
      "metadata": {
        "id": "MLKx-lHPzHqp"
      },
      "outputs": [],
      "source": []
    }
  ],
  "metadata": {
    "kernelspec": {
      "display_name": "Python 3 (ipykernel)",
      "language": "python",
      "name": "python3"
    },
    "language_info": {
      "codemirror_mode": {
        "name": "ipython",
        "version": 3
      },
      "file_extension": ".py",
      "mimetype": "text/x-python",
      "name": "python",
      "nbconvert_exporter": "python",
      "pygments_lexer": "ipython3",
      "version": "3.8.12"
    },
    "colab": {
      "provenance": []
    }
  },
  "nbformat": 4,
  "nbformat_minor": 0
}